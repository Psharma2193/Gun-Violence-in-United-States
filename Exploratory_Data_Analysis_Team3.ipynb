{
  "nbformat": 4,
  "nbformat_minor": 0,
  "metadata": {
    "colab": {
      "name": "Exploratory_Data_Analysis_Team3.ipynb",
      "version": "0.3.2",
      "provenance": [],
      "collapsed_sections": [],
      "toc_visible": true,
      "include_colab_link": true
    },
    "kernelspec": {
      "name": "python3",
      "display_name": "Python 3"
    }
  },
  "cells": [
    {
      "cell_type": "markdown",
      "metadata": {
        "id": "view-in-github",
        "colab_type": "text"
      },
      "source": [
        "<a href=\"https://colab.research.google.com/github/strivedi2/Gun-Violence-in-United-States/blob/master/Exploratory_Data_Analysis_Team3.ipynb\" target=\"_parent\"><img src=\"https://colab.research.google.com/assets/colab-badge.svg\" alt=\"Open In Colab\"/></a>"
      ]
    },
    {
      "cell_type": "markdown",
      "metadata": {
        "id": "N_DeTQf9wKWq",
        "colab_type": "text"
      },
      "source": [
        "# Gun Violence in United States\n",
        "\n",
        "---\n",
        "\n",
        "Project Team 4 <br>\n",
        "**Team Members**: Bharati Malik, Gaurav Hassija, Prachi Sharma, Shruti Trivedi, Vikita Nayak"
      ]
    },
    {
      "cell_type": "markdown",
      "metadata": {
        "id": "jzmwiufkwgwD",
        "colab_type": "text"
      },
      "source": [
        "## Introduction\n",
        "This project is inspired by the [Vox article](https://www.vox.com/policy-and-politics/2017/10/2/16399418/us-gun-violence-statistics-maps-charts) on America's unique **Gun Violence** problem. The article provides 17 maps and charts that represent various aspects of Gun ownership in United States. <br> \n"
      ]
    },
    {
      "cell_type": "markdown",
      "metadata": {
        "id": "9CyFXVNT5-mR",
        "colab_type": "text"
      },
      "source": [
        "##**Background**\n",
        "\n",
        "US has a lot of guns, and very loose or non-existent regulations relating to who may access firearms makes it unique in terms of gun violence among other developed nations.\n"
      ]
    },
    {
      "cell_type": "markdown",
      "metadata": {
        "id": "evvxNTZt1aHW",
        "colab_type": "text"
      },
      "source": [
        "##**Search for relevant data**\n",
        "\n",
        "We were interested in exploring Gun ownership within each state and its relationship with suicide rates, mass shootings and officer involved shootings. After going through various sources of data, we were directed to [Gun Violence Archive](https://www.gunviolencearchive.org/). As the website states, it is an online archive of gun violence incidents collected from over 2,500  law enforcement, media, government and commercial sources daily in an effort to provide near-real time data about the results of gun violence. \n",
        "\n",
        "However, the data available for download on the website is limited by the number of rows and attributes that can  be exported as CSV. This led us to a larger and richer dataset on [Kaggle](https://www.kaggle.com/jameslko/gun-violence-data/downloads/gun-violence-data.zip/1). "
      ]
    },
    {
      "cell_type": "code",
      "metadata": {
        "id": "IjsgfH9Cv0Ra",
        "colab_type": "code",
        "colab": {}
      },
      "source": [
        "import pandas as pd\n",
        "import numpy as np\n",
        "import altair as alt\n",
        "import seaborn as sns\n",
        "\n",
        "import warnings\n",
        "warnings.filterwarnings('ignore')\n",
        "\n",
        "pd.set_option('display.max_columns',200)\n",
        "pd.set_option('display.max_rows',200)\n",
        "pd.set_option('display.max_colwidth', -1)"
      ],
      "execution_count": 0,
      "outputs": []
    },
    {
      "cell_type": "markdown",
      "metadata": {
        "id": "x3nBb3gxw9Qy",
        "colab_type": "text"
      },
      "source": [
        "## Dataset 1: Gun Violence Dataset on Kaggle\n",
        "We downloaded the gun violence dataset available on [Kaggle](https://www.kaggle.com/jameslko/gun-violence-data/downloads/gun-violence-data.zip/1). This dataset has been taken from the same website [Gun Violence Archive](https://www.gunviolencearchive.org) using web scraping with Python script (_We could not get access to the script_). \n",
        "\n",
        "The dataset has a record of more than **260,000 gun violence incidents** between **Jan 2013 - March 2018**. \n",
        "\n",
        "In addition to incident date, state, address and number of people injured and killed; the dataset also contains information about the **type of incident** (such as mass shootings, suicides, officer involved shootings etc.), **guns involved** and **participant information including age, gender** etc. which makes this a richer dataset when compared to reports available on  [Gun Violence Archive](https://www.gunviolencearchive.org).\n"
      ]
    },
    {
      "cell_type": "markdown",
      "metadata": {
        "id": "ySca1gIR3Zlm",
        "colab_type": "text"
      },
      "source": [
        "### Preliminary Data Cleaning using MS Excel\n",
        "\n",
        "In preliminary analysis of the dataset, following columns were deleted in the csv file before uploading on github as they were not relevant to our analysis.\n",
        "\n",
        "\n",
        "*   Address, location description : We decided to retain State, City, Latitutde and longitude for each incident and  believe address is not pertinent to our analysis.\n",
        "\n",
        "*   In addition URL columns directing to source of incident were also deleted.\n",
        "\n",
        "\n",
        "\n",
        "\n",
        "Next, separate csv files were created for each year from 2013 - 2018 (to satisfy the 25MB file limit on github)and uploaded on [GitHub](https://github.com/strivedi2/Gun-Violence-in-United-States).  We read those files in the following lines of code.\n",
        "\n"
      ]
    },
    {
      "cell_type": "code",
      "metadata": {
        "id": "jaDAELagwHx7",
        "colab_type": "code",
        "colab": {}
      },
      "source": [
        "guns_2013 = pd.read_csv('https://raw.githubusercontent.com/strivedi2/Gun-Violence-in-United-States/master/gun-violence-2013.csv')\n",
        "guns_2014 = pd.read_csv('https://raw.githubusercontent.com/strivedi2/Gun-Violence-in-United-States/master/gun-violence-2014.csv')\n",
        "guns_2015 = pd.read_csv('https://raw.githubusercontent.com/strivedi2/Gun-Violence-in-United-States/master/gun-violence-2015.csv')\n",
        "guns_2016 = pd.read_csv('https://raw.githubusercontent.com/strivedi2/Gun-Violence-in-United-States/master/gun-violence-2016.csv')\n",
        "guns_2017 = pd.read_csv('https://raw.githubusercontent.com/strivedi2/Gun-Violence-in-United-States/master/gun-violence-2017.csv')\n",
        "guns_2018 = pd.read_csv('https://raw.githubusercontent.com/strivedi2/Gun-Violence-in-United-States/master/gun-violence-2018.csv')"
      ],
      "execution_count": 0,
      "outputs": []
    },
    {
      "cell_type": "markdown",
      "metadata": {
        "id": "FKal0CdyBjQZ",
        "colab_type": "text"
      },
      "source": [
        "We concatenated the above dataframes to create a single dataframe."
      ]
    },
    {
      "cell_type": "code",
      "metadata": {
        "id": "XJA9kgevBkZ0",
        "colab_type": "code",
        "colab": {}
      },
      "source": [
        "guns_df = guns_2013.append([guns_2014,guns_2015,guns_2016,guns_2017,guns_2018])"
      ],
      "execution_count": 0,
      "outputs": []
    },
    {
      "cell_type": "markdown",
      "metadata": {
        "id": "TdwuO1qKFj2i",
        "colab_type": "text"
      },
      "source": [
        "We then checked for total number of columns and rows and identify if there are any columns with very high number of null values."
      ]
    },
    {
      "cell_type": "code",
      "metadata": {
        "id": "QVRBgNV5DxZN",
        "colab_type": "code",
        "outputId": "8aaaef77-fc10-4287-d25b-d2bcf93f2652",
        "colab": {
          "base_uri": "https://localhost:8080/",
          "height": 35
        }
      },
      "source": [
        "guns_df.shape"
      ],
      "execution_count": 4,
      "outputs": [
        {
          "output_type": "execute_result",
          "data": {
            "text/plain": [
              "(239677, 19)"
            ]
          },
          "metadata": {
            "tags": []
          },
          "execution_count": 4
        }
      ]
    },
    {
      "cell_type": "code",
      "metadata": {
        "id": "JDFOCCRlE9Zz",
        "colab_type": "code",
        "outputId": "c4fc4971-d26f-42dc-9a27-219c1309ab92",
        "colab": {
          "base_uri": "https://localhost:8080/",
          "height": 363
        }
      },
      "source": [
        "# To check for null values in the dataset\n",
        "guns_df.isna().sum()"
      ],
      "execution_count": 5,
      "outputs": [
        {
          "output_type": "execute_result",
          "data": {
            "text/plain": [
              "incident_id                 0    \n",
              "date                        0    \n",
              "state                       0    \n",
              "city_or_county              0    \n",
              "n_killed                    0    \n",
              "n_injured                   0    \n",
              "congressional_district      11944\n",
              "gun_stolen                  99498\n",
              "gun_type                    99451\n",
              "incident_characteristics    326  \n",
              "latitude                    7923 \n",
              "longitude                   7923 \n",
              "n_guns_involved             99451\n",
              "participant_age_group       42119\n",
              "participant_gender          36362\n",
              "participant_status          27626\n",
              "participant_type            24863\n",
              "state_house_district        38772\n",
              "state_senate_district       32335\n",
              "dtype: int64"
            ]
          },
          "metadata": {
            "tags": []
          },
          "execution_count": 5
        }
      ]
    },
    {
      "cell_type": "markdown",
      "metadata": {
        "id": "R-Oh8VdbI6i8",
        "colab_type": "text"
      },
      "source": [
        "### **Data Cleaning**"
      ]
    },
    {
      "cell_type": "markdown",
      "metadata": {
        "id": "ic-C-n1XIR08",
        "colab_type": "text"
      },
      "source": [
        "**Drop columns with high null values** <br>\n",
        "We dropped columns where the null values were greater than 90,000 since we believe they will not be relevant to our analyses. <br>"
      ]
    },
    {
      "cell_type": "code",
      "metadata": {
        "id": "NABQKMf6hrPG",
        "colab_type": "code",
        "colab": {}
      },
      "source": [
        "guns_df.drop(columns =['gun_stolen','gun_type','n_guns_involved'], inplace = True)"
      ],
      "execution_count": 0,
      "outputs": []
    },
    {
      "cell_type": "markdown",
      "metadata": {
        "id": "6XQUHiUh6-na",
        "colab_type": "text"
      },
      "source": [
        "At this stage, the dataframe has following columns"
      ]
    },
    {
      "cell_type": "code",
      "metadata": {
        "id": "tIWVJhlwhQkT",
        "colab_type": "code",
        "outputId": "60aa59f0-6ea9-4edd-8f51-f7413147f9bd",
        "colab": {
          "base_uri": "https://localhost:8080/",
          "height": 121
        }
      },
      "source": [
        "guns_df.columns"
      ],
      "execution_count": 7,
      "outputs": [
        {
          "output_type": "execute_result",
          "data": {
            "text/plain": [
              "Index(['incident_id', 'date', 'state', 'city_or_county', 'n_killed',\n",
              "       'n_injured', 'congressional_district', 'incident_characteristics',\n",
              "       'latitude', 'longitude', 'participant_age_group', 'participant_gender',\n",
              "       'participant_status', 'participant_type', 'state_house_district',\n",
              "       'state_senate_district'],\n",
              "      dtype='object')"
            ]
          },
          "metadata": {
            "tags": []
          },
          "execution_count": 7
        }
      ]
    },
    {
      "cell_type": "code",
      "metadata": {
        "id": "3S6LG3T0FAuD",
        "colab_type": "code",
        "outputId": "58c50eba-cbb4-41b0-8761-232f7218e438",
        "colab": {
          "base_uri": "https://localhost:8080/",
          "height": 370
        }
      },
      "source": [
        "guns_df.head(2)"
      ],
      "execution_count": 8,
      "outputs": [
        {
          "output_type": "execute_result",
          "data": {
            "text/html": [
              "<div>\n",
              "<style scoped>\n",
              "    .dataframe tbody tr th:only-of-type {\n",
              "        vertical-align: middle;\n",
              "    }\n",
              "\n",
              "    .dataframe tbody tr th {\n",
              "        vertical-align: top;\n",
              "    }\n",
              "\n",
              "    .dataframe thead th {\n",
              "        text-align: right;\n",
              "    }\n",
              "</style>\n",
              "<table border=\"1\" class=\"dataframe\">\n",
              "  <thead>\n",
              "    <tr style=\"text-align: right;\">\n",
              "      <th></th>\n",
              "      <th>incident_id</th>\n",
              "      <th>date</th>\n",
              "      <th>state</th>\n",
              "      <th>city_or_county</th>\n",
              "      <th>n_killed</th>\n",
              "      <th>n_injured</th>\n",
              "      <th>congressional_district</th>\n",
              "      <th>incident_characteristics</th>\n",
              "      <th>latitude</th>\n",
              "      <th>longitude</th>\n",
              "      <th>participant_age_group</th>\n",
              "      <th>participant_gender</th>\n",
              "      <th>participant_status</th>\n",
              "      <th>participant_type</th>\n",
              "      <th>state_house_district</th>\n",
              "      <th>state_senate_district</th>\n",
              "    </tr>\n",
              "  </thead>\n",
              "  <tbody>\n",
              "    <tr>\n",
              "      <th>0</th>\n",
              "      <td>461105</td>\n",
              "      <td>1/1/13</td>\n",
              "      <td>Pennsylvania</td>\n",
              "      <td>Mckeesport</td>\n",
              "      <td>0</td>\n",
              "      <td>4</td>\n",
              "      <td>14.0</td>\n",
              "      <td>Shot - Wounded/Injured||Mass Shooting (4+ victims injured or killed excluding the subject/suspect/perpetrator, one location)||Possession (gun(s) found during commission of other crimes)||Possession of gun by felon or prohibited person</td>\n",
              "      <td>40.3467</td>\n",
              "      <td>-79.8559</td>\n",
              "      <td>0::Adult 18+||1::Adult 18+||2::Adult 18+||3::Adult 18+||4::Adult 18+</td>\n",
              "      <td>0::Male||1::Male||3::Male||4::Female</td>\n",
              "      <td>0::Arrested||1::Injured||2::Injured||3::Injured||4::Injured</td>\n",
              "      <td>0::Victim||1::Victim||2::Victim||3::Victim||4::Subject-Suspect</td>\n",
              "      <td>NaN</td>\n",
              "      <td>NaN</td>\n",
              "    </tr>\n",
              "    <tr>\n",
              "      <th>1</th>\n",
              "      <td>460726</td>\n",
              "      <td>1/1/13</td>\n",
              "      <td>California</td>\n",
              "      <td>Hawthorne</td>\n",
              "      <td>1</td>\n",
              "      <td>3</td>\n",
              "      <td>43.0</td>\n",
              "      <td>Shot - Wounded/Injured||Shot - Dead (murder, accidental, suicide)||Mass Shooting (4+ victims injured or killed excluding the subject/suspect/perpetrator, one location)||Gang involvement</td>\n",
              "      <td>33.9090</td>\n",
              "      <td>-118.3330</td>\n",
              "      <td>0::Adult 18+||1::Adult 18+||2::Adult 18+||3::Adult 18+</td>\n",
              "      <td>0::Male</td>\n",
              "      <td>0::Killed||1::Injured||2::Injured||3::Injured</td>\n",
              "      <td>0::Victim||1::Victim||2::Victim||3::Victim||4::Subject-Suspect</td>\n",
              "      <td>62.0</td>\n",
              "      <td>35.0</td>\n",
              "    </tr>\n",
              "  </tbody>\n",
              "</table>\n",
              "</div>"
            ],
            "text/plain": [
              "   incident_id    date         state city_or_county  n_killed  n_injured  \\\n",
              "0  461105       1/1/13  Pennsylvania  Mckeesport     0         4           \n",
              "1  460726       1/1/13  California    Hawthorne      1         3           \n",
              "\n",
              "   congressional_district  \\\n",
              "0  14.0                     \n",
              "1  43.0                     \n",
              "\n",
              "                                                                                                                                                                                                                     incident_characteristics  \\\n",
              "0  Shot - Wounded/Injured||Mass Shooting (4+ victims injured or killed excluding the subject/suspect/perpetrator, one location)||Possession (gun(s) found during commission of other crimes)||Possession of gun by felon or prohibited person   \n",
              "1  Shot - Wounded/Injured||Shot - Dead (murder, accidental, suicide)||Mass Shooting (4+ victims injured or killed excluding the subject/suspect/perpetrator, one location)||Gang involvement                                                    \n",
              "\n",
              "   latitude  longitude  \\\n",
              "0  40.3467  -79.8559     \n",
              "1  33.9090  -118.3330    \n",
              "\n",
              "                                                  participant_age_group  \\\n",
              "0  0::Adult 18+||1::Adult 18+||2::Adult 18+||3::Adult 18+||4::Adult 18+   \n",
              "1  0::Adult 18+||1::Adult 18+||2::Adult 18+||3::Adult 18+                 \n",
              "\n",
              "                     participant_gender  \\\n",
              "0  0::Male||1::Male||3::Male||4::Female   \n",
              "1  0::Male                                \n",
              "\n",
              "                                            participant_status  \\\n",
              "0  0::Arrested||1::Injured||2::Injured||3::Injured||4::Injured   \n",
              "1  0::Killed||1::Injured||2::Injured||3::Injured                 \n",
              "\n",
              "                                                 participant_type  \\\n",
              "0  0::Victim||1::Victim||2::Victim||3::Victim||4::Subject-Suspect   \n",
              "1  0::Victim||1::Victim||2::Victim||3::Victim||4::Subject-Suspect   \n",
              "\n",
              "   state_house_district  state_senate_district  \n",
              "0 NaN                   NaN                     \n",
              "1  62.0                  35.0                   "
            ]
          },
          "metadata": {
            "tags": []
          },
          "execution_count": 8
        }
      ]
    },
    {
      "cell_type": "markdown",
      "metadata": {
        "id": "aEnitRuc7Tgm",
        "colab_type": "text"
      },
      "source": [
        "We have created Date Fields from the date column to help us plot yearly, monthly or weekly gun violence trends."
      ]
    },
    {
      "cell_type": "code",
      "metadata": {
        "id": "dacJemcoeeL5",
        "colab_type": "code",
        "colab": {}
      },
      "source": [
        "# Creating Date fields \n",
        "\n",
        "guns_df['date'] = pd.to_datetime(guns_df['date'])\n",
        "guns_df['year'] = guns_df['date'].dt.year\n",
        "guns_df['month'] = guns_df['date'].dt.month\n",
        "guns_df['monthday'] = guns_df['date'].dt.day\n",
        "guns_df['weekday'] = guns_df['date'].dt.weekday"
      ],
      "execution_count": 0,
      "outputs": []
    },
    {
      "cell_type": "markdown",
      "metadata": {
        "id": "bLnD4rJnSGeJ",
        "colab_type": "text"
      },
      "source": [
        "### **Understanding types of gun violence incidents**\n",
        "\n",
        "We wanted to categorize each incident into - **Mass Shooting, Suicide and/ or Officer Involved Shooting.**\n",
        "\n",
        "We checked for above keywords in the incident_characateristics column. Since these are not mutually exclusive incidents we created new columns to indicate 1 if it was a Mass Shooting and 0 if not. Same approach was followed for Suicide and/ or Officer Involved Shooting columns."
      ]
    },
    {
      "cell_type": "code",
      "metadata": {
        "id": "Ln1FWRyIKfRK",
        "colab_type": "code",
        "colab": {}
      },
      "source": [
        "# New columns for Mass Shootings, Suicides, Officer Involved Shooting in original dataframe\n",
        "\n",
        "guns_df['Mass_Shooting'] = guns_df['incident_characteristics'].str.contains(\"Mass Shooting\") * 1.0\n",
        "\n",
        "guns_df['Officer_Involved_Shooting'] = guns_df['incident_characteristics'].str.contains(\"Officer Involved Shooting\") * 1.0\n",
        "\n",
        "guns_df['Suicide'] = guns_df['incident_characteristics'].str.contains(\"Suicide\") * 1.0\n"
      ],
      "execution_count": 0,
      "outputs": []
    },
    {
      "cell_type": "markdown",
      "metadata": {
        "id": "qZRrTgpQShvO",
        "colab_type": "text"
      },
      "source": [
        "We also found a high number of incidents involving **Gun possession by felons and Accidental Shootings** and created new columns to record these characterstics. \n",
        "\n",
        "We believe these aspects are important for analysis across different states. States with stricter laws should ideally be not allowing guns to get into hands of felons. \n",
        "\n",
        "Also, we want to understand how many people are injured due to accidental shootings."
      ]
    },
    {
      "cell_type": "code",
      "metadata": {
        "id": "WtQBuaNZRk3N",
        "colab_type": "code",
        "colab": {}
      },
      "source": [
        "guns_df['Gun_Possession_felon'] = guns_df['incident_characteristics'].str.contains(\"Possession of gun by felon\") * 1.0\n",
        "\n",
        "guns_df['Accidental_Shootings'] = guns_df['incident_characteristics'].str.contains(\"Accidental Shooting\") * 1.0"
      ],
      "execution_count": 0,
      "outputs": []
    },
    {
      "cell_type": "code",
      "metadata": {
        "id": "HYAQQnymRZ3d",
        "colab_type": "code",
        "colab": {}
      },
      "source": [
        "# Drop columns incident_characterstics\n",
        "guns_df.drop(columns ='incident_characteristics', inplace = True)"
      ],
      "execution_count": 0,
      "outputs": []
    },
    {
      "cell_type": "code",
      "metadata": {
        "id": "1xSuGrrbva15",
        "colab_type": "code",
        "outputId": "7d8494fb-ea81-44c3-a103-793b4c2181e2",
        "colab": {
          "base_uri": "https://localhost:8080/",
          "height": 155
        }
      },
      "source": [
        "guns_df.columns"
      ],
      "execution_count": 13,
      "outputs": [
        {
          "output_type": "execute_result",
          "data": {
            "text/plain": [
              "Index(['incident_id', 'date', 'state', 'city_or_county', 'n_killed',\n",
              "       'n_injured', 'congressional_district', 'latitude', 'longitude',\n",
              "       'participant_age_group', 'participant_gender', 'participant_status',\n",
              "       'participant_type', 'state_house_district', 'state_senate_district',\n",
              "       'year', 'month', 'monthday', 'weekday', 'Mass_Shooting',\n",
              "       'Officer_Involved_Shooting', 'Suicide', 'Gun_Possession_felon',\n",
              "       'Accidental_Shootings'],\n",
              "      dtype='object')"
            ]
          },
          "metadata": {
            "tags": []
          },
          "execution_count": 13
        }
      ]
    },
    {
      "cell_type": "markdown",
      "metadata": {
        "id": "HBCdtfm7DDOo",
        "colab_type": "text"
      },
      "source": [
        "### Overall trend of gun violence incidents"
      ]
    },
    {
      "cell_type": "code",
      "metadata": {
        "id": "fTz8GJTuDJct",
        "colab_type": "code",
        "outputId": "b2bf52db-8aca-4d75-8ad8-92b1813a1e96",
        "colab": {
          "base_uri": "https://localhost:8080/",
          "height": 394
        }
      },
      "source": [
        "# Plotting yearly trend of gun violence incidents in United States\n",
        "alt.Chart(guns_df.groupby('year')['incident_id'].count().reset_index()).mark_line().encode(\n",
        "    alt.X('year:O', title = 'Year'),\n",
        "    alt.Y('incident_id', title = 'Total number of gun violence incidents')\n",
        ").properties(\n",
        "    title = 'Trend of gun violence incidents, Jan. 2013 - Mar. 2018',\n",
        "    width=600).configure_axis(\n",
        "    grid=False\n",
        ")\n",
        "\n"
      ],
      "execution_count": 14,
      "outputs": [
        {
          "output_type": "execute_result",
          "data": {
            "text/plain": [
              "Chart({\n",
              "  config: Config({\n",
              "    axis: AxisConfig({\n",
              "      grid: False\n",
              "    })\n",
              "  }),\n",
              "  data:    year  incident_id\n",
              "  0  2013  278        \n",
              "  1  2014  51854      \n",
              "  2  2015  53579      \n",
              "  3  2016  58763      \n",
              "  4  2017  61401      \n",
              "  5  2018  13802      ,\n",
              "  encoding: FacetedEncoding({\n",
              "    x: X({\n",
              "      shorthand: 'year:O',\n",
              "      title: 'Year'\n",
              "    }),\n",
              "    y: Y({\n",
              "      shorthand: 'incident_id',\n",
              "      title: 'Total number of gun violence incidents'\n",
              "    })\n",
              "  }),\n",
              "  mark: 'line',\n",
              "  title: 'Trend of gun violence incidents, Jan. 2013 - Mar. 2018',\n",
              "  width: 600\n",
              "})"
            ],
            "text/html": [
              "<!DOCTYPE html>\n",
              "<html>\n",
              "<head>\n",
              "  <style>\n",
              "    .vega-actions a {\n",
              "        margin-right: 12px;\n",
              "        color: #757575;\n",
              "        font-weight: normal;\n",
              "        font-size: 13px;\n",
              "    }\n",
              "    .error {\n",
              "        color: red;\n",
              "    }\n",
              "  </style>\n",
              "  <script type=\"text/javascript\" src=\"https://cdn.jsdelivr.net/npm//vega@5\"></script>\n",
              "  <script type=\"text/javascript\" src=\"https://cdn.jsdelivr.net/npm//vega-lite@3.2.1\"></script>\n",
              "  <script type=\"text/javascript\" src=\"https://cdn.jsdelivr.net/npm//vega-embed@4\"></script>\n",
              "</head>\n",
              "<body>\n",
              "  <div id=\"altair-viz\"></div>\n",
              "  <script>\n",
              "      var spec = {\"config\": {\"view\": {\"width\": 400, \"height\": 300}, \"mark\": {\"tooltip\": null}, \"axis\": {\"grid\": false}}, \"data\": {\"name\": \"data-1aa777a4f64995ab6788cdd7d0c98d96\"}, \"mark\": \"line\", \"encoding\": {\"x\": {\"type\": \"ordinal\", \"field\": \"year\", \"title\": \"Year\"}, \"y\": {\"type\": \"quantitative\", \"field\": \"incident_id\", \"title\": \"Total number of gun violence incidents\"}}, \"title\": \"Trend of gun violence incidents, Jan. 2013 - Mar. 2018\", \"width\": 600, \"$schema\": \"https://vega.github.io/schema/vega-lite/v3.2.1.json\", \"datasets\": {\"data-1aa777a4f64995ab6788cdd7d0c98d96\": [{\"year\": 2013, \"incident_id\": 278}, {\"year\": 2014, \"incident_id\": 51854}, {\"year\": 2015, \"incident_id\": 53579}, {\"year\": 2016, \"incident_id\": 58763}, {\"year\": 2017, \"incident_id\": 61401}, {\"year\": 2018, \"incident_id\": 13802}]}};\n",
              "      var embedOpt = {\"mode\": \"vega-lite\"};\n",
              "\n",
              "      function showError(el, error){\n",
              "          el.innerHTML = ('<div class=\"error\" style=\"color:red;\">'\n",
              "                          + '<p>JavaScript Error: ' + error.message + '</p>'\n",
              "                          + \"<p>This usually means there's a typo in your chart specification. \"\n",
              "                          + \"See the javascript console for the full traceback.</p>\"\n",
              "                          + '</div>');\n",
              "          throw error;\n",
              "      }\n",
              "      const el = document.getElementById('altair-viz');\n",
              "      vegaEmbed(\"#altair-viz\", spec, embedOpt)\n",
              "        .catch(error => showError(el, error));\n",
              "\n",
              "  </script>\n",
              "</body>\n",
              "</html>"
            ]
          },
          "metadata": {
            "tags": []
          },
          "execution_count": 14
        }
      ]
    },
    {
      "cell_type": "markdown",
      "metadata": {
        "id": "pV5rr1CtnCXe",
        "colab_type": "text"
      },
      "source": [
        "**Number of mass shootings by state.**"
      ]
    },
    {
      "cell_type": "code",
      "metadata": {
        "id": "OAq4cyVQTGxv",
        "colab_type": "code",
        "outputId": "0ccb7f94-5874-479b-e282-0fb7afed3391",
        "colab": {
          "base_uri": "https://localhost:8080/",
          "height": 563
        }
      },
      "source": [
        "alt.Chart(guns_df.groupby('state')['Mass_Shooting'].count().reset_index()).mark_bar().encode(\n",
        "    alt.X('state', title = 'State', \n",
        "         sort=alt.EncodingSortField(\n",
        "            field=\"Mass_Shooting\",\n",
        "            op=\"sum\",\n",
        "            order=\"descending\"\n",
        "        )),\n",
        "    alt.Y('Mass_Shooting', title = 'Total number of mass shootings')\n",
        ").properties(\n",
        "    title='Number of mass shootings by state (2013-2018)',\n",
        "    width=650,\n",
        "    height=400\n",
        ").configure_axis(\n",
        "    grid=False\n",
        ")"
      ],
      "execution_count": 15,
      "outputs": [
        {
          "output_type": "execute_result",
          "data": {
            "text/plain": [
              "Chart({\n",
              "  config: Config({\n",
              "    axis: AxisConfig({\n",
              "      grid: False\n",
              "    })\n",
              "  }),\n",
              "  data:                    state  Mass_Shooting\n",
              "  0   Alabama               5470         \n",
              "  1   Alaska                1349         \n",
              "  2   Arizona               2325         \n",
              "  3   Arkansas              2841         \n",
              "  4   California            16289        \n",
              "  5   Colorado              3199         \n",
              "  6   Connecticut           3064         \n",
              "  7   Delaware              1685         \n",
              "  8   District of Columbia  3191         \n",
              "  9   Florida               15020        \n",
              "  10  Georgia               8922         \n",
              "  11  Hawaii                288          \n",
              "  12  Idaho                 661          \n",
              "  13  Illinois              17506        \n",
              "  14  Indiana               5835         \n",
              "  15  Iowa                  2511         \n",
              "  16  Kansas                2145         \n",
              "  17  Kentucky              4148         \n",
              "  18  Louisiana             8083         \n",
              "  19  Maine                 907          \n",
              "  20  Maryland              5792         \n",
              "  21  Massachusetts         5976         \n",
              "  22  Michigan              6113         \n",
              "  23  Minnesota             2405         \n",
              "  24  Mississippi           3597         \n",
              "  25  Missouri              6628         \n",
              "  26  Montana               638          \n",
              "  27  Nebraska              1651         \n",
              "  28  Nevada                1948         \n",
              "  29  New Hampshire         964          \n",
              "  30  New Jersey            5383         \n",
              "  31  New Mexico            1642         \n",
              "  32  New York              9703         \n",
              "  33  North Carolina        8732         \n",
              "  34  North Dakota          572          \n",
              "  35  Ohio                  10225        \n",
              "  36  Oklahoma              3450         \n",
              "  37  Oregon                2286         \n",
              "  38  Pennsylvania          8925         \n",
              "  39  Rhode Island          895          \n",
              "  40  South Carolina        6933         \n",
              "  41  South Dakota          543          \n",
              "  42  Tennessee             7617         \n",
              "  43  Texas                 13539        \n",
              "  44  Utah                  1072         \n",
              "  45  Vermont               472          \n",
              "  46  Virginia              5932         \n",
              "  47  Washington            3433         \n",
              "  48  West Virginia         1575         \n",
              "  49  Wisconsin             4778         \n",
              "  50  Wyoming               493          ,\n",
              "  encoding: FacetedEncoding({\n",
              "    x: X({\n",
              "      shorthand: 'state',\n",
              "      sort: EncodingSortField({\n",
              "        field: 'Mass_Shooting',\n",
              "        op: 'sum',\n",
              "        order: 'descending'\n",
              "      }),\n",
              "      title: 'State'\n",
              "    }),\n",
              "    y: Y({\n",
              "      shorthand: 'Mass_Shooting',\n",
              "      title: 'Total number of mass shootings'\n",
              "    })\n",
              "  }),\n",
              "  height: 400,\n",
              "  mark: 'bar',\n",
              "  title: 'Number of mass shootings by state (2013-2018)',\n",
              "  width: 650\n",
              "})"
            ],
            "text/html": [
              "<!DOCTYPE html>\n",
              "<html>\n",
              "<head>\n",
              "  <style>\n",
              "    .vega-actions a {\n",
              "        margin-right: 12px;\n",
              "        color: #757575;\n",
              "        font-weight: normal;\n",
              "        font-size: 13px;\n",
              "    }\n",
              "    .error {\n",
              "        color: red;\n",
              "    }\n",
              "  </style>\n",
              "  <script type=\"text/javascript\" src=\"https://cdn.jsdelivr.net/npm//vega@5\"></script>\n",
              "  <script type=\"text/javascript\" src=\"https://cdn.jsdelivr.net/npm//vega-lite@3.2.1\"></script>\n",
              "  <script type=\"text/javascript\" src=\"https://cdn.jsdelivr.net/npm//vega-embed@4\"></script>\n",
              "</head>\n",
              "<body>\n",
              "  <div id=\"altair-viz\"></div>\n",
              "  <script>\n",
              "      var spec = {\"config\": {\"view\": {\"width\": 400, \"height\": 300}, \"mark\": {\"tooltip\": null}, \"axis\": {\"grid\": false}}, \"data\": {\"name\": \"data-9f14693fd8dc5d1a3cad807d4028de5f\"}, \"mark\": \"bar\", \"encoding\": {\"x\": {\"type\": \"nominal\", \"field\": \"state\", \"sort\": {\"field\": \"Mass_Shooting\", \"op\": \"sum\", \"order\": \"descending\"}, \"title\": \"State\"}, \"y\": {\"type\": \"quantitative\", \"field\": \"Mass_Shooting\", \"title\": \"Total number of mass shootings\"}}, \"height\": 400, \"title\": \"Number of mass shootings by state (2013-2018)\", \"width\": 650, \"$schema\": \"https://vega.github.io/schema/vega-lite/v3.2.1.json\", \"datasets\": {\"data-9f14693fd8dc5d1a3cad807d4028de5f\": [{\"state\": \"Alabama\", \"Mass_Shooting\": 5470}, {\"state\": \"Alaska\", \"Mass_Shooting\": 1349}, {\"state\": \"Arizona\", \"Mass_Shooting\": 2325}, {\"state\": \"Arkansas\", \"Mass_Shooting\": 2841}, {\"state\": \"California\", \"Mass_Shooting\": 16289}, {\"state\": \"Colorado\", \"Mass_Shooting\": 3199}, {\"state\": \"Connecticut\", \"Mass_Shooting\": 3064}, {\"state\": \"Delaware\", \"Mass_Shooting\": 1685}, {\"state\": \"District of Columbia\", \"Mass_Shooting\": 3191}, {\"state\": \"Florida\", \"Mass_Shooting\": 15020}, {\"state\": \"Georgia\", \"Mass_Shooting\": 8922}, {\"state\": \"Hawaii\", \"Mass_Shooting\": 288}, {\"state\": \"Idaho\", \"Mass_Shooting\": 661}, {\"state\": \"Illinois\", \"Mass_Shooting\": 17506}, {\"state\": \"Indiana\", \"Mass_Shooting\": 5835}, {\"state\": \"Iowa\", \"Mass_Shooting\": 2511}, {\"state\": \"Kansas\", \"Mass_Shooting\": 2145}, {\"state\": \"Kentucky\", \"Mass_Shooting\": 4148}, {\"state\": \"Louisiana\", \"Mass_Shooting\": 8083}, {\"state\": \"Maine\", \"Mass_Shooting\": 907}, {\"state\": \"Maryland\", \"Mass_Shooting\": 5792}, {\"state\": \"Massachusetts\", \"Mass_Shooting\": 5976}, {\"state\": \"Michigan\", \"Mass_Shooting\": 6113}, {\"state\": \"Minnesota\", \"Mass_Shooting\": 2405}, {\"state\": \"Mississippi\", \"Mass_Shooting\": 3597}, {\"state\": \"Missouri\", \"Mass_Shooting\": 6628}, {\"state\": \"Montana\", \"Mass_Shooting\": 638}, {\"state\": \"Nebraska\", \"Mass_Shooting\": 1651}, {\"state\": \"Nevada\", \"Mass_Shooting\": 1948}, {\"state\": \"New Hampshire\", \"Mass_Shooting\": 964}, {\"state\": \"New Jersey\", \"Mass_Shooting\": 5383}, {\"state\": \"New Mexico\", \"Mass_Shooting\": 1642}, {\"state\": \"New York\", \"Mass_Shooting\": 9703}, {\"state\": \"North Carolina\", \"Mass_Shooting\": 8732}, {\"state\": \"North Dakota\", \"Mass_Shooting\": 572}, {\"state\": \"Ohio\", \"Mass_Shooting\": 10225}, {\"state\": \"Oklahoma\", \"Mass_Shooting\": 3450}, {\"state\": \"Oregon\", \"Mass_Shooting\": 2286}, {\"state\": \"Pennsylvania\", \"Mass_Shooting\": 8925}, {\"state\": \"Rhode Island\", \"Mass_Shooting\": 895}, {\"state\": \"South Carolina\", \"Mass_Shooting\": 6933}, {\"state\": \"South Dakota\", \"Mass_Shooting\": 543}, {\"state\": \"Tennessee\", \"Mass_Shooting\": 7617}, {\"state\": \"Texas\", \"Mass_Shooting\": 13539}, {\"state\": \"Utah\", \"Mass_Shooting\": 1072}, {\"state\": \"Vermont\", \"Mass_Shooting\": 472}, {\"state\": \"Virginia\", \"Mass_Shooting\": 5932}, {\"state\": \"Washington\", \"Mass_Shooting\": 3433}, {\"state\": \"West Virginia\", \"Mass_Shooting\": 1575}, {\"state\": \"Wisconsin\", \"Mass_Shooting\": 4778}, {\"state\": \"Wyoming\", \"Mass_Shooting\": 493}]}};\n",
              "      var embedOpt = {\"mode\": \"vega-lite\"};\n",
              "\n",
              "      function showError(el, error){\n",
              "          el.innerHTML = ('<div class=\"error\" style=\"color:red;\">'\n",
              "                          + '<p>JavaScript Error: ' + error.message + '</p>'\n",
              "                          + \"<p>This usually means there's a typo in your chart specification. \"\n",
              "                          + \"See the javascript console for the full traceback.</p>\"\n",
              "                          + '</div>');\n",
              "          throw error;\n",
              "      }\n",
              "      const el = document.getElementById('altair-viz');\n",
              "      vegaEmbed(\"#altair-viz\", spec, embedOpt)\n",
              "        .catch(error => showError(el, error));\n",
              "\n",
              "  </script>\n",
              "</body>\n",
              "</html>"
            ]
          },
          "metadata": {
            "tags": []
          },
          "execution_count": 15
        }
      ]
    },
    {
      "cell_type": "markdown",
      "metadata": {
        "id": "hSkyQqdDlcPC",
        "colab_type": "text"
      },
      "source": [
        "### **Limitations in the Dataset**"
      ]
    },
    {
      "cell_type": "markdown",
      "metadata": {
        "id": "1j01GuTylcHy",
        "colab_type": "text"
      },
      "source": [
        "One of the challenges encountered in our analysis were caused by how the gun violence incidents were recorded in the dataset. Each entry in the dataset identifies an incident. Hence essential columns like Age, Participant type(suspect or victim), Gender were recorded in group. \n",
        "\n",
        "\n",
        "\n",
        "Participant Gender  | Participant Type\n",
        "--- | ---\n",
        "0::Male\\|1::Male\\|2::Male\\|3::Female | 0::Victim\\|1::Victim\\|2::Victim\\|3::Subject-Suspect\n",
        "\n",
        "\n",
        "The challenge was to map these columns with each other to derive insights. For instance to know the Age of a particular participant like Suspect of the incident required valid mapping. Each record had different number of participants which made the extraction of the values even difficult.\n",
        "\n",
        "For analysing the profile of Victims and Suspects we followed approach taken in this  [Kaggle Kernel](https://www.kaggle.com/shivamb/deep-exploration-of-gun-violence-in-us)."
      ]
    },
    {
      "cell_type": "code",
      "metadata": {
        "id": "MliWm3bCURSP",
        "colab_type": "code",
        "colab": {}
      },
      "source": [
        "## Function for converting the values in form of key, value pair\n",
        "def get_user_mapping(txt):\n",
        "    if txt == \"NA\":\n",
        "        return {}\n",
        "    mapping = {}\n",
        "    for d in txt.split(\"||\"):\n",
        "        try:\n",
        "            key = d.split(\"::\")[0]\n",
        "            val = d.split(\"::\")[1]\n",
        "            if key not in mapping:\n",
        "                mapping[key] = val\n",
        "        except:\n",
        "            pass\n",
        "\n",
        "    return mapping"
      ],
      "execution_count": 0,
      "outputs": []
    },
    {
      "cell_type": "code",
      "metadata": {
        "id": "eEfgqr78UROu",
        "colab_type": "code",
        "colab": {}
      },
      "source": [
        "# Creating mapped columns for participants age group, type and gender\n",
        "guns_df['participant_type'] = guns_df['participant_type'].fillna(\"NA\")\n",
        "guns_df['participant_type_map'] = guns_df['participant_type'].apply(lambda x : get_user_mapping(x))\n",
        "guns_df['participant_age_group'] = guns_df['participant_age_group'].fillna(\"NA\")\n",
        "guns_df['participant_age_map'] = guns_df['participant_age_group'].apply(lambda x : get_user_mapping(x))\n",
        "guns_df['participant_gender'] = guns_df['participant_gender'].fillna(\"NA\")\n",
        "guns_df['participant_gender_map'] = guns_df['participant_gender'].apply(lambda x : get_user_mapping(x))"
      ],
      "execution_count": 0,
      "outputs": []
    },
    {
      "cell_type": "markdown",
      "metadata": {
        "id": "TaJJkMMWT8-H",
        "colab_type": "text"
      },
      "source": [
        "### **Understanding Gun Violence Suspects Profile**\n",
        "\n",
        "We wanted to analyze age and gender of suspects and victims of gun violence to identify any significant trends/insights.\n",
        "\n",
        "\n",
        "For analysing the profile of Victims and Suspects we followed approach taken in this  [Kaggle Kernel](https://www.kaggle.com/shivamb/deep-exploration-of-gun-violence-in-us)."
      ]
    },
    {
      "cell_type": "code",
      "metadata": {
        "id": "yMH50FZ_URIW",
        "colab_type": "code",
        "colab": {}
      },
      "source": [
        "## Finding the Suspect Age Groups\n",
        "suspect_age_groups = {}\n",
        "for i, row in guns_df.iterrows():\n",
        "    suspects = []\n",
        "    for k,v in row['participant_type_map'].items():\n",
        "        if \"suspect\" in v.lower():\n",
        "            suspects.append(k)\n",
        "    for suspect in suspects:\n",
        "        if suspect in row['participant_age_map']:\n",
        "            ag = row['participant_age_map'][suspect]\n",
        "            if ag not in suspect_age_groups:\n",
        "                suspect_age_groups[ag] = 0 \n",
        "            else:\n",
        "                suspect_age_groups[ag] += 1"
      ],
      "execution_count": 0,
      "outputs": []
    },
    {
      "cell_type": "code",
      "metadata": {
        "id": "_8CmpkJJURE1",
        "colab_type": "code",
        "outputId": "d2c7b77c-22be-4083-891e-6af834c33e04",
        "colab": {
          "base_uri": "https://localhost:8080/",
          "height": 526
        }
      },
      "source": [
        "# Plotting suspects age distribution\n",
        "source = pd.DataFrame({\n",
        "    'a': list(suspect_age_groups.keys()),\n",
        "    'b': list(suspect_age_groups.values())\n",
        "})\n",
        "alt.Chart(source).mark_bar(size = 80).encode(\n",
        "    alt.X('a:N', title='Age Group', \n",
        "         sort=alt.EncodingSortField(\n",
        "            field=\"b\",\n",
        "            op=\"sum\",\n",
        "            order=\"ascending\"\n",
        "        )),\n",
        "    alt.Y('b:Q', title = 'Number of Suspects',axis=alt.Axis(format='s')),\n",
        "    tooltip = (\"b\")\n",
        ").properties(\n",
        "    title='Suspects: Age Distribution',\n",
        "    width=400,\n",
        "    height=400\n",
        ").configure_axis(\n",
        "    grid=False\n",
        ")"
      ],
      "execution_count": 19,
      "outputs": [
        {
          "output_type": "execute_result",
          "data": {
            "text/plain": [
              "Chart({\n",
              "  config: Config({\n",
              "    axis: AxisConfig({\n",
              "      grid: False\n",
              "    })\n",
              "  }),\n",
              "  data:             a       b\n",
              "  0  Adult 18+   151071\n",
              "  1  Teen 12-17  12849 \n",
              "  2  Child 0-11  577   ,\n",
              "  encoding: FacetedEncoding({\n",
              "    tooltip: Tooltip({\n",
              "      shorthand: 'b'\n",
              "    }),\n",
              "    x: X({\n",
              "      shorthand: 'a:N',\n",
              "      sort: EncodingSortField({\n",
              "        field: 'b',\n",
              "        op: 'sum',\n",
              "        order: 'ascending'\n",
              "      }),\n",
              "      title: 'Age Group'\n",
              "    }),\n",
              "    y: Y({\n",
              "      axis: Axis({\n",
              "        format: 's'\n",
              "      }),\n",
              "      shorthand: 'b:Q',\n",
              "      title: 'Number of Suspects'\n",
              "    })\n",
              "  }),\n",
              "  height: 400,\n",
              "  mark: MarkDef({\n",
              "    size: 80,\n",
              "    type: 'bar'\n",
              "  }),\n",
              "  title: 'Suspects Age Distribution',\n",
              "  width: 400\n",
              "})"
            ],
            "text/html": [
              "<!DOCTYPE html>\n",
              "<html>\n",
              "<head>\n",
              "  <style>\n",
              "    .vega-actions a {\n",
              "        margin-right: 12px;\n",
              "        color: #757575;\n",
              "        font-weight: normal;\n",
              "        font-size: 13px;\n",
              "    }\n",
              "    .error {\n",
              "        color: red;\n",
              "    }\n",
              "  </style>\n",
              "  <script type=\"text/javascript\" src=\"https://cdn.jsdelivr.net/npm//vega@5\"></script>\n",
              "  <script type=\"text/javascript\" src=\"https://cdn.jsdelivr.net/npm//vega-lite@3.2.1\"></script>\n",
              "  <script type=\"text/javascript\" src=\"https://cdn.jsdelivr.net/npm//vega-embed@4\"></script>\n",
              "</head>\n",
              "<body>\n",
              "  <div id=\"altair-viz\"></div>\n",
              "  <script>\n",
              "      var spec = {\"config\": {\"view\": {\"width\": 400, \"height\": 300}, \"mark\": {\"tooltip\": null}, \"axis\": {\"grid\": false}}, \"data\": {\"name\": \"data-8361a54b01c0661c0fc7569aa96fa1d2\"}, \"mark\": {\"type\": \"bar\", \"size\": 80}, \"encoding\": {\"tooltip\": {\"type\": \"quantitative\", \"field\": \"b\"}, \"x\": {\"type\": \"nominal\", \"field\": \"a\", \"sort\": {\"field\": \"b\", \"op\": \"sum\", \"order\": \"ascending\"}, \"title\": \"Age Group\"}, \"y\": {\"type\": \"quantitative\", \"axis\": {\"format\": \"s\"}, \"field\": \"b\", \"title\": \"Number of Suspects\"}}, \"height\": 400, \"title\": \"Suspects Age Distribution\", \"width\": 400, \"$schema\": \"https://vega.github.io/schema/vega-lite/v3.2.1.json\", \"datasets\": {\"data-8361a54b01c0661c0fc7569aa96fa1d2\": [{\"a\": \"Adult 18+\", \"b\": 151071}, {\"a\": \"Teen 12-17\", \"b\": 12849}, {\"a\": \"Child 0-11\", \"b\": 577}]}};\n",
              "      var embedOpt = {\"mode\": \"vega-lite\"};\n",
              "\n",
              "      function showError(el, error){\n",
              "          el.innerHTML = ('<div class=\"error\" style=\"color:red;\">'\n",
              "                          + '<p>JavaScript Error: ' + error.message + '</p>'\n",
              "                          + \"<p>This usually means there's a typo in your chart specification. \"\n",
              "                          + \"See the javascript console for the full traceback.</p>\"\n",
              "                          + '</div>');\n",
              "          throw error;\n",
              "      }\n",
              "      const el = document.getElementById('altair-viz');\n",
              "      vegaEmbed(\"#altair-viz\", spec, embedOpt)\n",
              "        .catch(error => showError(el, error));\n",
              "\n",
              "  </script>\n",
              "</body>\n",
              "</html>"
            ]
          },
          "metadata": {
            "tags": []
          },
          "execution_count": 19
        }
      ]
    },
    {
      "cell_type": "markdown",
      "metadata": {
        "id": "nN_DRllbrbCy",
        "colab_type": "text"
      },
      "source": [
        "From the above chart we see that most incidents are carried out by adults older than 18 years but we also see a significant number of incidents involving teens aged 12-17 years."
      ]
    },
    {
      "cell_type": "code",
      "metadata": {
        "id": "scLoPKAcUQ-x",
        "colab_type": "code",
        "colab": {}
      },
      "source": [
        "## Finding the Suspect's Gender\n",
        "suspect_gender = {}\n",
        "for i, row in guns_df.iterrows():\n",
        "    suspects = []\n",
        "    for k,v in row['participant_type_map'].items():\n",
        "        if \"suspect\" in v.lower():\n",
        "            suspects.append(k)\n",
        "    for suspect in suspects:\n",
        "        if suspect in row['participant_gender_map']:\n",
        "            g = row['participant_gender_map'][suspect]\n",
        "            if g not in suspect_gender:\n",
        "                suspect_gender[g] = 0 \n",
        "            else:\n",
        "                suspect_gender[g] += 1"
      ],
      "execution_count": 0,
      "outputs": []
    },
    {
      "cell_type": "code",
      "metadata": {
        "id": "9H5Xa_ds9zD8",
        "colab_type": "code",
        "outputId": "664ac217-8ba3-444f-d7f1-784033704a1f",
        "colab": {
          "base_uri": "https://localhost:8080/",
          "height": 509
        }
      },
      "source": [
        "source = pd.DataFrame({\n",
        "    'a': list(suspect_gender.keys()),\n",
        "    'b': list(suspect_gender.values())\n",
        "})\n",
        "\n",
        "alt.Chart(source).mark_bar(size = 80).encode(\n",
        "    alt.X('a:N', title='Gender'),\n",
        "    alt.Y('b:Q', title = 'Number of Suspects',axis=alt.Axis(format='s')),\n",
        "    tooltip = (\"b\")\n",
        ").properties(\n",
        "    title='Suspects: Gender Distribution',\n",
        "    width=400,\n",
        "    height=400\n",
        ").configure_axis(\n",
        "    grid=False\n",
        ")\n"
      ],
      "execution_count": 21,
      "outputs": [
        {
          "output_type": "execute_result",
          "data": {
            "text/plain": [
              "Chart({\n",
              "  config: Config({\n",
              "    axis: AxisConfig({\n",
              "      grid: False\n",
              "    })\n",
              "  }),\n",
              "  data:         a       b\n",
              "  0  Female  11745 \n",
              "  1  Male    167707,\n",
              "  encoding: FacetedEncoding({\n",
              "    tooltip: Tooltip({\n",
              "      shorthand: 'b'\n",
              "    }),\n",
              "    x: X({\n",
              "      shorthand: 'a:N',\n",
              "      title: 'Gender'\n",
              "    }),\n",
              "    y: Y({\n",
              "      axis: Axis({\n",
              "        format: 's'\n",
              "      }),\n",
              "      shorthand: 'b:Q',\n",
              "      title: 'Number of Suspects'\n",
              "    })\n",
              "  }),\n",
              "  height: 400,\n",
              "  mark: MarkDef({\n",
              "    size: 80,\n",
              "    type: 'bar'\n",
              "  }),\n",
              "  title: 'Suspects Gender Distribution',\n",
              "  width: 400\n",
              "})"
            ],
            "text/html": [
              "<!DOCTYPE html>\n",
              "<html>\n",
              "<head>\n",
              "  <style>\n",
              "    .vega-actions a {\n",
              "        margin-right: 12px;\n",
              "        color: #757575;\n",
              "        font-weight: normal;\n",
              "        font-size: 13px;\n",
              "    }\n",
              "    .error {\n",
              "        color: red;\n",
              "    }\n",
              "  </style>\n",
              "  <script type=\"text/javascript\" src=\"https://cdn.jsdelivr.net/npm//vega@5\"></script>\n",
              "  <script type=\"text/javascript\" src=\"https://cdn.jsdelivr.net/npm//vega-lite@3.2.1\"></script>\n",
              "  <script type=\"text/javascript\" src=\"https://cdn.jsdelivr.net/npm//vega-embed@4\"></script>\n",
              "</head>\n",
              "<body>\n",
              "  <div id=\"altair-viz\"></div>\n",
              "  <script>\n",
              "      var spec = {\"config\": {\"view\": {\"width\": 400, \"height\": 300}, \"mark\": {\"tooltip\": null}, \"axis\": {\"grid\": false}}, \"data\": {\"name\": \"data-14800407093dfc1a7b4c32e33990f50f\"}, \"mark\": {\"type\": \"bar\", \"size\": 80}, \"encoding\": {\"tooltip\": {\"type\": \"quantitative\", \"field\": \"b\"}, \"x\": {\"type\": \"nominal\", \"field\": \"a\", \"title\": \"Gender\"}, \"y\": {\"type\": \"quantitative\", \"axis\": {\"format\": \"s\"}, \"field\": \"b\", \"title\": \"Number of Suspects\"}}, \"height\": 400, \"title\": \"Suspects Gender Distribution\", \"width\": 400, \"$schema\": \"https://vega.github.io/schema/vega-lite/v3.2.1.json\", \"datasets\": {\"data-14800407093dfc1a7b4c32e33990f50f\": [{\"a\": \"Female\", \"b\": 11745}, {\"a\": \"Male\", \"b\": 167707}]}};\n",
              "      var embedOpt = {\"mode\": \"vega-lite\"};\n",
              "\n",
              "      function showError(el, error){\n",
              "          el.innerHTML = ('<div class=\"error\" style=\"color:red;\">'\n",
              "                          + '<p>JavaScript Error: ' + error.message + '</p>'\n",
              "                          + \"<p>This usually means there's a typo in your chart specification. \"\n",
              "                          + \"See the javascript console for the full traceback.</p>\"\n",
              "                          + '</div>');\n",
              "          throw error;\n",
              "      }\n",
              "      const el = document.getElementById('altair-viz');\n",
              "      vegaEmbed(\"#altair-viz\", spec, embedOpt)\n",
              "        .catch(error => showError(el, error));\n",
              "\n",
              "  </script>\n",
              "</body>\n",
              "</html>"
            ]
          },
          "metadata": {
            "tags": []
          },
          "execution_count": 21
        }
      ]
    },
    {
      "cell_type": "markdown",
      "metadata": {
        "id": "XRcxu50Gtg-4",
        "colab_type": "text"
      },
      "source": [
        "From the above chart we can see that most of the incidents are committed by Males."
      ]
    },
    {
      "cell_type": "markdown",
      "metadata": {
        "id": "8e20DLVNwgbr",
        "colab_type": "text"
      },
      "source": [
        "### Analysis on Gun ownership in US by state\n",
        "In the [article on Vox's website](https://www.vox.com/policy-and-politics/2017/10/2/16399418/us-gun-violence-statistics-maps-charts), chart 5 depicts the relationship between gun ownership and gun deaths across states in USA. The chart was created using 2013 data for gun ownership and gun deaths. \n",
        "\n",
        "Since we have more recent data (upto March 2018), we were interested in exploring this relationship with gun ownership data for a later time period. We found [2017 gun ownership by state](https://www.thoughtco.com/gun-owners-percentage-of-state-populations-3325153) as compiled by the website [HuntingMark.com](https://huntingmark.com/gun-ownership-stats/#_ftn1%20). The data on this website is taken from ATF (United States Department of Justice Bureau of Alcohol, Tobacco, Firearms and Explosives) report on [Firearm Commerce in the United States, 2017 statistics](https://www.atf.gov/resource-center/docs/undefined/firearms-commerce-united-states-annual-statistical-update-2017/download) **Exhibit 8** on **National Firearms Act Registered Weapons by State (April 2017)** which lists the number of registered guns by state.\n",
        "\n",
        "It is important to note that the actual number of guns might be much more than the numbers depicted here since United States does not have a regulation in place for registration of all guns. But this is the most reliable, if any, data source available to us on gun ownership so we decided to use this for our analysis.\n",
        "\n"
      ]
    },
    {
      "cell_type": "code",
      "metadata": {
        "id": "YFrNFuLO1nC2",
        "colab_type": "code",
        "colab": {}
      },
      "source": [
        "# importing gun ownership data by state\n",
        "state_guns_owned = pd.read_csv('https://raw.githubusercontent.com/strivedi2/Gun-Violence-in-United-States/master/Statewise_Gun_Ownership2017.csv')"
      ],
      "execution_count": 0,
      "outputs": []
    },
    {
      "cell_type": "code",
      "metadata": {
        "id": "5FyYQP0P1nmm",
        "colab_type": "code",
        "outputId": "39dfa3cb-f691-4284-a29d-3a96100022a4",
        "colab": {
          "base_uri": "https://localhost:8080/",
          "height": 95
        }
      },
      "source": [
        "state_guns_owned.head(1)"
      ],
      "execution_count": 23,
      "outputs": [
        {
          "output_type": "execute_result",
          "data": {
            "text/html": [
              "<div>\n",
              "<style scoped>\n",
              "    .dataframe tbody tr th:only-of-type {\n",
              "        vertical-align: middle;\n",
              "    }\n",
              "\n",
              "    .dataframe tbody tr th {\n",
              "        vertical-align: top;\n",
              "    }\n",
              "\n",
              "    .dataframe thead th {\n",
              "        text-align: right;\n",
              "    }\n",
              "</style>\n",
              "<table border=\"1\" class=\"dataframe\">\n",
              "  <thead>\n",
              "    <tr style=\"text-align: right;\">\n",
              "      <th></th>\n",
              "      <th>State</th>\n",
              "      <th>Any Other Weapon1</th>\n",
              "      <th>Destructive Device2</th>\n",
              "      <th>Machinegun3</th>\n",
              "      <th>Silencer4</th>\n",
              "      <th>Short Barreled Rifle5</th>\n",
              "      <th>Short Barreled Shotgun6</th>\n",
              "      <th>Total</th>\n",
              "    </tr>\n",
              "  </thead>\n",
              "  <tbody>\n",
              "    <tr>\n",
              "      <th>0</th>\n",
              "      <td>Alabama</td>\n",
              "      <td>1,203</td>\n",
              "      <td>78,434</td>\n",
              "      <td>26,307</td>\n",
              "      <td>48,118</td>\n",
              "      <td>5,285</td>\n",
              "      <td>2,294</td>\n",
              "      <td>161,641</td>\n",
              "    </tr>\n",
              "  </tbody>\n",
              "</table>\n",
              "</div>"
            ],
            "text/plain": [
              "     State Any Other Weapon1 Destructive Device2 Machinegun3 Silencer4  \\\n",
              "0  Alabama  1,203             78,434              26,307      48,118     \n",
              "\n",
              "  Short Barreled Rifle5 Short Barreled Shotgun6    Total  \n",
              "0  5,285                 2,294                   161,641  "
            ]
          },
          "metadata": {
            "tags": []
          },
          "execution_count": 23
        }
      ]
    },
    {
      "cell_type": "markdown",
      "metadata": {
        "id": "XmuV3mKU_iY7",
        "colab_type": "text"
      },
      "source": [
        "In order to normalize gun ownership by state population we also decided to add state population data for 2017 from [here](https://www.enchantedlearning.com/usa/states/population.shtml). "
      ]
    },
    {
      "cell_type": "markdown",
      "metadata": {
        "id": "obiGWmpi7WVJ",
        "colab_type": "text"
      },
      "source": [
        "We will now load state population data and create a new dataframe with total guns and population columns for each state for 2017.  "
      ]
    },
    {
      "cell_type": "code",
      "metadata": {
        "id": "a7wiKgNM_cqj",
        "colab_type": "code",
        "outputId": "75288e29-495f-43d0-c292-1732712c5d5e",
        "colab": {
          "base_uri": "https://localhost:8080/",
          "height": 78
        }
      },
      "source": [
        "# load state population dataset\n",
        "state_pop = pd.read_csv('https://raw.githubusercontent.com/strivedi2/Gun-Violence-in-United-States/master/StatePopulation%202017.csv')\n",
        "state_pop.head(1)"
      ],
      "execution_count": 24,
      "outputs": [
        {
          "output_type": "execute_result",
          "data": {
            "text/html": [
              "<div>\n",
              "<style scoped>\n",
              "    .dataframe tbody tr th:only-of-type {\n",
              "        vertical-align: middle;\n",
              "    }\n",
              "\n",
              "    .dataframe tbody tr th {\n",
              "        vertical-align: top;\n",
              "    }\n",
              "\n",
              "    .dataframe thead th {\n",
              "        text-align: right;\n",
              "    }\n",
              "</style>\n",
              "<table border=\"1\" class=\"dataframe\">\n",
              "  <thead>\n",
              "    <tr style=\"text-align: right;\">\n",
              "      <th></th>\n",
              "      <th>State</th>\n",
              "      <th>Population (2017)</th>\n",
              "    </tr>\n",
              "  </thead>\n",
              "  <tbody>\n",
              "    <tr>\n",
              "      <th>0</th>\n",
              "      <td>California</td>\n",
              "      <td>39,536,653</td>\n",
              "    </tr>\n",
              "  </tbody>\n",
              "</table>\n",
              "</div>"
            ],
            "text/plain": [
              "        State Population (2017)\n",
              "0  California  39,536,653      "
            ]
          },
          "metadata": {
            "tags": []
          },
          "execution_count": 24
        }
      ]
    },
    {
      "cell_type": "code",
      "metadata": {
        "id": "TiLx4RKWAcV-",
        "colab_type": "code",
        "colab": {}
      },
      "source": [
        "# merge gun ownership and state population dataframes\n",
        "state_data = state_guns_owned.merge(state_pop, how ='inner', left_on='State', right_on='State')\n",
        "\n",
        "# drop remaining gun type columns since we wont be using them for our analysis \n",
        "state_data.drop(columns=['Any Other Weapon1','Destructive Device2','Machinegun3','Silencer4','Short Barreled Rifle5','Short Barreled Shotgun6'],inplace=True)"
      ],
      "execution_count": 0,
      "outputs": []
    },
    {
      "cell_type": "code",
      "metadata": {
        "id": "z-gJl-Q8BBaJ",
        "colab_type": "code",
        "outputId": "89342cea-2288-4c2a-90ca-21886826b5ce",
        "colab": {
          "base_uri": "https://localhost:8080/",
          "height": 108
        }
      },
      "source": [
        "state_data.head(2)"
      ],
      "execution_count": 26,
      "outputs": [
        {
          "output_type": "execute_result",
          "data": {
            "text/html": [
              "<div>\n",
              "<style scoped>\n",
              "    .dataframe tbody tr th:only-of-type {\n",
              "        vertical-align: middle;\n",
              "    }\n",
              "\n",
              "    .dataframe tbody tr th {\n",
              "        vertical-align: top;\n",
              "    }\n",
              "\n",
              "    .dataframe thead th {\n",
              "        text-align: right;\n",
              "    }\n",
              "</style>\n",
              "<table border=\"1\" class=\"dataframe\">\n",
              "  <thead>\n",
              "    <tr style=\"text-align: right;\">\n",
              "      <th></th>\n",
              "      <th>State</th>\n",
              "      <th>Total</th>\n",
              "      <th>Population (2017)</th>\n",
              "    </tr>\n",
              "  </thead>\n",
              "  <tbody>\n",
              "    <tr>\n",
              "      <th>0</th>\n",
              "      <td>Alabama</td>\n",
              "      <td>161,641</td>\n",
              "      <td>4,874,747</td>\n",
              "    </tr>\n",
              "    <tr>\n",
              "      <th>1</th>\n",
              "      <td>Alaska</td>\n",
              "      <td>15,824</td>\n",
              "      <td>739,795</td>\n",
              "    </tr>\n",
              "  </tbody>\n",
              "</table>\n",
              "</div>"
            ],
            "text/plain": [
              "     State    Total Population (2017)\n",
              "0  Alabama  161,641  4,874,747       \n",
              "1  Alaska   15,824   739,795         "
            ]
          },
          "metadata": {
            "tags": []
          },
          "execution_count": 26
        }
      ]
    },
    {
      "cell_type": "markdown",
      "metadata": {
        "id": "OG8yZlEBAQbx",
        "colab_type": "text"
      },
      "source": [
        "We will now merge the above dataframe with our original dataset to add these columns."
      ]
    },
    {
      "cell_type": "code",
      "metadata": {
        "id": "1d3Vfhoi7cNg",
        "colab_type": "code",
        "colab": {}
      },
      "source": [
        "guns_df = guns_df.merge(state_data, how='left', left_on='state', right_on='State')\n",
        "guns_df.drop(columns='State',inplace=True)\n",
        "\n",
        "# rename the Total column to Total_guns\n",
        "guns_df.rename(columns={'Total':'Total_guns'},inplace=True)"
      ],
      "execution_count": 0,
      "outputs": []
    },
    {
      "cell_type": "markdown",
      "metadata": {
        "id": "t3_kuHNpweha",
        "colab_type": "text"
      },
      "source": [
        "### Data dictionary of cleaned Dataset 1: Gun Violence Dataset on Kaggle\n",
        "Column Name  | Description\n",
        "--- | ---\n",
        "incident_id | Incident ID\n",
        "date\t| Date of crime (Format: YYYY-MM-DD)\n",
        "state\t|State where crime was committed\t\n",
        "city_or_county\t|City/ County of crime\t\n",
        "n_killed\t|Number of people killed in the incident\t\n",
        "n_injured\t|Number of people injured in the incident\t\n",
        "congressional_district |Congressional district id\t\n",
        "latitude\t|Latitude of the location of the incident\t\n",
        "longitude\t|Longitude of the location of the incident\t\n",
        "participant_age_group\t|Age group of participant(s) (Child, Teen, Adult)\t\n",
        "participant_gender\t|Gender of participant(s)\t\n",
        "participant_name\t|Name of participant(s) involved in crime\t\n",
        "participant_relationship |Relationship of participant to other participant(s)\t\n",
        "participant_status\t|Extent of harm done to the participant (Injured, Killed, Arrested)\t\n",
        "participant_type\t|Type of participant (Victim, Suspect)\t\n",
        "state_house_district\t|Voting house district\t\n",
        "state_senate_district\t|Territorial district from which a senator to a state legislature is elected\n",
        "year | Year of incident\n",
        "month | Month of incident\n",
        "monthday | Day of incident\n",
        "weekday | Day of the week of incident (Mon, Tue, etc.)\n",
        "Mass_Shooting | Incident characteristic: 1 means Mass Shooting\n",
        "Officer_Involved_Shooting | Incident characteristic: 1 means Officer is involved in the shooting\n",
        "Suicide | Incident characteristic: 1 means Suicide\n",
        "Gun_Possession_felon | Incident characteristic: 1 means Gun possed by a felon\n",
        "Accidental_Shootings | Incident characteristic: 1 means Shooting occured by Accident\n",
        "participant_type_map | Map Participant type\n",
        "participant_age_map | Map Participant age\n",
        "participant_gender_map | Map Participant gender\n",
        "Total_guns|Total guns owned in each State in 2017\n",
        "Population (2017)|Population of the State in 2017"
      ]
    },
    {
      "cell_type": "markdown",
      "metadata": {
        "id": "tdQW3PTmC1dJ",
        "colab_type": "text"
      },
      "source": [
        "## **Dateset 2: Gun ownership by country**"
      ]
    },
    {
      "cell_type": "markdown",
      "metadata": {
        "id": "hCI6orxEyLl4",
        "colab_type": "text"
      },
      "source": [
        "We also wanted to understand the relationship between gun ownership and gun violence incidents across countries."
      ]
    },
    {
      "cell_type": "markdown",
      "metadata": {
        "id": "e89jZvV80eF4",
        "colab_type": "text"
      },
      "source": [
        "[Here](https://docs.google.com/spreadsheets/d/1chqUZHuY6cXYrRYkuE0uwXisGaYvr7durZHJhpLGycs/edit#gid=0) is the dataset on Gun homicide and gun ownership listed by country. More information about the dataset can be found [here](https://www.theguardian.com/news/datablog/2012/jul/22/gun-homicides-ownership-world-list)\n",
        "\n",
        "**About the dataset:**\n",
        "The world’s crime figures are collected by the UNODC (United nations office on drugs and crimes) through its annual crime survey. It has a special section of data on firearm homicides - and provides detailed information by size of population and compared to other crimes. \n",
        "\n",
        "**Limitations of the dataset:** <br>\n",
        "1. Some key nations are missing from the data, including Russia, China and Afghanistan. But it does include the US, UK and many other developed nations. <br>\n",
        "2. Also, this dataset is from 2012. We know that we will not be able to do comparison for the same time period as gun ownership dataset for United State but we are still interested in knowing if there exists any trend.\n",
        "\n"
      ]
    },
    {
      "cell_type": "code",
      "metadata": {
        "id": "VQxyEyQhCdxX",
        "colab_type": "code",
        "colab": {}
      },
      "source": [
        "# We saved the data from [google sheet](https://docs.google.com/spreadsheets/d/1chqUZHuY6cXYrRYkuE0uwXisGaYvr7durZHJhpLGycs/edit#gid=0) to a csv file and uploaded it on github\n",
        "# importing gun ownership data by country\n",
        "gun_ownership = pd.read_csv('https://raw.githubusercontent.com/strivedi2/Gun-Violence-in-United-States/master/World_firearms.csv')"
      ],
      "execution_count": 0,
      "outputs": []
    },
    {
      "cell_type": "code",
      "metadata": {
        "id": "M17p3HzYC0x8",
        "colab_type": "code",
        "outputId": "63659d9a-dd47-47ca-9e66-942fa1ce3e3b",
        "colab": {
          "base_uri": "https://localhost:8080/",
          "height": 143
        }
      },
      "source": [
        "gun_ownership.head(2)"
      ],
      "execution_count": 29,
      "outputs": [
        {
          "output_type": "execute_result",
          "data": {
            "text/html": [
              "<div>\n",
              "<style scoped>\n",
              "    .dataframe tbody tr th:only-of-type {\n",
              "        vertical-align: middle;\n",
              "    }\n",
              "\n",
              "    .dataframe tbody tr th {\n",
              "        vertical-align: top;\n",
              "    }\n",
              "\n",
              "    .dataframe thead th {\n",
              "        text-align: right;\n",
              "    }\n",
              "</style>\n",
              "<table border=\"1\" class=\"dataframe\">\n",
              "  <thead>\n",
              "    <tr style=\"text-align: right;\">\n",
              "      <th></th>\n",
              "      <th>Country/Territory</th>\n",
              "      <th>ISO code</th>\n",
              "      <th>Source</th>\n",
              "      <th>% of homicides by firearm</th>\n",
              "      <th>Number of homicides by firearm</th>\n",
              "      <th>Homicide by firearm rate per 100,000 pop</th>\n",
              "      <th>Rank by rate of ownership</th>\n",
              "      <th>Average firearms per 100 people</th>\n",
              "      <th>Average total all civilian firearms</th>\n",
              "    </tr>\n",
              "  </thead>\n",
              "  <tbody>\n",
              "    <tr>\n",
              "      <th>0</th>\n",
              "      <td>Albania</td>\n",
              "      <td>AL</td>\n",
              "      <td>CTS</td>\n",
              "      <td>65.9</td>\n",
              "      <td>56.0</td>\n",
              "      <td>1.76</td>\n",
              "      <td>70.0</td>\n",
              "      <td>8.6</td>\n",
              "      <td>270000.0</td>\n",
              "    </tr>\n",
              "    <tr>\n",
              "      <th>1</th>\n",
              "      <td>Algeria</td>\n",
              "      <td>DZ</td>\n",
              "      <td>CTS</td>\n",
              "      <td>4.8</td>\n",
              "      <td>20.0</td>\n",
              "      <td>0.06</td>\n",
              "      <td>78.0</td>\n",
              "      <td>7.6</td>\n",
              "      <td>1900000.0</td>\n",
              "    </tr>\n",
              "  </tbody>\n",
              "</table>\n",
              "</div>"
            ],
            "text/plain": [
              "  Country/Territory ISO code Source  % of homicides by firearm  \\\n",
              "0  Albania           AL       CTS    65.9                        \n",
              "1  Algeria           DZ       CTS    4.8                         \n",
              "\n",
              "   Number of homicides by firearm  Homicide by firearm rate per 100,000 pop  \\\n",
              "0  56.0                            1.76                                       \n",
              "1  20.0                            0.06                                       \n",
              "\n",
              "   Rank by rate of ownership  Average firearms per 100 people  \\\n",
              "0  70.0                       8.6                               \n",
              "1  78.0                       7.6                               \n",
              "\n",
              "   Average total all civilian firearms  \n",
              "0  270000.0                             \n",
              "1  1900000.0                            "
            ]
          },
          "metadata": {
            "tags": []
          },
          "execution_count": 29
        }
      ]
    },
    {
      "cell_type": "code",
      "metadata": {
        "id": "o_gOfBG6DPdK",
        "colab_type": "code",
        "colab": {}
      },
      "source": [
        "# Removed ISO code column as we already have country information we don't need the country code for analysis\n",
        "# Removed Source column as it is not relevant for our analysis\n",
        "# Removed Rank by rate of ownership as rank will not be relevant for analysis\n",
        "gun_ownership = gun_ownership[['Country/Territory','% of homicides by firearm',\\\n",
        "                               'Number of homicides by firearm','Homicide by firearm rate per 100,000 pop',\\\n",
        "                               'Average firearms per 100 people','Average total all civilian firearms']]"
      ],
      "execution_count": 0,
      "outputs": []
    },
    {
      "cell_type": "code",
      "metadata": {
        "id": "GiPGkBp7EMWi",
        "colab_type": "code",
        "colab": {}
      },
      "source": [
        "# Renamed few columns\n",
        "gun_ownership.columns = ['Country', 'Percentage of Homicides by firearm','Number of homicide by firearm',\\\n",
        "                        'Homicide by firearm rate per 100,000 pop','Average firearms per 100 people','Average total all civilian firearms']"
      ],
      "execution_count": 0,
      "outputs": []
    },
    {
      "cell_type": "code",
      "metadata": {
        "id": "M7-L0Os_FZiC",
        "colab_type": "code",
        "outputId": "88a18117-ad38-4f5f-a018-7806b84e9916",
        "colab": {
          "base_uri": "https://localhost:8080/",
          "height": 138
        }
      },
      "source": [
        "gun_ownership.isna().sum()"
      ],
      "execution_count": 32,
      "outputs": [
        {
          "output_type": "execute_result",
          "data": {
            "text/plain": [
              "Country                                     0 \n",
              "Percentage of Homicides by firearm          69\n",
              "Number of homicide by firearm               69\n",
              "Homicide by firearm rate per 100,000 pop    69\n",
              "Average firearms per 100 people             9 \n",
              "Average total all civilian firearms         9 \n",
              "dtype: int64"
            ]
          },
          "metadata": {
            "tags": []
          },
          "execution_count": 32
        }
      ]
    },
    {
      "cell_type": "code",
      "metadata": {
        "id": "2Bo-dco4E1Qz",
        "colab_type": "code",
        "colab": {}
      },
      "source": [
        "# Filled the na values with 0\n",
        "gun_ownership = gun_ownership.fillna(0)"
      ],
      "execution_count": 0,
      "outputs": []
    },
    {
      "cell_type": "code",
      "metadata": {
        "id": "cD1uirmKzaM4",
        "colab_type": "code",
        "outputId": "006ea281-e17a-44c4-b613-3f5953be34ce",
        "colab": {
          "base_uri": "https://localhost:8080/",
          "height": 138
        }
      },
      "source": [
        "gun_ownership.isna().sum()"
      ],
      "execution_count": 34,
      "outputs": [
        {
          "output_type": "execute_result",
          "data": {
            "text/plain": [
              "Country                                     0\n",
              "Percentage of Homicides by firearm          0\n",
              "Number of homicide by firearm               0\n",
              "Homicide by firearm rate per 100,000 pop    0\n",
              "Average firearms per 100 people             0\n",
              "Average total all civilian firearms         0\n",
              "dtype: int64"
            ]
          },
          "metadata": {
            "tags": []
          },
          "execution_count": 34
        }
      ]
    },
    {
      "cell_type": "code",
      "metadata": {
        "id": "O2X-OqqF0gp9",
        "colab_type": "code",
        "colab": {}
      },
      "source": [
        "# Creating a dataframe of top 20 countries with the highest average firearms per 100 people by Country\n",
        "top20 = gun_ownership[['Country','Average firearms per 100 people']].sort_values('Average firearms per 100 people', ascending = False).nlargest(20, 'Average firearms per 100 people')"
      ],
      "execution_count": 0,
      "outputs": []
    },
    {
      "cell_type": "code",
      "metadata": {
        "id": "KL8ei8gc2PXu",
        "colab_type": "code",
        "outputId": "45f7da33-b37a-4a68-b14b-5611386841cb",
        "colab": {
          "base_uri": "https://localhost:8080/",
          "height": 536
        }
      },
      "source": [
        "alt.Chart(top20).mark_bar().encode(\n",
        "    alt.X('Country', title = 'Country', \n",
        "         sort=alt.EncodingSortField(\n",
        "            field=\"Average firearms per 100 people\",\n",
        "            #op=\"sum\",\n",
        "            order=\"descending\"\n",
        "        )),\n",
        "    alt.Y('Average firearms per 100 people', title = 'Average firearms per 100 people')\n",
        ").properties(\n",
        "    title='Average firearms per 100 people for top 20 countries',\n",
        "    width=650,\n",
        "    height=400\n",
        ").configure_axis(\n",
        "    grid=False\n",
        ")"
      ],
      "execution_count": 36,
      "outputs": [
        {
          "output_type": "execute_result",
          "data": {
            "text/plain": [
              "Chart({\n",
              "  config: Config({\n",
              "    axis: AxisConfig({\n",
              "      grid: False\n",
              "    })\n",
              "  }),\n",
              "  data:            Country  Average firearms per 100 people\n",
              "  176  United States  88.8                           \n",
              "  182  Yemen          54.8                           \n",
              "  162  Switzerland    45.7                           \n",
              "  58   Finland        45.3                           \n",
              "  147  Serbia         37.8                           \n",
              "  43   Cyprus         36.4                           \n",
              "  144  Saudi Arabia   35.0                           \n",
              "  79   Iraq           34.2                           \n",
              "  177  Uruguay        31.8                           \n",
              "  161  Sweden         31.6                           \n",
              "  127  Norway         31.3                           \n",
              "  59   France         31.2                           \n",
              "  29   Canada         30.8                           \n",
              "  7    Austria        30.4                           \n",
              "  75   Iceland        30.3                           \n",
              "  63   Germany        30.3                           \n",
              "  128  Oman           25.4                           \n",
              "  91   Kuwait         24.8                           \n",
              "  10   Bahrain        24.8                           \n",
              "  102  Macedonia      24.1                           ,\n",
              "  encoding: FacetedEncoding({\n",
              "    x: X({\n",
              "      shorthand: 'Country',\n",
              "      sort: EncodingSortField({\n",
              "        field: 'Average firearms per 100 people',\n",
              "        order: 'descending'\n",
              "      }),\n",
              "      title: 'Country'\n",
              "    }),\n",
              "    y: Y({\n",
              "      shorthand: 'Average firearms per 100 people',\n",
              "      title: 'Average firearms per 100 people'\n",
              "    })\n",
              "  }),\n",
              "  height: 400,\n",
              "  mark: 'bar',\n",
              "  title: 'Average firearms per 100 people for top 20 countries',\n",
              "  width: 650\n",
              "})"
            ],
            "text/html": [
              "<!DOCTYPE html>\n",
              "<html>\n",
              "<head>\n",
              "  <style>\n",
              "    .vega-actions a {\n",
              "        margin-right: 12px;\n",
              "        color: #757575;\n",
              "        font-weight: normal;\n",
              "        font-size: 13px;\n",
              "    }\n",
              "    .error {\n",
              "        color: red;\n",
              "    }\n",
              "  </style>\n",
              "  <script type=\"text/javascript\" src=\"https://cdn.jsdelivr.net/npm//vega@5\"></script>\n",
              "  <script type=\"text/javascript\" src=\"https://cdn.jsdelivr.net/npm//vega-lite@3.2.1\"></script>\n",
              "  <script type=\"text/javascript\" src=\"https://cdn.jsdelivr.net/npm//vega-embed@4\"></script>\n",
              "</head>\n",
              "<body>\n",
              "  <div id=\"altair-viz\"></div>\n",
              "  <script>\n",
              "      var spec = {\"config\": {\"view\": {\"width\": 400, \"height\": 300}, \"mark\": {\"tooltip\": null}, \"axis\": {\"grid\": false}}, \"data\": {\"name\": \"data-05b5a9d5eeb6da7f4e26e824251dbfba\"}, \"mark\": \"bar\", \"encoding\": {\"x\": {\"type\": \"nominal\", \"field\": \"Country\", \"sort\": {\"field\": \"Average firearms per 100 people\", \"order\": \"descending\"}, \"title\": \"Country\"}, \"y\": {\"type\": \"quantitative\", \"field\": \"Average firearms per 100 people\", \"title\": \"Average firearms per 100 people\"}}, \"height\": 400, \"title\": \"Average firearms per 100 people for top 20 countries\", \"width\": 650, \"$schema\": \"https://vega.github.io/schema/vega-lite/v3.2.1.json\", \"datasets\": {\"data-05b5a9d5eeb6da7f4e26e824251dbfba\": [{\"Country\": \"United States\", \"Average firearms per 100 people\": 88.8}, {\"Country\": \"Yemen\", \"Average firearms per 100 people\": 54.8}, {\"Country\": \"Switzerland\", \"Average firearms per 100 people\": 45.7}, {\"Country\": \"Finland\", \"Average firearms per 100 people\": 45.3}, {\"Country\": \"Serbia\", \"Average firearms per 100 people\": 37.8}, {\"Country\": \"Cyprus\", \"Average firearms per 100 people\": 36.4}, {\"Country\": \"Saudi Arabia\", \"Average firearms per 100 people\": 35.0}, {\"Country\": \"Iraq\", \"Average firearms per 100 people\": 34.2}, {\"Country\": \"Uruguay\", \"Average firearms per 100 people\": 31.8}, {\"Country\": \"Sweden\", \"Average firearms per 100 people\": 31.6}, {\"Country\": \"Norway\", \"Average firearms per 100 people\": 31.3}, {\"Country\": \"France\", \"Average firearms per 100 people\": 31.2}, {\"Country\": \"Canada\", \"Average firearms per 100 people\": 30.8}, {\"Country\": \"Austria\", \"Average firearms per 100 people\": 30.4}, {\"Country\": \"Iceland\", \"Average firearms per 100 people\": 30.3}, {\"Country\": \"Germany\", \"Average firearms per 100 people\": 30.3}, {\"Country\": \"Oman\", \"Average firearms per 100 people\": 25.4}, {\"Country\": \"Kuwait\", \"Average firearms per 100 people\": 24.8}, {\"Country\": \"Bahrain\", \"Average firearms per 100 people\": 24.8}, {\"Country\": \"Macedonia\", \"Average firearms per 100 people\": 24.1}]}};\n",
              "      var embedOpt = {\"mode\": \"vega-lite\"};\n",
              "\n",
              "      function showError(el, error){\n",
              "          el.innerHTML = ('<div class=\"error\" style=\"color:red;\">'\n",
              "                          + '<p>JavaScript Error: ' + error.message + '</p>'\n",
              "                          + \"<p>This usually means there's a typo in your chart specification. \"\n",
              "                          + \"See the javascript console for the full traceback.</p>\"\n",
              "                          + '</div>');\n",
              "          throw error;\n",
              "      }\n",
              "      const el = document.getElementById('altair-viz');\n",
              "      vegaEmbed(\"#altair-viz\", spec, embedOpt)\n",
              "        .catch(error => showError(el, error));\n",
              "\n",
              "  </script>\n",
              "</body>\n",
              "</html>"
            ]
          },
          "metadata": {
            "tags": []
          },
          "execution_count": 36
        }
      ]
    },
    {
      "cell_type": "markdown",
      "metadata": {
        "id": "nIcbdq2I9IGu",
        "colab_type": "text"
      },
      "source": [
        "From the above chart we can see that United states is the highest in terms of average firearms per 100 people."
      ]
    },
    {
      "cell_type": "markdown",
      "metadata": {
        "id": "DDLsK4-H84hF",
        "colab_type": "text"
      },
      "source": [
        "### Data dictionary of Dataset 2: Gun ownership by Country\n",
        "Column Name  | Description\n",
        "--- | ---\n",
        "Country | Country Name\n",
        "Percentage of Homicides by firearm | Percentage of Homicides by firearm\n",
        "Number of homicide by firearm | Number of homicides by firearm\n",
        "Homicide by firearm rate per 100,000 pop | Homicides by firearm rate per 100,000 population\n",
        "Average firearms per 100 people | Average firearms per 100 people\n",
        "Average total all civilian firearms | Average total of civilians who owned firearms"
      ]
    },
    {
      "cell_type": "markdown",
      "metadata": {
        "id": "VM63p-lD3xNx",
        "colab_type": "text"
      },
      "source": [
        "## Road map\n",
        "\n",
        "We want to explore the following trends/relationships and also replicate/improve the existing charts on the [Vox article](https://www.vox.com/policy-and-politics/2017/10/2/16399418/us-gun-violence-statistics-maps-charts)\n",
        "\n",
        "1. **Relationship between gun ownership and gun violence:** We would like to understand if there exists any relationship between gun ownership and gun violence incidents across US states, and also see if similar relationships can be found with the data available for countries. \n",
        "2. **Gun violence incident characteristics:** We would like to understand the trend of Mass shootings, Suicides and Officers involved shootings across US. \n",
        "3. **Understanding suspect profiles with respect to gun violence incidents:** We would like to explore gun violence incidents and their characterstics with respect to suspect age - teens (age 12- 17) and adults ( aged 18 years and olders)\n",
        "\n",
        "We are also interested in exploring gun ownership and gun violence incidents with respect to **gun laws** across states in US in later versions."
      ]
    }
  ]
}