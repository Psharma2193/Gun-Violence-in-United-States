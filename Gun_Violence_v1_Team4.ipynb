{
  "nbformat": 4,
  "nbformat_minor": 0,
  "metadata": {
    "colab": {
      "name": "Gun_Violence_v1_Team4.ipynb",
      "version": "0.3.2",
      "provenance": [],
      "collapsed_sections": [],
      "toc_visible": true,
      "include_colab_link": true
    },
    "kernelspec": {
      "name": "python3",
      "display_name": "Python 3"
    }
  },
  "cells": [
    {
      "cell_type": "markdown",
      "metadata": {
        "id": "view-in-github",
        "colab_type": "text"
      },
      "source": [
        "<a href=\"https://colab.research.google.com/github/strivedi2/Gun-Violence-in-United-States/blob/master/Gun_Violence_v1_Team4.ipynb\" target=\"_parent\"><img src=\"https://colab.research.google.com/assets/colab-badge.svg\" alt=\"Open In Colab\"/></a>"
      ]
    },
    {
      "cell_type": "markdown",
      "metadata": {
        "id": "N_DeTQf9wKWq",
        "colab_type": "text"
      },
      "source": [
        "# Gun Violence in United States\n",
        "\n",
        "---\n",
        "\n",
        "Project Team 4 <br>\n",
        "**Team Members**: Bharati Malik, Gaurav Hassija, Prachi Sharma, Shruti Trivedi, Vikita Nayak"
      ]
    },
    {
      "cell_type": "markdown",
      "metadata": {
        "id": "jzmwiufkwgwD",
        "colab_type": "text"
      },
      "source": [
        "## Introduction\n",
        "This project is inspired by the [Vox article](https://www.vox.com/policy-and-politics/2017/10/2/16399418/us-gun-violence-statistics-maps-charts) on America's unique **Gun Violence** problem. The article provides 17 maps and charts that represent various aspects of Gun ownership in United States. <br> \n"
      ]
    },
    {
      "cell_type": "markdown",
      "metadata": {
        "id": "9CyFXVNT5-mR",
        "colab_type": "text"
      },
      "source": [
        "##**Background**\n",
        "\n",
        "US has a lot of guns, and very loose or non-existent regulations relating to who may access firearms makes it unique in terms of gun violence among other developed nations.\n"
      ]
    },
    {
      "cell_type": "markdown",
      "metadata": {
        "id": "evvxNTZt1aHW",
        "colab_type": "text"
      },
      "source": [
        "##**Search for relevant data**\n",
        "\n",
        "We were interested in exploring Gun ownership within each state and its relationship with suicide rates, mass shootings and officer involved shootings. After going through various sources of data, we were directed to [Gun Violence Archive](https://www.gunviolencearchive.org/). As the website states, it is an online archive of gun violence incidents collected from over 2,500  law enforcement, media, government and commercial sources daily in an effort to provide near-real time data about the results of gun violence. \n",
        "\n",
        "However, the data available for download on the website is limited by the number of rows and attributes that can  be exported as CSV. This led us to a larger and richer dataset on [Kaggle](https://www.kaggle.com/jameslko/gun-violence-data/downloads/gun-violence-data.zip/1). "
      ]
    },
    {
      "cell_type": "code",
      "metadata": {
        "id": "IjsgfH9Cv0Ra",
        "colab_type": "code",
        "colab": {}
      },
      "source": [
        "import pandas as pd\n",
        "import numpy as np\n",
        "import altair as alt\n",
        "import seaborn as sns\n",
        "\n",
        "import warnings\n",
        "warnings.filterwarnings('ignore')\n",
        "\n",
        "pd.set_option('display.max_columns',200)\n",
        "pd.set_option('display.max_rows',200)\n",
        "pd.set_option('display.max_colwidth', -1)"
      ],
      "execution_count": 0,
      "outputs": []
    },
    {
      "cell_type": "markdown",
      "metadata": {
        "id": "x3nBb3gxw9Qy",
        "colab_type": "text"
      },
      "source": [
        "## Dataset 1: Gun Violence Dataset on Kaggle\n",
        "We downloaded the gun violence dataset available on [Kaggle](https://www.kaggle.com/jameslko/gun-violence-data/downloads/gun-violence-data.zip/1). This dataset has been taken from the same website [Gun Violence Archive](https://www.gunviolencearchive.org) using web scraping with Python script (_We could not get access to the script_). \n",
        "\n",
        "The dataset has a record of more than **260,000 gun violence incidents** between **Jan 2013 - March 2018**. \n",
        "\n",
        "In addition to incident date, state, address and number of people injured and killed; the dataset also contains information about the **type of incident** (such as mass shootings, suicides, officer involved shootings etc.), **guns involved** and **participant information including age, gender** etc. which makes this a richer dataset when compared to reports available on  [Gun Violence Archive](https://www.gunviolencearchive.org).\n"
      ]
    },
    {
      "cell_type": "markdown",
      "metadata": {
        "id": "ySca1gIR3Zlm",
        "colab_type": "text"
      },
      "source": [
        "### Preliminary Data Cleaning using MS Excel\n",
        "\n",
        "In preliminary analysis of the dataset, following columns were deleted in the csv file before uploading on github as they were not relevant to our analysis.\n",
        "\n",
        "\n",
        "*   Address, location description : We decided to retain State, City, Latitutde and longitude for each incident and  believe address is not pertinent to our analysis.\n",
        "\n",
        "*   In addition URL columns directing to source of incident were also deleted.\n",
        "\n",
        "\n",
        "\n",
        "\n",
        "Next, separate csv files were created for each year from 2013 - 2018 (to satisfy the 25MB file limit on github)and uploaded on [GitHub](https://github.com/strivedi2/Gun-Violence-in-United-States).  We read those files in the following lines of code.\n",
        "\n"
      ]
    },
    {
      "cell_type": "code",
      "metadata": {
        "id": "jaDAELagwHx7",
        "colab_type": "code",
        "colab": {}
      },
      "source": [
        "guns_2013 = pd.read_csv('https://raw.githubusercontent.com/strivedi2/Gun-Violence-in-United-States/master/gun-violence-2013.csv')\n",
        "guns_2014 = pd.read_csv('https://raw.githubusercontent.com/strivedi2/Gun-Violence-in-United-States/master/gun-violence-2014.csv')\n"
      ],
      "execution_count": 0,
      "outputs": []
    },
    {
      "cell_type": "code",
      "metadata": {
        "id": "z9WYfWNItqDn",
        "colab_type": "code",
        "colab": {}
      },
      "source": [
        "guns_2015 = pd.read_csv('https://raw.githubusercontent.com/strivedi2/Gun-Violence-in-United-States/master/gun-violence-2015.csv')\n",
        "guns_2016 = pd.read_csv('https://raw.githubusercontent.com/strivedi2/Gun-Violence-in-United-States/master/gun-violence-2016.csv')\n",
        "guns_2017 = pd.read_csv('https://raw.githubusercontent.com/strivedi2/Gun-Violence-in-United-States/master/gun-violence-2017.csv')\n",
        "guns_2018 = pd.read_csv('https://raw.githubusercontent.com/strivedi2/Gun-Violence-in-United-States/master/gun-violence-2018.csv')"
      ],
      "execution_count": 0,
      "outputs": []
    },
    {
      "cell_type": "markdown",
      "metadata": {
        "id": "FKal0CdyBjQZ",
        "colab_type": "text"
      },
      "source": [
        "We concatenated the above dataframes to create a single dataframe."
      ]
    },
    {
      "cell_type": "code",
      "metadata": {
        "id": "XJA9kgevBkZ0",
        "colab_type": "code",
        "colab": {}
      },
      "source": [
        "guns_df = guns_2013.append([guns_2014,guns_2015,guns_2016,guns_2017,guns_2018])"
      ],
      "execution_count": 0,
      "outputs": []
    },
    {
      "cell_type": "markdown",
      "metadata": {
        "id": "TdwuO1qKFj2i",
        "colab_type": "text"
      },
      "source": [
        "We then checked for total number of columns and rows and identify if there are any columns with very high number of null values."
      ]
    },
    {
      "cell_type": "code",
      "metadata": {
        "id": "QVRBgNV5DxZN",
        "colab_type": "code",
        "outputId": "e5604025-c654-45f7-a659-decc8c104ba4",
        "colab": {
          "base_uri": "https://localhost:8080/"
        }
      },
      "source": [
        "guns_df.shape"
      ],
      "execution_count": 0,
      "outputs": [
        {
          "output_type": "execute_result",
          "data": {
            "text/plain": [
              "(239677, 19)"
            ]
          },
          "metadata": {
            "tags": []
          },
          "execution_count": 82
        }
      ]
    },
    {
      "cell_type": "code",
      "metadata": {
        "id": "JDFOCCRlE9Zz",
        "colab_type": "code",
        "outputId": "64d082b3-58d6-4425-97b4-3cf0b3cf318c",
        "colab": {
          "base_uri": "https://localhost:8080/"
        }
      },
      "source": [
        "# To check for null values in the dataset\n",
        "guns_df.isna().sum()"
      ],
      "execution_count": 0,
      "outputs": [
        {
          "output_type": "execute_result",
          "data": {
            "text/plain": [
              "incident_id                 0    \n",
              "date                        0    \n",
              "state                       0    \n",
              "city_or_county              0    \n",
              "n_killed                    0    \n",
              "n_injured                   0    \n",
              "congressional_district      11944\n",
              "gun_stolen                  99498\n",
              "gun_type                    99451\n",
              "incident_characteristics    326  \n",
              "latitude                    7923 \n",
              "longitude                   7923 \n",
              "n_guns_involved             99451\n",
              "participant_age_group       42119\n",
              "participant_gender          36362\n",
              "participant_status          27626\n",
              "participant_type            24863\n",
              "state_house_district        38772\n",
              "state_senate_district       32335\n",
              "dtype: int64"
            ]
          },
          "metadata": {
            "tags": []
          },
          "execution_count": 83
        }
      ]
    },
    {
      "cell_type": "markdown",
      "metadata": {
        "id": "R-Oh8VdbI6i8",
        "colab_type": "text"
      },
      "source": [
        "### **Data Cleaning**"
      ]
    },
    {
      "cell_type": "markdown",
      "metadata": {
        "id": "ic-C-n1XIR08",
        "colab_type": "text"
      },
      "source": [
        "**Drop columns with high null values** <br>\n",
        "We dropped columns where the null values were greater than 90,000 since we believe they will not be relevant to our analyses. <br>\n",
        "We also dropped column participant_status since the same data is available in numeric form in n_killed and n_injured columns."
      ]
    },
    {
      "cell_type": "code",
      "metadata": {
        "id": "NABQKMf6hrPG",
        "colab_type": "code",
        "colab": {}
      },
      "source": [
        "guns_df.drop(columns =['gun_stolen','gun_type','n_guns_involved','participant_status'], inplace = True)"
      ],
      "execution_count": 0,
      "outputs": []
    },
    {
      "cell_type": "markdown",
      "metadata": {
        "id": "6XQUHiUh6-na",
        "colab_type": "text"
      },
      "source": [
        "At this stage, the dataframe has following columns"
      ]
    },
    {
      "cell_type": "code",
      "metadata": {
        "id": "tIWVJhlwhQkT",
        "colab_type": "code",
        "outputId": "66fa8aee-bffb-4388-b85a-8a11fa26a87b",
        "colab": {
          "base_uri": "https://localhost:8080/"
        }
      },
      "source": [
        "guns_df.columns"
      ],
      "execution_count": 0,
      "outputs": [
        {
          "output_type": "execute_result",
          "data": {
            "text/plain": [
              "Index(['incident_id', 'date', 'state', 'city_or_county', 'n_killed',\n",
              "       'n_injured', 'congressional_district', 'incident_characteristics',\n",
              "       'latitude', 'longitude', 'participant_age_group', 'participant_gender',\n",
              "       'participant_type', 'state_house_district', 'state_senate_district'],\n",
              "      dtype='object')"
            ]
          },
          "metadata": {
            "tags": []
          },
          "execution_count": 85
        }
      ]
    },
    {
      "cell_type": "code",
      "metadata": {
        "id": "3S6LG3T0FAuD",
        "colab_type": "code",
        "outputId": "f813d4e4-3c6c-4de3-9787-3549f4834039",
        "colab": {
          "base_uri": "https://localhost:8080/"
        }
      },
      "source": [
        "guns_df.head(2)"
      ],
      "execution_count": 0,
      "outputs": [
        {
          "output_type": "execute_result",
          "data": {
            "text/html": [
              "<div>\n",
              "<style scoped>\n",
              "    .dataframe tbody tr th:only-of-type {\n",
              "        vertical-align: middle;\n",
              "    }\n",
              "\n",
              "    .dataframe tbody tr th {\n",
              "        vertical-align: top;\n",
              "    }\n",
              "\n",
              "    .dataframe thead th {\n",
              "        text-align: right;\n",
              "    }\n",
              "</style>\n",
              "<table border=\"1\" class=\"dataframe\">\n",
              "  <thead>\n",
              "    <tr style=\"text-align: right;\">\n",
              "      <th></th>\n",
              "      <th>incident_id</th>\n",
              "      <th>date</th>\n",
              "      <th>state</th>\n",
              "      <th>city_or_county</th>\n",
              "      <th>n_killed</th>\n",
              "      <th>n_injured</th>\n",
              "      <th>congressional_district</th>\n",
              "      <th>incident_characteristics</th>\n",
              "      <th>latitude</th>\n",
              "      <th>longitude</th>\n",
              "      <th>participant_age_group</th>\n",
              "      <th>participant_gender</th>\n",
              "      <th>participant_type</th>\n",
              "      <th>state_house_district</th>\n",
              "      <th>state_senate_district</th>\n",
              "    </tr>\n",
              "  </thead>\n",
              "  <tbody>\n",
              "    <tr>\n",
              "      <th>0</th>\n",
              "      <td>461105</td>\n",
              "      <td>1/1/13</td>\n",
              "      <td>Pennsylvania</td>\n",
              "      <td>Mckeesport</td>\n",
              "      <td>0</td>\n",
              "      <td>4</td>\n",
              "      <td>14.0</td>\n",
              "      <td>Shot - Wounded/Injured||Mass Shooting (4+ victims injured or killed excluding the subject/suspect/perpetrator, one location)||Possession (gun(s) found during commission of other crimes)||Possession of gun by felon or prohibited person</td>\n",
              "      <td>40.3467</td>\n",
              "      <td>-79.8559</td>\n",
              "      <td>0::Adult 18+||1::Adult 18+||2::Adult 18+||3::Adult 18+||4::Adult 18+</td>\n",
              "      <td>0::Male||1::Male||3::Male||4::Female</td>\n",
              "      <td>0::Victim||1::Victim||2::Victim||3::Victim||4::Subject-Suspect</td>\n",
              "      <td>NaN</td>\n",
              "      <td>NaN</td>\n",
              "    </tr>\n",
              "    <tr>\n",
              "      <th>1</th>\n",
              "      <td>460726</td>\n",
              "      <td>1/1/13</td>\n",
              "      <td>California</td>\n",
              "      <td>Hawthorne</td>\n",
              "      <td>1</td>\n",
              "      <td>3</td>\n",
              "      <td>43.0</td>\n",
              "      <td>Shot - Wounded/Injured||Shot - Dead (murder, accidental, suicide)||Mass Shooting (4+ victims injured or killed excluding the subject/suspect/perpetrator, one location)||Gang involvement</td>\n",
              "      <td>33.9090</td>\n",
              "      <td>-118.3330</td>\n",
              "      <td>0::Adult 18+||1::Adult 18+||2::Adult 18+||3::Adult 18+</td>\n",
              "      <td>0::Male</td>\n",
              "      <td>0::Victim||1::Victim||2::Victim||3::Victim||4::Subject-Suspect</td>\n",
              "      <td>62.0</td>\n",
              "      <td>35.0</td>\n",
              "    </tr>\n",
              "  </tbody>\n",
              "</table>\n",
              "</div>"
            ],
            "text/plain": [
              "   incident_id    date         state city_or_county  n_killed  n_injured  \\\n",
              "0  461105       1/1/13  Pennsylvania  Mckeesport     0         4           \n",
              "1  460726       1/1/13  California    Hawthorne      1         3           \n",
              "\n",
              "   congressional_district  \\\n",
              "0  14.0                     \n",
              "1  43.0                     \n",
              "\n",
              "                                                                                                                                                                                                                     incident_characteristics  \\\n",
              "0  Shot - Wounded/Injured||Mass Shooting (4+ victims injured or killed excluding the subject/suspect/perpetrator, one location)||Possession (gun(s) found during commission of other crimes)||Possession of gun by felon or prohibited person   \n",
              "1  Shot - Wounded/Injured||Shot - Dead (murder, accidental, suicide)||Mass Shooting (4+ victims injured or killed excluding the subject/suspect/perpetrator, one location)||Gang involvement                                                    \n",
              "\n",
              "   latitude  longitude  \\\n",
              "0  40.3467  -79.8559     \n",
              "1  33.9090  -118.3330    \n",
              "\n",
              "                                                  participant_age_group  \\\n",
              "0  0::Adult 18+||1::Adult 18+||2::Adult 18+||3::Adult 18+||4::Adult 18+   \n",
              "1  0::Adult 18+||1::Adult 18+||2::Adult 18+||3::Adult 18+                 \n",
              "\n",
              "                     participant_gender  \\\n",
              "0  0::Male||1::Male||3::Male||4::Female   \n",
              "1  0::Male                                \n",
              "\n",
              "                                                 participant_type  \\\n",
              "0  0::Victim||1::Victim||2::Victim||3::Victim||4::Subject-Suspect   \n",
              "1  0::Victim||1::Victim||2::Victim||3::Victim||4::Subject-Suspect   \n",
              "\n",
              "   state_house_district  state_senate_district  \n",
              "0 NaN                   NaN                     \n",
              "1  62.0                  35.0                   "
            ]
          },
          "metadata": {
            "tags": []
          },
          "execution_count": 86
        }
      ]
    },
    {
      "cell_type": "markdown",
      "metadata": {
        "id": "aEnitRuc7Tgm",
        "colab_type": "text"
      },
      "source": [
        "We have created Date Fields from the date column to help us plot yearly, monthly or weekly gun violence trends."
      ]
    },
    {
      "cell_type": "code",
      "metadata": {
        "id": "dacJemcoeeL5",
        "colab_type": "code",
        "colab": {}
      },
      "source": [
        "# Creating Date fields \n",
        "\n",
        "guns_df['date'] = pd.to_datetime(guns_df['date'])\n",
        "guns_df['year'] = guns_df['date'].dt.year\n",
        "guns_df['month'] = guns_df['date'].dt.month\n",
        "guns_df['monthday'] = guns_df['date'].dt.day\n",
        "guns_df['weekday'] = guns_df['date'].dt.weekday"
      ],
      "execution_count": 0,
      "outputs": []
    },
    {
      "cell_type": "markdown",
      "metadata": {
        "id": "bLnD4rJnSGeJ",
        "colab_type": "text"
      },
      "source": [
        "### **Understanding types of gun violence incidents**\n",
        "\n",
        "We wanted to categorize each incident into - **Mass Shooting, Suicide and/ or Officer Involved Shooting.**\n",
        "\n",
        "We checked for above keywords in the incident_characateristics column. Since these are not mutually exclusive incidents we created new columns to indicate 1 if it was a Mass Shooting and 0 if not. Same approach was followed for Suicide and/ or Officer Involved Shooting columns."
      ]
    },
    {
      "cell_type": "code",
      "metadata": {
        "id": "Ln1FWRyIKfRK",
        "colab_type": "code",
        "colab": {}
      },
      "source": [
        "# New columns for Mass Shootings, Suicides, Officer Involved Shooting in original dataframe\n",
        "\n",
        "guns_df['Mass_Shooting'] = guns_df['incident_characteristics'].str.contains(\"Mass Shooting\") * 1.0\n",
        "\n",
        "guns_df['Officer_Involved_Shooting'] = guns_df['incident_characteristics'].str.contains(\"Officer Involved Shooting\") * 1.0\n",
        "\n",
        "guns_df['Suicide'] = guns_df['incident_characteristics'].str.contains(\"Suicide\") * 1.0\n"
      ],
      "execution_count": 0,
      "outputs": []
    },
    {
      "cell_type": "markdown",
      "metadata": {
        "id": "qZRrTgpQShvO",
        "colab_type": "text"
      },
      "source": [
        "We also found a high number of incidents involving **Gun possession by felons and Accidental Shootings** and created new columns to record these characterstics. \n",
        "\n",
        "We believe these aspects are important for analysis across different states. States with stricter laws should ideally be not allowing guns to get into hands of felons. \n",
        "\n",
        "Also, we want to understand how many people are injured due to accidental shootings."
      ]
    },
    {
      "cell_type": "code",
      "metadata": {
        "id": "WtQBuaNZRk3N",
        "colab_type": "code",
        "colab": {}
      },
      "source": [
        "guns_df['Gun_Possession_felon'] = guns_df['incident_characteristics'].str.contains(\"Possession of gun by felon\") * 1.0\n",
        "\n",
        "guns_df['Accidental_Shootings'] = guns_df['incident_characteristics'].str.contains(\"Accidental Shooting\") * 1.0"
      ],
      "execution_count": 0,
      "outputs": []
    },
    {
      "cell_type": "code",
      "metadata": {
        "id": "HYAQQnymRZ3d",
        "colab_type": "code",
        "colab": {}
      },
      "source": [
        "# Drop columns incident_characterstics\n",
        "guns_df.drop(columns ='incident_characteristics', inplace = True)"
      ],
      "execution_count": 0,
      "outputs": []
    },
    {
      "cell_type": "code",
      "metadata": {
        "id": "1xSuGrrbva15",
        "colab_type": "code",
        "outputId": "169a010e-0776-42b9-fad2-1e80222a2590",
        "colab": {
          "base_uri": "https://localhost:8080/"
        }
      },
      "source": [
        "guns_df.columns"
      ],
      "execution_count": 0,
      "outputs": [
        {
          "output_type": "execute_result",
          "data": {
            "text/plain": [
              "Index(['incident_id', 'date', 'state', 'city_or_county', 'n_killed',\n",
              "       'n_injured', 'congressional_district', 'latitude', 'longitude',\n",
              "       'participant_age_group', 'participant_gender', 'participant_type',\n",
              "       'state_house_district', 'state_senate_district', 'year', 'month',\n",
              "       'monthday', 'weekday', 'Mass_Shooting', 'Officer_Involved_Shooting',\n",
              "       'Suicide', 'Gun_Possession_felon', 'Accidental_Shootings'],\n",
              "      dtype='object')"
            ]
          },
          "metadata": {
            "tags": []
          },
          "execution_count": 91
        }
      ]
    },
    {
      "cell_type": "markdown",
      "metadata": {
        "id": "HBCdtfm7DDOo",
        "colab_type": "text"
      },
      "source": [
        "### Overall trend of gun violence incidents"
      ]
    },
    {
      "cell_type": "code",
      "metadata": {
        "id": "fTz8GJTuDJct",
        "colab_type": "code",
        "outputId": "a38da77c-3e17-4b9c-b039-a20de7bed8fc",
        "colab": {
          "base_uri": "https://localhost:8080/"
        }
      },
      "source": [
        "# Plotting yearly trend of gun violence incidents in United States\n",
        "alt.Chart(guns_df.groupby('year')['incident_id'].count().reset_index()).mark_line().encode(\n",
        "    alt.X('year:O', title = 'Year'),\n",
        "    alt.Y('incident_id', title = 'Total number of gun violence incidents')\n",
        ").properties(\n",
        "    title = 'Trend of gun violence incidents, Jan. 2013 - Mar. 2018',\n",
        "    width=600).configure_axis(\n",
        "    grid=False\n",
        ")\n",
        "\n"
      ],
      "execution_count": 0,
      "outputs": [
        {
          "output_type": "execute_result",
          "data": {
            "text/plain": [
              "Chart({\n",
              "  config: Config({\n",
              "    axis: AxisConfig({\n",
              "      grid: False\n",
              "    })\n",
              "  }),\n",
              "  data:    year  incident_id\n",
              "  0  2013  278        \n",
              "  1  2014  51854      \n",
              "  2  2015  53579      \n",
              "  3  2016  58763      \n",
              "  4  2017  61401      \n",
              "  5  2018  13802      ,\n",
              "  encoding: FacetedEncoding({\n",
              "    x: X({\n",
              "      shorthand: 'year:O',\n",
              "      title: 'Year'\n",
              "    }),\n",
              "    y: Y({\n",
              "      shorthand: 'incident_id',\n",
              "      title: 'Total number of gun violence incidents'\n",
              "    })\n",
              "  }),\n",
              "  mark: 'line',\n",
              "  title: 'Trend of gun violence incidents, Jan. 2013 - Mar. 2018',\n",
              "  width: 600\n",
              "})"
            ],
            "text/html": [
              "<!DOCTYPE html>\n",
              "<html>\n",
              "<head>\n",
              "  <style>\n",
              "    .vega-actions a {\n",
              "        margin-right: 12px;\n",
              "        color: #757575;\n",
              "        font-weight: normal;\n",
              "        font-size: 13px;\n",
              "    }\n",
              "    .error {\n",
              "        color: red;\n",
              "    }\n",
              "  </style>\n",
              "  <script type=\"text/javascript\" src=\"https://cdn.jsdelivr.net/npm//vega@5\"></script>\n",
              "  <script type=\"text/javascript\" src=\"https://cdn.jsdelivr.net/npm//vega-lite@3.2.1\"></script>\n",
              "  <script type=\"text/javascript\" src=\"https://cdn.jsdelivr.net/npm//vega-embed@4\"></script>\n",
              "</head>\n",
              "<body>\n",
              "  <div id=\"altair-viz\"></div>\n",
              "  <script>\n",
              "      var spec = {\"config\": {\"view\": {\"width\": 400, \"height\": 300}, \"mark\": {\"tooltip\": null}, \"axis\": {\"grid\": false}}, \"data\": {\"name\": \"data-1aa777a4f64995ab6788cdd7d0c98d96\"}, \"mark\": \"line\", \"encoding\": {\"x\": {\"type\": \"ordinal\", \"field\": \"year\", \"title\": \"Year\"}, \"y\": {\"type\": \"quantitative\", \"field\": \"incident_id\", \"title\": \"Total number of gun violence incidents\"}}, \"title\": \"Trend of gun violence incidents, Jan. 2013 - Mar. 2018\", \"width\": 600, \"$schema\": \"https://vega.github.io/schema/vega-lite/v3.2.1.json\", \"datasets\": {\"data-1aa777a4f64995ab6788cdd7d0c98d96\": [{\"year\": 2013, \"incident_id\": 278}, {\"year\": 2014, \"incident_id\": 51854}, {\"year\": 2015, \"incident_id\": 53579}, {\"year\": 2016, \"incident_id\": 58763}, {\"year\": 2017, \"incident_id\": 61401}, {\"year\": 2018, \"incident_id\": 13802}]}};\n",
              "      var embedOpt = {\"mode\": \"vega-lite\"};\n",
              "\n",
              "      function showError(el, error){\n",
              "          el.innerHTML = ('<div class=\"error\" style=\"color:red;\">'\n",
              "                          + '<p>JavaScript Error: ' + error.message + '</p>'\n",
              "                          + \"<p>This usually means there's a typo in your chart specification. \"\n",
              "                          + \"See the javascript console for the full traceback.</p>\"\n",
              "                          + '</div>');\n",
              "          throw error;\n",
              "      }\n",
              "      const el = document.getElementById('altair-viz');\n",
              "      vegaEmbed(\"#altair-viz\", spec, embedOpt)\n",
              "        .catch(error => showError(el, error));\n",
              "\n",
              "  </script>\n",
              "</body>\n",
              "</html>"
            ]
          },
          "metadata": {
            "tags": []
          },
          "execution_count": 92
        }
      ]
    },
    {
      "cell_type": "markdown",
      "metadata": {
        "id": "pV5rr1CtnCXe",
        "colab_type": "text"
      },
      "source": [
        "**Number of mass shootings by state.**"
      ]
    },
    {
      "cell_type": "code",
      "metadata": {
        "id": "OAq4cyVQTGxv",
        "colab_type": "code",
        "outputId": "1ff8acfb-3283-438f-ba1b-f4ad44d50b3b",
        "colab": {
          "base_uri": "https://localhost:8080/"
        }
      },
      "source": [
        "alt.Chart(guns_df.groupby('state')['Mass_Shooting'].count().reset_index()).mark_bar().encode(\n",
        "    alt.X('state', title = 'State', \n",
        "         sort=alt.EncodingSortField(\n",
        "            field=\"Mass_Shooting\",\n",
        "            op=\"sum\",\n",
        "            order=\"descending\"\n",
        "        )),\n",
        "    alt.Y('Mass_Shooting', title = 'Total number of mass shootings')\n",
        ").properties(\n",
        "    title='Number of mass shootings by state (2013-2018)',\n",
        "    width=650,\n",
        "    height=400\n",
        ").configure_axis(\n",
        "    grid=False\n",
        ")"
      ],
      "execution_count": 0,
      "outputs": [
        {
          "output_type": "execute_result",
          "data": {
            "text/plain": [
              "Chart({\n",
              "  config: Config({\n",
              "    axis: AxisConfig({\n",
              "      grid: False\n",
              "    })\n",
              "  }),\n",
              "  data:                    state  Mass_Shooting\n",
              "  0   Alabama               5470         \n",
              "  1   Alaska                1349         \n",
              "  2   Arizona               2325         \n",
              "  3   Arkansas              2841         \n",
              "  4   California            16289        \n",
              "  5   Colorado              3199         \n",
              "  6   Connecticut           3064         \n",
              "  7   Delaware              1685         \n",
              "  8   District of Columbia  3191         \n",
              "  9   Florida               15020        \n",
              "  10  Georgia               8922         \n",
              "  11  Hawaii                288          \n",
              "  12  Idaho                 661          \n",
              "  13  Illinois              17506        \n",
              "  14  Indiana               5835         \n",
              "  15  Iowa                  2511         \n",
              "  16  Kansas                2145         \n",
              "  17  Kentucky              4148         \n",
              "  18  Louisiana             8083         \n",
              "  19  Maine                 907          \n",
              "  20  Maryland              5792         \n",
              "  21  Massachusetts         5976         \n",
              "  22  Michigan              6113         \n",
              "  23  Minnesota             2405         \n",
              "  24  Mississippi           3597         \n",
              "  25  Missouri              6628         \n",
              "  26  Montana               638          \n",
              "  27  Nebraska              1651         \n",
              "  28  Nevada                1948         \n",
              "  29  New Hampshire         964          \n",
              "  30  New Jersey            5383         \n",
              "  31  New Mexico            1642         \n",
              "  32  New York              9703         \n",
              "  33  North Carolina        8732         \n",
              "  34  North Dakota          572          \n",
              "  35  Ohio                  10225        \n",
              "  36  Oklahoma              3450         \n",
              "  37  Oregon                2286         \n",
              "  38  Pennsylvania          8925         \n",
              "  39  Rhode Island          895          \n",
              "  40  South Carolina        6933         \n",
              "  41  South Dakota          543          \n",
              "  42  Tennessee             7617         \n",
              "  43  Texas                 13539        \n",
              "  44  Utah                  1072         \n",
              "  45  Vermont               472          \n",
              "  46  Virginia              5932         \n",
              "  47  Washington            3433         \n",
              "  48  West Virginia         1575         \n",
              "  49  Wisconsin             4778         \n",
              "  50  Wyoming               493          ,\n",
              "  encoding: FacetedEncoding({\n",
              "    x: X({\n",
              "      shorthand: 'state',\n",
              "      sort: EncodingSortField({\n",
              "        field: 'Mass_Shooting',\n",
              "        op: 'sum',\n",
              "        order: 'descending'\n",
              "      }),\n",
              "      title: 'State'\n",
              "    }),\n",
              "    y: Y({\n",
              "      shorthand: 'Mass_Shooting',\n",
              "      title: 'Total number of mass shootings'\n",
              "    })\n",
              "  }),\n",
              "  height: 400,\n",
              "  mark: 'bar',\n",
              "  title: 'Number of mass shootings by state (2013-2018)',\n",
              "  width: 650\n",
              "})"
            ],
            "text/html": [
              "<!DOCTYPE html>\n",
              "<html>\n",
              "<head>\n",
              "  <style>\n",
              "    .vega-actions a {\n",
              "        margin-right: 12px;\n",
              "        color: #757575;\n",
              "        font-weight: normal;\n",
              "        font-size: 13px;\n",
              "    }\n",
              "    .error {\n",
              "        color: red;\n",
              "    }\n",
              "  </style>\n",
              "  <script type=\"text/javascript\" src=\"https://cdn.jsdelivr.net/npm//vega@5\"></script>\n",
              "  <script type=\"text/javascript\" src=\"https://cdn.jsdelivr.net/npm//vega-lite@3.2.1\"></script>\n",
              "  <script type=\"text/javascript\" src=\"https://cdn.jsdelivr.net/npm//vega-embed@4\"></script>\n",
              "</head>\n",
              "<body>\n",
              "  <div id=\"altair-viz\"></div>\n",
              "  <script>\n",
              "      var spec = {\"config\": {\"view\": {\"width\": 400, \"height\": 300}, \"mark\": {\"tooltip\": null}, \"axis\": {\"grid\": false}}, \"data\": {\"name\": \"data-9f14693fd8dc5d1a3cad807d4028de5f\"}, \"mark\": \"bar\", \"encoding\": {\"x\": {\"type\": \"nominal\", \"field\": \"state\", \"sort\": {\"field\": \"Mass_Shooting\", \"op\": \"sum\", \"order\": \"descending\"}, \"title\": \"State\"}, \"y\": {\"type\": \"quantitative\", \"field\": \"Mass_Shooting\", \"title\": \"Total number of mass shootings\"}}, \"height\": 400, \"title\": \"Number of mass shootings by state (2013-2018)\", \"width\": 650, \"$schema\": \"https://vega.github.io/schema/vega-lite/v3.2.1.json\", \"datasets\": {\"data-9f14693fd8dc5d1a3cad807d4028de5f\": [{\"state\": \"Alabama\", \"Mass_Shooting\": 5470}, {\"state\": \"Alaska\", \"Mass_Shooting\": 1349}, {\"state\": \"Arizona\", \"Mass_Shooting\": 2325}, {\"state\": \"Arkansas\", \"Mass_Shooting\": 2841}, {\"state\": \"California\", \"Mass_Shooting\": 16289}, {\"state\": \"Colorado\", \"Mass_Shooting\": 3199}, {\"state\": \"Connecticut\", \"Mass_Shooting\": 3064}, {\"state\": \"Delaware\", \"Mass_Shooting\": 1685}, {\"state\": \"District of Columbia\", \"Mass_Shooting\": 3191}, {\"state\": \"Florida\", \"Mass_Shooting\": 15020}, {\"state\": \"Georgia\", \"Mass_Shooting\": 8922}, {\"state\": \"Hawaii\", \"Mass_Shooting\": 288}, {\"state\": \"Idaho\", \"Mass_Shooting\": 661}, {\"state\": \"Illinois\", \"Mass_Shooting\": 17506}, {\"state\": \"Indiana\", \"Mass_Shooting\": 5835}, {\"state\": \"Iowa\", \"Mass_Shooting\": 2511}, {\"state\": \"Kansas\", \"Mass_Shooting\": 2145}, {\"state\": \"Kentucky\", \"Mass_Shooting\": 4148}, {\"state\": \"Louisiana\", \"Mass_Shooting\": 8083}, {\"state\": \"Maine\", \"Mass_Shooting\": 907}, {\"state\": \"Maryland\", \"Mass_Shooting\": 5792}, {\"state\": \"Massachusetts\", \"Mass_Shooting\": 5976}, {\"state\": \"Michigan\", \"Mass_Shooting\": 6113}, {\"state\": \"Minnesota\", \"Mass_Shooting\": 2405}, {\"state\": \"Mississippi\", \"Mass_Shooting\": 3597}, {\"state\": \"Missouri\", \"Mass_Shooting\": 6628}, {\"state\": \"Montana\", \"Mass_Shooting\": 638}, {\"state\": \"Nebraska\", \"Mass_Shooting\": 1651}, {\"state\": \"Nevada\", \"Mass_Shooting\": 1948}, {\"state\": \"New Hampshire\", \"Mass_Shooting\": 964}, {\"state\": \"New Jersey\", \"Mass_Shooting\": 5383}, {\"state\": \"New Mexico\", \"Mass_Shooting\": 1642}, {\"state\": \"New York\", \"Mass_Shooting\": 9703}, {\"state\": \"North Carolina\", \"Mass_Shooting\": 8732}, {\"state\": \"North Dakota\", \"Mass_Shooting\": 572}, {\"state\": \"Ohio\", \"Mass_Shooting\": 10225}, {\"state\": \"Oklahoma\", \"Mass_Shooting\": 3450}, {\"state\": \"Oregon\", \"Mass_Shooting\": 2286}, {\"state\": \"Pennsylvania\", \"Mass_Shooting\": 8925}, {\"state\": \"Rhode Island\", \"Mass_Shooting\": 895}, {\"state\": \"South Carolina\", \"Mass_Shooting\": 6933}, {\"state\": \"South Dakota\", \"Mass_Shooting\": 543}, {\"state\": \"Tennessee\", \"Mass_Shooting\": 7617}, {\"state\": \"Texas\", \"Mass_Shooting\": 13539}, {\"state\": \"Utah\", \"Mass_Shooting\": 1072}, {\"state\": \"Vermont\", \"Mass_Shooting\": 472}, {\"state\": \"Virginia\", \"Mass_Shooting\": 5932}, {\"state\": \"Washington\", \"Mass_Shooting\": 3433}, {\"state\": \"West Virginia\", \"Mass_Shooting\": 1575}, {\"state\": \"Wisconsin\", \"Mass_Shooting\": 4778}, {\"state\": \"Wyoming\", \"Mass_Shooting\": 493}]}};\n",
              "      var embedOpt = {\"mode\": \"vega-lite\"};\n",
              "\n",
              "      function showError(el, error){\n",
              "          el.innerHTML = ('<div class=\"error\" style=\"color:red;\">'\n",
              "                          + '<p>JavaScript Error: ' + error.message + '</p>'\n",
              "                          + \"<p>This usually means there's a typo in your chart specification. \"\n",
              "                          + \"See the javascript console for the full traceback.</p>\"\n",
              "                          + '</div>');\n",
              "          throw error;\n",
              "      }\n",
              "      const el = document.getElementById('altair-viz');\n",
              "      vegaEmbed(\"#altair-viz\", spec, embedOpt)\n",
              "        .catch(error => showError(el, error));\n",
              "\n",
              "  </script>\n",
              "</body>\n",
              "</html>"
            ]
          },
          "metadata": {
            "tags": []
          },
          "execution_count": 93
        }
      ]
    },
    {
      "cell_type": "markdown",
      "metadata": {
        "id": "hSkyQqdDlcPC",
        "colab_type": "text"
      },
      "source": [
        "### **Limitations in the Dataset**"
      ]
    },
    {
      "cell_type": "markdown",
      "metadata": {
        "id": "1j01GuTylcHy",
        "colab_type": "text"
      },
      "source": [
        "One of the challenges encountered in our analysis were caused by how the gun violence incidents were recorded in the dataset. Each entry in the dataset identifies an incident. Hence essential columns like Age, Participant type(suspect or victim), Gender were recorded in group. \n",
        "\n",
        "\n",
        "\n",
        "Participant Gender  | Participant Type\n",
        "--- | ---\n",
        "0::Male\\|1::Male\\|2::Male\\|3::Female | 0::Victim\\|1::Victim\\|2::Victim\\|3::Subject-Suspect\n",
        "\n",
        "\n",
        "The challenge was to map these columns with each other to derive insights. For instance to know the Age of a particular participant like Suspect of the incident required valid mapping. Each record had different number of participants which made the extraction of the values even difficult.\n",
        "\n",
        "For analysing the profile of Victims and Suspects we followed approach taken in this  [Kaggle Kernel](https://www.kaggle.com/shivamb/deep-exploration-of-gun-violence-in-us)."
      ]
    },
    {
      "cell_type": "code",
      "metadata": {
        "id": "MliWm3bCURSP",
        "colab_type": "code",
        "colab": {}
      },
      "source": [
        "## Function for converting the values in form of key, value pair\n",
        "def get_user_mapping(txt):\n",
        "    if txt == \"NA\":\n",
        "        return {}\n",
        "    mapping = {}\n",
        "    for d in txt.split(\"||\"):\n",
        "        try:\n",
        "            key = d.split(\"::\")[0]\n",
        "            val = d.split(\"::\")[1]\n",
        "            if key not in mapping:\n",
        "                mapping[key] = val\n",
        "        except:\n",
        "            pass\n",
        "\n",
        "    return mapping"
      ],
      "execution_count": 0,
      "outputs": []
    },
    {
      "cell_type": "code",
      "metadata": {
        "id": "eEfgqr78UROu",
        "colab_type": "code",
        "colab": {}
      },
      "source": [
        "# Creating mapped columns for participants age group, type and gender\n",
        "guns_df['participant_type'] = guns_df['participant_type'].fillna(\"NA\")\n",
        "guns_df['participant_type_map'] = guns_df['participant_type'].apply(lambda x : get_user_mapping(x))\n",
        "guns_df['participant_age_group'] = guns_df['participant_age_group'].fillna(\"NA\")\n",
        "guns_df['participant_age_map'] = guns_df['participant_age_group'].apply(lambda x : get_user_mapping(x))\n",
        "guns_df['participant_gender'] = guns_df['participant_gender'].fillna(\"NA\")\n",
        "guns_df['participant_gender_map'] = guns_df['participant_gender'].apply(lambda x : get_user_mapping(x))"
      ],
      "execution_count": 0,
      "outputs": []
    },
    {
      "cell_type": "markdown",
      "metadata": {
        "id": "TaJJkMMWT8-H",
        "colab_type": "text"
      },
      "source": [
        "### **Understanding Gun Violence Suspects Profile**\n",
        "\n",
        "We wanted to analyze age and gender of suspects and victims of gun violence to identify any significant trends/insights.\n",
        "\n",
        "\n",
        "For analysing the profile of Victims and Suspects we followed approach taken in this  [Kaggle Kernel](https://www.kaggle.com/shivamb/deep-exploration-of-gun-violence-in-us)."
      ]
    },
    {
      "cell_type": "code",
      "metadata": {
        "id": "yMH50FZ_URIW",
        "colab_type": "code",
        "colab": {}
      },
      "source": [
        "## Finding the Suspect Age Groups\n",
        "suspect_age_groups = {}\n",
        "for i, row in guns_df.iterrows():\n",
        "    suspects = []\n",
        "    for k,v in row['participant_type_map'].items():\n",
        "        if \"suspect\" in v.lower():\n",
        "            suspects.append(k)\n",
        "    for suspect in suspects:\n",
        "        if suspect in row['participant_age_map']:\n",
        "            ag = row['participant_age_map'][suspect]\n",
        "            if ag not in suspect_age_groups:\n",
        "                suspect_age_groups[ag] = 0 \n",
        "            else:\n",
        "                suspect_age_groups[ag] += 1"
      ],
      "execution_count": 0,
      "outputs": []
    },
    {
      "cell_type": "code",
      "metadata": {
        "id": "_8CmpkJJURE1",
        "colab_type": "code",
        "outputId": "129185a7-7b55-4ff5-e952-ff064bcb4e8e",
        "colab": {
          "base_uri": "https://localhost:8080/"
        }
      },
      "source": [
        "# Plotting suspects age distribution\n",
        "source = pd.DataFrame({\n",
        "    'a': list(suspect_age_groups.keys()),\n",
        "    'b': list(suspect_age_groups.values())\n",
        "})\n",
        "alt.Chart(source).mark_bar(size = 80).encode(\n",
        "    alt.X('a:N', title='Age Group', \n",
        "         sort=alt.EncodingSortField(\n",
        "            field=\"b\",\n",
        "            op=\"sum\",\n",
        "            order=\"ascending\"\n",
        "        )),\n",
        "    alt.Y('b:Q', title = 'Number of Suspects',axis=alt.Axis(format='s')),\n",
        "    tooltip = (\"b\")\n",
        ").properties(\n",
        "    title='Suspects: Age Distribution',\n",
        "    width=400,\n",
        "    height=400\n",
        ").configure_axis(\n",
        "    grid=False\n",
        ")"
      ],
      "execution_count": 0,
      "outputs": [
        {
          "output_type": "execute_result",
          "data": {
            "text/plain": [
              "Chart({\n",
              "  config: Config({\n",
              "    axis: AxisConfig({\n",
              "      grid: False\n",
              "    })\n",
              "  }),\n",
              "  data:             a       b\n",
              "  0  Adult 18+   151071\n",
              "  1  Teen 12-17  12849 \n",
              "  2  Child 0-11  577   ,\n",
              "  encoding: FacetedEncoding({\n",
              "    tooltip: Tooltip({\n",
              "      shorthand: 'b'\n",
              "    }),\n",
              "    x: X({\n",
              "      shorthand: 'a:N',\n",
              "      sort: EncodingSortField({\n",
              "        field: 'b',\n",
              "        op: 'sum',\n",
              "        order: 'ascending'\n",
              "      }),\n",
              "      title: 'Age Group'\n",
              "    }),\n",
              "    y: Y({\n",
              "      axis: Axis({\n",
              "        format: 's'\n",
              "      }),\n",
              "      shorthand: 'b:Q',\n",
              "      title: 'Number of Suspects'\n",
              "    })\n",
              "  }),\n",
              "  height: 400,\n",
              "  mark: MarkDef({\n",
              "    size: 80,\n",
              "    type: 'bar'\n",
              "  }),\n",
              "  title: 'Suspects: Age Distribution',\n",
              "  width: 400\n",
              "})"
            ],
            "text/html": [
              "<!DOCTYPE html>\n",
              "<html>\n",
              "<head>\n",
              "  <style>\n",
              "    .vega-actions a {\n",
              "        margin-right: 12px;\n",
              "        color: #757575;\n",
              "        font-weight: normal;\n",
              "        font-size: 13px;\n",
              "    }\n",
              "    .error {\n",
              "        color: red;\n",
              "    }\n",
              "  </style>\n",
              "  <script type=\"text/javascript\" src=\"https://cdn.jsdelivr.net/npm//vega@5\"></script>\n",
              "  <script type=\"text/javascript\" src=\"https://cdn.jsdelivr.net/npm//vega-lite@3.2.1\"></script>\n",
              "  <script type=\"text/javascript\" src=\"https://cdn.jsdelivr.net/npm//vega-embed@4\"></script>\n",
              "</head>\n",
              "<body>\n",
              "  <div id=\"altair-viz\"></div>\n",
              "  <script>\n",
              "      var spec = {\"config\": {\"view\": {\"width\": 400, \"height\": 300}, \"mark\": {\"tooltip\": null}, \"axis\": {\"grid\": false}}, \"data\": {\"name\": \"data-8361a54b01c0661c0fc7569aa96fa1d2\"}, \"mark\": {\"type\": \"bar\", \"size\": 80}, \"encoding\": {\"tooltip\": {\"type\": \"quantitative\", \"field\": \"b\"}, \"x\": {\"type\": \"nominal\", \"field\": \"a\", \"sort\": {\"field\": \"b\", \"op\": \"sum\", \"order\": \"ascending\"}, \"title\": \"Age Group\"}, \"y\": {\"type\": \"quantitative\", \"axis\": {\"format\": \"s\"}, \"field\": \"b\", \"title\": \"Number of Suspects\"}}, \"height\": 400, \"title\": \"Suspects: Age Distribution\", \"width\": 400, \"$schema\": \"https://vega.github.io/schema/vega-lite/v3.2.1.json\", \"datasets\": {\"data-8361a54b01c0661c0fc7569aa96fa1d2\": [{\"a\": \"Adult 18+\", \"b\": 151071}, {\"a\": \"Teen 12-17\", \"b\": 12849}, {\"a\": \"Child 0-11\", \"b\": 577}]}};\n",
              "      var embedOpt = {\"mode\": \"vega-lite\"};\n",
              "\n",
              "      function showError(el, error){\n",
              "          el.innerHTML = ('<div class=\"error\" style=\"color:red;\">'\n",
              "                          + '<p>JavaScript Error: ' + error.message + '</p>'\n",
              "                          + \"<p>This usually means there's a typo in your chart specification. \"\n",
              "                          + \"See the javascript console for the full traceback.</p>\"\n",
              "                          + '</div>');\n",
              "          throw error;\n",
              "      }\n",
              "      const el = document.getElementById('altair-viz');\n",
              "      vegaEmbed(\"#altair-viz\", spec, embedOpt)\n",
              "        .catch(error => showError(el, error));\n",
              "\n",
              "  </script>\n",
              "</body>\n",
              "</html>"
            ]
          },
          "metadata": {
            "tags": []
          },
          "execution_count": 97
        }
      ]
    },
    {
      "cell_type": "markdown",
      "metadata": {
        "id": "nN_DRllbrbCy",
        "colab_type": "text"
      },
      "source": [
        "From the above chart we see that most incidents are carried out by adults older than 18 years but we also see a significant number of incidents involving teens aged 12-17 years."
      ]
    },
    {
      "cell_type": "code",
      "metadata": {
        "id": "scLoPKAcUQ-x",
        "colab_type": "code",
        "colab": {}
      },
      "source": [
        "## Finding the Suspect's Gender\n",
        "suspect_gender = {}\n",
        "for i, row in guns_df.iterrows():\n",
        "    suspects = []\n",
        "    for k,v in row['participant_type_map'].items():\n",
        "        if \"suspect\" in v.lower():\n",
        "            suspects.append(k)\n",
        "    for suspect in suspects:\n",
        "        if suspect in row['participant_gender_map']:\n",
        "            g = row['participant_gender_map'][suspect]\n",
        "            if g not in suspect_gender:\n",
        "                suspect_gender[g] = 0 \n",
        "            else:\n",
        "                suspect_gender[g] += 1"
      ],
      "execution_count": 0,
      "outputs": []
    },
    {
      "cell_type": "code",
      "metadata": {
        "id": "9H5Xa_ds9zD8",
        "colab_type": "code",
        "outputId": "33a75917-5365-4656-9ace-5e89f798b361",
        "colab": {
          "base_uri": "https://localhost:8080/"
        }
      },
      "source": [
        "source = pd.DataFrame({\n",
        "    'a': list(suspect_gender.keys()),\n",
        "    'b': list(suspect_gender.values())\n",
        "})\n",
        "\n",
        "alt.Chart(source).mark_bar(size = 80).encode(\n",
        "    alt.X('a:N', title='Gender'),\n",
        "    alt.Y('b:Q', title = 'Number of Suspects',axis=alt.Axis(format='s')),\n",
        "    tooltip = (\"b\")\n",
        ").properties(\n",
        "    title='Suspects: Gender Distribution',\n",
        "    width=400,\n",
        "    height=400\n",
        ").configure_axis(\n",
        "    grid=False\n",
        ")\n"
      ],
      "execution_count": 0,
      "outputs": [
        {
          "output_type": "execute_result",
          "data": {
            "text/plain": [
              "Chart({\n",
              "  config: Config({\n",
              "    axis: AxisConfig({\n",
              "      grid: False\n",
              "    })\n",
              "  }),\n",
              "  data:         a       b\n",
              "  0  Female  11745 \n",
              "  1  Male    167707,\n",
              "  encoding: FacetedEncoding({\n",
              "    tooltip: Tooltip({\n",
              "      shorthand: 'b'\n",
              "    }),\n",
              "    x: X({\n",
              "      shorthand: 'a:N',\n",
              "      title: 'Gender'\n",
              "    }),\n",
              "    y: Y({\n",
              "      axis: Axis({\n",
              "        format: 's'\n",
              "      }),\n",
              "      shorthand: 'b:Q',\n",
              "      title: 'Number of Suspects'\n",
              "    })\n",
              "  }),\n",
              "  height: 400,\n",
              "  mark: MarkDef({\n",
              "    size: 80,\n",
              "    type: 'bar'\n",
              "  }),\n",
              "  title: 'Suspects: Gender Distribution',\n",
              "  width: 400\n",
              "})"
            ],
            "text/html": [
              "<!DOCTYPE html>\n",
              "<html>\n",
              "<head>\n",
              "  <style>\n",
              "    .vega-actions a {\n",
              "        margin-right: 12px;\n",
              "        color: #757575;\n",
              "        font-weight: normal;\n",
              "        font-size: 13px;\n",
              "    }\n",
              "    .error {\n",
              "        color: red;\n",
              "    }\n",
              "  </style>\n",
              "  <script type=\"text/javascript\" src=\"https://cdn.jsdelivr.net/npm//vega@5\"></script>\n",
              "  <script type=\"text/javascript\" src=\"https://cdn.jsdelivr.net/npm//vega-lite@3.2.1\"></script>\n",
              "  <script type=\"text/javascript\" src=\"https://cdn.jsdelivr.net/npm//vega-embed@4\"></script>\n",
              "</head>\n",
              "<body>\n",
              "  <div id=\"altair-viz\"></div>\n",
              "  <script>\n",
              "      var spec = {\"config\": {\"view\": {\"width\": 400, \"height\": 300}, \"mark\": {\"tooltip\": null}, \"axis\": {\"grid\": false}}, \"data\": {\"name\": \"data-14800407093dfc1a7b4c32e33990f50f\"}, \"mark\": {\"type\": \"bar\", \"size\": 80}, \"encoding\": {\"tooltip\": {\"type\": \"quantitative\", \"field\": \"b\"}, \"x\": {\"type\": \"nominal\", \"field\": \"a\", \"title\": \"Gender\"}, \"y\": {\"type\": \"quantitative\", \"axis\": {\"format\": \"s\"}, \"field\": \"b\", \"title\": \"Number of Suspects\"}}, \"height\": 400, \"title\": \"Suspects: Gender Distribution\", \"width\": 400, \"$schema\": \"https://vega.github.io/schema/vega-lite/v3.2.1.json\", \"datasets\": {\"data-14800407093dfc1a7b4c32e33990f50f\": [{\"a\": \"Female\", \"b\": 11745}, {\"a\": \"Male\", \"b\": 167707}]}};\n",
              "      var embedOpt = {\"mode\": \"vega-lite\"};\n",
              "\n",
              "      function showError(el, error){\n",
              "          el.innerHTML = ('<div class=\"error\" style=\"color:red;\">'\n",
              "                          + '<p>JavaScript Error: ' + error.message + '</p>'\n",
              "                          + \"<p>This usually means there's a typo in your chart specification. \"\n",
              "                          + \"See the javascript console for the full traceback.</p>\"\n",
              "                          + '</div>');\n",
              "          throw error;\n",
              "      }\n",
              "      const el = document.getElementById('altair-viz');\n",
              "      vegaEmbed(\"#altair-viz\", spec, embedOpt)\n",
              "        .catch(error => showError(el, error));\n",
              "\n",
              "  </script>\n",
              "</body>\n",
              "</html>"
            ]
          },
          "metadata": {
            "tags": []
          },
          "execution_count": 99
        }
      ]
    },
    {
      "cell_type": "markdown",
      "metadata": {
        "id": "XRcxu50Gtg-4",
        "colab_type": "text"
      },
      "source": [
        "From the above chart we can see that most of the incidents are committed by Males."
      ]
    },
    {
      "cell_type": "markdown",
      "metadata": {
        "id": "8e20DLVNwgbr",
        "colab_type": "text"
      },
      "source": [
        "### Analysis on Gun ownership in US by state\n",
        "In the [article on Vox's website](https://www.vox.com/policy-and-politics/2017/10/2/16399418/us-gun-violence-statistics-maps-charts), chart 5 depicts the relationship between gun ownership and gun deaths across states in USA. The chart was created using 2013 data for gun ownership and gun deaths. \n",
        "\n",
        "Since we have more recent data (upto March 2018), we were interested in exploring this relationship with gun ownership data for a later time period. We found [2017 gun ownership by state](https://www.thoughtco.com/gun-owners-percentage-of-state-populations-3325153) as compiled by the website [HuntingMark.com](https://huntingmark.com/gun-ownership-stats/#_ftn1%20). The data on this website is taken from ATF (United States Department of Justice Bureau of Alcohol, Tobacco, Firearms and Explosives) report on [Firearm Commerce in the United States, 2017 statistics](https://www.atf.gov/resource-center/docs/undefined/firearms-commerce-united-states-annual-statistical-update-2017/download) **Exhibit 8** on **National Firearms Act Registered Weapons by State (April 2017)** which lists the number of registered guns by state.\n",
        "\n",
        "It is important to note that the actual number of guns might be much more than the numbers depicted here since United States does not have a regulation in place for registration of all guns. But this is the most reliable, if any, data source available to us on gun ownership so we decided to use this for our analysis.\n",
        "\n"
      ]
    },
    {
      "cell_type": "code",
      "metadata": {
        "id": "YFrNFuLO1nC2",
        "colab_type": "code",
        "colab": {}
      },
      "source": [
        "# importing gun ownership data by state\n",
        "state_guns_owned = pd.read_csv('https://raw.githubusercontent.com/strivedi2/Gun-Violence-in-United-States/master/Statewise_Gun_Ownership2017.csv')"
      ],
      "execution_count": 0,
      "outputs": []
    },
    {
      "cell_type": "code",
      "metadata": {
        "id": "5FyYQP0P1nmm",
        "colab_type": "code",
        "outputId": "525674ad-fd6e-41a9-b4ad-f689994e5b68",
        "colab": {
          "base_uri": "https://localhost:8080/"
        }
      },
      "source": [
        "state_guns_owned.head(1)"
      ],
      "execution_count": 0,
      "outputs": [
        {
          "output_type": "execute_result",
          "data": {
            "text/html": [
              "<div>\n",
              "<style scoped>\n",
              "    .dataframe tbody tr th:only-of-type {\n",
              "        vertical-align: middle;\n",
              "    }\n",
              "\n",
              "    .dataframe tbody tr th {\n",
              "        vertical-align: top;\n",
              "    }\n",
              "\n",
              "    .dataframe thead th {\n",
              "        text-align: right;\n",
              "    }\n",
              "</style>\n",
              "<table border=\"1\" class=\"dataframe\">\n",
              "  <thead>\n",
              "    <tr style=\"text-align: right;\">\n",
              "      <th></th>\n",
              "      <th>State</th>\n",
              "      <th>Any Other Weapon1</th>\n",
              "      <th>Destructive Device2</th>\n",
              "      <th>Machinegun3</th>\n",
              "      <th>Silencer4</th>\n",
              "      <th>Short Barreled Rifle5</th>\n",
              "      <th>Short Barreled Shotgun6</th>\n",
              "      <th>Total</th>\n",
              "    </tr>\n",
              "  </thead>\n",
              "  <tbody>\n",
              "    <tr>\n",
              "      <th>0</th>\n",
              "      <td>Alabama</td>\n",
              "      <td>1,203</td>\n",
              "      <td>78,434</td>\n",
              "      <td>26,307</td>\n",
              "      <td>48,118</td>\n",
              "      <td>5,285</td>\n",
              "      <td>2,294</td>\n",
              "      <td>161,641</td>\n",
              "    </tr>\n",
              "  </tbody>\n",
              "</table>\n",
              "</div>"
            ],
            "text/plain": [
              "     State Any Other Weapon1 Destructive Device2 Machinegun3 Silencer4  \\\n",
              "0  Alabama  1,203             78,434              26,307      48,118     \n",
              "\n",
              "  Short Barreled Rifle5 Short Barreled Shotgun6    Total  \n",
              "0  5,285                 2,294                   161,641  "
            ]
          },
          "metadata": {
            "tags": []
          },
          "execution_count": 101
        }
      ]
    },
    {
      "cell_type": "markdown",
      "metadata": {
        "id": "XmuV3mKU_iY7",
        "colab_type": "text"
      },
      "source": [
        "In order to normalize gun ownership by state population we also decided to add state population data for 2017 from [here](https://www.enchantedlearning.com/usa/states/population.shtml). "
      ]
    },
    {
      "cell_type": "markdown",
      "metadata": {
        "id": "obiGWmpi7WVJ",
        "colab_type": "text"
      },
      "source": [
        "We will now load state population data and create a new dataframe with total guns and population columns for each state for 2017.  "
      ]
    },
    {
      "cell_type": "code",
      "metadata": {
        "id": "a7wiKgNM_cqj",
        "colab_type": "code",
        "outputId": "18abf0e9-5ffd-4638-8d1a-89a7e39f65fd",
        "colab": {
          "base_uri": "https://localhost:8080/"
        }
      },
      "source": [
        "# load state population dataset\n",
        "state_pop = pd.read_csv('https://raw.githubusercontent.com/strivedi2/Gun-Violence-in-United-States/master/StatePopulation%202017.csv')\n",
        "state_pop.head(1)"
      ],
      "execution_count": 0,
      "outputs": [
        {
          "output_type": "execute_result",
          "data": {
            "text/html": [
              "<div>\n",
              "<style scoped>\n",
              "    .dataframe tbody tr th:only-of-type {\n",
              "        vertical-align: middle;\n",
              "    }\n",
              "\n",
              "    .dataframe tbody tr th {\n",
              "        vertical-align: top;\n",
              "    }\n",
              "\n",
              "    .dataframe thead th {\n",
              "        text-align: right;\n",
              "    }\n",
              "</style>\n",
              "<table border=\"1\" class=\"dataframe\">\n",
              "  <thead>\n",
              "    <tr style=\"text-align: right;\">\n",
              "      <th></th>\n",
              "      <th>State</th>\n",
              "      <th>Population (2017)</th>\n",
              "    </tr>\n",
              "  </thead>\n",
              "  <tbody>\n",
              "    <tr>\n",
              "      <th>0</th>\n",
              "      <td>California</td>\n",
              "      <td>39,536,653</td>\n",
              "    </tr>\n",
              "  </tbody>\n",
              "</table>\n",
              "</div>"
            ],
            "text/plain": [
              "        State Population (2017)\n",
              "0  California  39,536,653      "
            ]
          },
          "metadata": {
            "tags": []
          },
          "execution_count": 102
        }
      ]
    },
    {
      "cell_type": "code",
      "metadata": {
        "id": "TiLx4RKWAcV-",
        "colab_type": "code",
        "colab": {}
      },
      "source": [
        "# merge gun ownership and state population dataframes\n",
        "state_data = state_guns_owned.merge(state_pop, how ='inner', left_on='State', right_on='State')\n",
        "\n",
        "# drop remaining gun type columns since we wont be using them for our analysis \n",
        "state_data.drop(columns=['Any Other Weapon1','Destructive Device2','Machinegun3','Silencer4','Short Barreled Rifle5','Short Barreled Shotgun6'],inplace=True)"
      ],
      "execution_count": 0,
      "outputs": []
    },
    {
      "cell_type": "code",
      "metadata": {
        "id": "z-gJl-Q8BBaJ",
        "colab_type": "code",
        "outputId": "4ee479f7-79fe-49a9-c2c3-a4d69cdc493c",
        "colab": {
          "base_uri": "https://localhost:8080/"
        }
      },
      "source": [
        "state_data.head(2)"
      ],
      "execution_count": 0,
      "outputs": [
        {
          "output_type": "execute_result",
          "data": {
            "text/html": [
              "<div>\n",
              "<style scoped>\n",
              "    .dataframe tbody tr th:only-of-type {\n",
              "        vertical-align: middle;\n",
              "    }\n",
              "\n",
              "    .dataframe tbody tr th {\n",
              "        vertical-align: top;\n",
              "    }\n",
              "\n",
              "    .dataframe thead th {\n",
              "        text-align: right;\n",
              "    }\n",
              "</style>\n",
              "<table border=\"1\" class=\"dataframe\">\n",
              "  <thead>\n",
              "    <tr style=\"text-align: right;\">\n",
              "      <th></th>\n",
              "      <th>State</th>\n",
              "      <th>Total</th>\n",
              "      <th>Population (2017)</th>\n",
              "    </tr>\n",
              "  </thead>\n",
              "  <tbody>\n",
              "    <tr>\n",
              "      <th>0</th>\n",
              "      <td>Alabama</td>\n",
              "      <td>161,641</td>\n",
              "      <td>4,874,747</td>\n",
              "    </tr>\n",
              "    <tr>\n",
              "      <th>1</th>\n",
              "      <td>Alaska</td>\n",
              "      <td>15,824</td>\n",
              "      <td>739,795</td>\n",
              "    </tr>\n",
              "  </tbody>\n",
              "</table>\n",
              "</div>"
            ],
            "text/plain": [
              "     State    Total Population (2017)\n",
              "0  Alabama  161,641  4,874,747       \n",
              "1  Alaska   15,824   739,795         "
            ]
          },
          "metadata": {
            "tags": []
          },
          "execution_count": 104
        }
      ]
    },
    {
      "cell_type": "markdown",
      "metadata": {
        "id": "OG8yZlEBAQbx",
        "colab_type": "text"
      },
      "source": [
        "We will now merge the above dataframe with our original dataset to add these columns."
      ]
    },
    {
      "cell_type": "code",
      "metadata": {
        "id": "1d3Vfhoi7cNg",
        "colab_type": "code",
        "colab": {}
      },
      "source": [
        "guns_df = guns_df.merge(state_data, how='left', left_on='state', right_on='State')\n",
        "guns_df.drop(columns='State',inplace=True)\n",
        "\n",
        "# rename the Total column to Total_guns\n",
        "guns_df.rename(columns={'Total':'Total_guns'},inplace=True)"
      ],
      "execution_count": 0,
      "outputs": []
    },
    {
      "cell_type": "markdown",
      "metadata": {
        "id": "t3_kuHNpweha",
        "colab_type": "text"
      },
      "source": [
        "### Data dictionary of cleaned Dataset 1: Gun Violence Dataset on Kaggle\n",
        "Column Name  | Description\n",
        "--- | ---\n",
        "incident_id | Incident ID\n",
        "date\t| Date of crime (Format: YYYY-MM-DD)\n",
        "state\t|State where crime was committed\t\n",
        "city_or_county\t|City/ County of crime\t\n",
        "n_killed\t|Number of people killed in the incident\t\n",
        "n_injured\t|Number of people injured in the incident\t\n",
        "congressional_district |Congressional district id\t\n",
        "latitude\t|Latitude of the location of the incident\t\n",
        "longitude\t|Longitude of the location of the incident\t\n",
        "participant_age_group\t|Age group of participant(s) (Child, Teen, Adult)\t\n",
        "participant_gender\t|Gender of participant(s)\t\n",
        "participant_type\t|Type of participant (Victim, Suspect)\t\n",
        "state_house_district\t|Voting house district\t\n",
        "state_senate_district\t|Territorial district from which a senator to a state legislature is elected\n",
        "year | Year of incident\n",
        "month | Month of incident\n",
        "monthday | Day of incident\n",
        "weekday | Day of the week of incident (Mon, Tue, etc.)\n",
        "Mass_Shooting | Incident characteristic: 1 means Mass Shooting\n",
        "Officer_Involved_Shooting | Incident characteristic: 1 means Officer is involved in the shooting\n",
        "Suicide | Incident characteristic: 1 means Suicide\n",
        "Gun_Possession_felon | Incident characteristic: 1 means Gun possed by a felon\n",
        "Accidental_Shootings | Incident characteristic: 1 means Shooting occured by Accident\n",
        "participant_type_map | Map Participant type\n",
        "participant_age_map | Map Participant age\n",
        "participant_gender_map | Map Participant gender\n",
        "Total_guns|Total guns owned in each State in 2017\n",
        "Population (2017)|Population of the State in 2017"
      ]
    },
    {
      "cell_type": "markdown",
      "metadata": {
        "id": "tdQW3PTmC1dJ",
        "colab_type": "text"
      },
      "source": [
        "## **Dateset 2: Gun ownership by country**"
      ]
    },
    {
      "cell_type": "markdown",
      "metadata": {
        "id": "hCI6orxEyLl4",
        "colab_type": "text"
      },
      "source": [
        "We also wanted to understand the relationship between gun ownership and gun violence incidents across countries."
      ]
    },
    {
      "cell_type": "markdown",
      "metadata": {
        "id": "e89jZvV80eF4",
        "colab_type": "text"
      },
      "source": [
        "[Here](https://docs.google.com/spreadsheets/d/1chqUZHuY6cXYrRYkuE0uwXisGaYvr7durZHJhpLGycs/edit#gid=0) is the dataset on Gun homicide and gun ownership listed by country. More information about the dataset can be found [here](https://www.theguardian.com/news/datablog/2012/jul/22/gun-homicides-ownership-world-list)\n",
        "\n",
        "**About the dataset:**\n",
        "The world’s crime figures are collected by the UNODC (United nations office on drugs and crimes) through its annual crime survey. It has a special section of data on firearm homicides - and provides detailed information by size of population and compared to other crimes. \n",
        "\n",
        "**Limitations of the dataset:** <br>\n",
        "1. Some key nations are missing from the data, including Russia, China and Afghanistan. But it does include the US, UK and many other developed nations. <br>\n",
        "2. Also, this dataset is from 2012. We know that we will not be able to do comparison for the same time period as gun ownership dataset for United State but we are still interested in knowing if there exists any trend.\n",
        "\n"
      ]
    },
    {
      "cell_type": "code",
      "metadata": {
        "id": "VQxyEyQhCdxX",
        "colab_type": "code",
        "colab": {}
      },
      "source": [
        "# We saved the data from [google sheet](https://docs.google.com/spreadsheets/d/1chqUZHuY6cXYrRYkuE0uwXisGaYvr7durZHJhpLGycs/edit#gid=0) to a csv file and uploaded it on github\n",
        "# importing gun ownership data by country\n",
        "gun_ownership = pd.read_csv('https://raw.githubusercontent.com/strivedi2/Gun-Violence-in-United-States/master/World_firearms.csv')"
      ],
      "execution_count": 0,
      "outputs": []
    },
    {
      "cell_type": "code",
      "metadata": {
        "id": "M17p3HzYC0x8",
        "colab_type": "code",
        "outputId": "9cea7378-824d-4a94-9b27-4e765df37428",
        "colab": {
          "base_uri": "https://localhost:8080/"
        }
      },
      "source": [
        "gun_ownership.head(2)"
      ],
      "execution_count": 0,
      "outputs": [
        {
          "output_type": "execute_result",
          "data": {
            "text/html": [
              "<div>\n",
              "<style scoped>\n",
              "    .dataframe tbody tr th:only-of-type {\n",
              "        vertical-align: middle;\n",
              "    }\n",
              "\n",
              "    .dataframe tbody tr th {\n",
              "        vertical-align: top;\n",
              "    }\n",
              "\n",
              "    .dataframe thead th {\n",
              "        text-align: right;\n",
              "    }\n",
              "</style>\n",
              "<table border=\"1\" class=\"dataframe\">\n",
              "  <thead>\n",
              "    <tr style=\"text-align: right;\">\n",
              "      <th></th>\n",
              "      <th>Country/Territory</th>\n",
              "      <th>ISO code</th>\n",
              "      <th>Source</th>\n",
              "      <th>% of homicides by firearm</th>\n",
              "      <th>Number of homicides by firearm</th>\n",
              "      <th>Homicide by firearm rate per 100,000 pop</th>\n",
              "      <th>Rank by rate of ownership</th>\n",
              "      <th>Average firearms per 100 people</th>\n",
              "      <th>Average total all civilian firearms</th>\n",
              "    </tr>\n",
              "  </thead>\n",
              "  <tbody>\n",
              "    <tr>\n",
              "      <th>0</th>\n",
              "      <td>Albania</td>\n",
              "      <td>AL</td>\n",
              "      <td>CTS</td>\n",
              "      <td>65.9</td>\n",
              "      <td>56.0</td>\n",
              "      <td>1.76</td>\n",
              "      <td>70.0</td>\n",
              "      <td>8.6</td>\n",
              "      <td>270000.0</td>\n",
              "    </tr>\n",
              "    <tr>\n",
              "      <th>1</th>\n",
              "      <td>Algeria</td>\n",
              "      <td>DZ</td>\n",
              "      <td>CTS</td>\n",
              "      <td>4.8</td>\n",
              "      <td>20.0</td>\n",
              "      <td>0.06</td>\n",
              "      <td>78.0</td>\n",
              "      <td>7.6</td>\n",
              "      <td>1900000.0</td>\n",
              "    </tr>\n",
              "  </tbody>\n",
              "</table>\n",
              "</div>"
            ],
            "text/plain": [
              "  Country/Territory ISO code Source  % of homicides by firearm  \\\n",
              "0  Albania           AL       CTS    65.9                        \n",
              "1  Algeria           DZ       CTS    4.8                         \n",
              "\n",
              "   Number of homicides by firearm  Homicide by firearm rate per 100,000 pop  \\\n",
              "0  56.0                            1.76                                       \n",
              "1  20.0                            0.06                                       \n",
              "\n",
              "   Rank by rate of ownership  Average firearms per 100 people  \\\n",
              "0  70.0                       8.6                               \n",
              "1  78.0                       7.6                               \n",
              "\n",
              "   Average total all civilian firearms  \n",
              "0  270000.0                             \n",
              "1  1900000.0                            "
            ]
          },
          "metadata": {
            "tags": []
          },
          "execution_count": 107
        }
      ]
    },
    {
      "cell_type": "code",
      "metadata": {
        "id": "o_gOfBG6DPdK",
        "colab_type": "code",
        "colab": {}
      },
      "source": [
        "# Removed ISO code column as we already have country information we don't need the country code for analysis\n",
        "# Removed Source column as it is not relevant for our analysis\n",
        "# Removed Rank by rate of ownership as rank will not be relevant for analysis\n",
        "gun_ownership = gun_ownership[['Country/Territory','% of homicides by firearm',\\\n",
        "                               'Number of homicides by firearm','Homicide by firearm rate per 100,000 pop',\\\n",
        "                               'Average firearms per 100 people','Average total all civilian firearms']]"
      ],
      "execution_count": 0,
      "outputs": []
    },
    {
      "cell_type": "code",
      "metadata": {
        "id": "GiPGkBp7EMWi",
        "colab_type": "code",
        "colab": {}
      },
      "source": [
        "# Renamed few columns\n",
        "gun_ownership.columns = ['Country', 'Percentage of Homicides by firearm','Number of homicide by firearm',\\\n",
        "                        'Homicide by firearm rate per 100,000 pop','Average firearms per 100 people','Average total all civilian firearms']"
      ],
      "execution_count": 0,
      "outputs": []
    },
    {
      "cell_type": "code",
      "metadata": {
        "id": "M7-L0Os_FZiC",
        "colab_type": "code",
        "outputId": "cc0c2fa5-3a82-4aee-81b1-8f735b7556c0",
        "colab": {
          "base_uri": "https://localhost:8080/"
        }
      },
      "source": [
        "gun_ownership.isna().sum()"
      ],
      "execution_count": 0,
      "outputs": [
        {
          "output_type": "execute_result",
          "data": {
            "text/plain": [
              "Country                                     0 \n",
              "Percentage of Homicides by firearm          69\n",
              "Number of homicide by firearm               69\n",
              "Homicide by firearm rate per 100,000 pop    69\n",
              "Average firearms per 100 people             9 \n",
              "Average total all civilian firearms         9 \n",
              "dtype: int64"
            ]
          },
          "metadata": {
            "tags": []
          },
          "execution_count": 110
        }
      ]
    },
    {
      "cell_type": "code",
      "metadata": {
        "id": "2Bo-dco4E1Qz",
        "colab_type": "code",
        "colab": {}
      },
      "source": [
        "# Filled the na values with 0\n",
        "gun_ownership = gun_ownership.fillna(0)"
      ],
      "execution_count": 0,
      "outputs": []
    },
    {
      "cell_type": "code",
      "metadata": {
        "id": "cD1uirmKzaM4",
        "colab_type": "code",
        "outputId": "07f043bc-bc38-464b-9f34-ca552d8530ac",
        "colab": {
          "base_uri": "https://localhost:8080/"
        }
      },
      "source": [
        "gun_ownership.isna().sum()"
      ],
      "execution_count": 0,
      "outputs": [
        {
          "output_type": "execute_result",
          "data": {
            "text/plain": [
              "Country                                     0\n",
              "Percentage of Homicides by firearm          0\n",
              "Number of homicide by firearm               0\n",
              "Homicide by firearm rate per 100,000 pop    0\n",
              "Average firearms per 100 people             0\n",
              "Average total all civilian firearms         0\n",
              "dtype: int64"
            ]
          },
          "metadata": {
            "tags": []
          },
          "execution_count": 112
        }
      ]
    },
    {
      "cell_type": "code",
      "metadata": {
        "id": "O2X-OqqF0gp9",
        "colab_type": "code",
        "colab": {}
      },
      "source": [
        "# Creating a dataframe of top 20 countries with the highest average firearms per 100 people by Country\n",
        "top20 = gun_ownership[['Country','Average firearms per 100 people']].sort_values('Average firearms per 100 people', ascending = False).nlargest(20, 'Average firearms per 100 people')"
      ],
      "execution_count": 0,
      "outputs": []
    },
    {
      "cell_type": "code",
      "metadata": {
        "id": "KL8ei8gc2PXu",
        "colab_type": "code",
        "outputId": "c60548d9-5405-48d6-f339-7de382a3a3f5",
        "colab": {
          "base_uri": "https://localhost:8080/"
        }
      },
      "source": [
        "alt.Chart(top20).mark_bar().encode(\n",
        "    alt.X('Country', title = 'Country', \n",
        "         sort=alt.EncodingSortField(\n",
        "            field=\"Average firearms per 100 people\",\n",
        "            #op=\"sum\",\n",
        "            order=\"descending\"\n",
        "        )),\n",
        "    alt.Y('Average firearms per 100 people', title = 'Average firearms per 100 people')\n",
        ").properties(\n",
        "    title='Average firearms per 100 people for top 20 countries',\n",
        "    width=650,\n",
        "    height=400\n",
        ").configure_axis(\n",
        "    grid=False\n",
        ")"
      ],
      "execution_count": 0,
      "outputs": [
        {
          "output_type": "execute_result",
          "data": {
            "text/plain": [
              "Chart({\n",
              "  config: Config({\n",
              "    axis: AxisConfig({\n",
              "      grid: False\n",
              "    })\n",
              "  }),\n",
              "  data:            Country  Average firearms per 100 people\n",
              "  176  United States  88.8                           \n",
              "  182  Yemen          54.8                           \n",
              "  162  Switzerland    45.7                           \n",
              "  58   Finland        45.3                           \n",
              "  147  Serbia         37.8                           \n",
              "  43   Cyprus         36.4                           \n",
              "  144  Saudi Arabia   35.0                           \n",
              "  79   Iraq           34.2                           \n",
              "  177  Uruguay        31.8                           \n",
              "  161  Sweden         31.6                           \n",
              "  127  Norway         31.3                           \n",
              "  59   France         31.2                           \n",
              "  29   Canada         30.8                           \n",
              "  7    Austria        30.4                           \n",
              "  75   Iceland        30.3                           \n",
              "  63   Germany        30.3                           \n",
              "  128  Oman           25.4                           \n",
              "  91   Kuwait         24.8                           \n",
              "  10   Bahrain        24.8                           \n",
              "  102  Macedonia      24.1                           ,\n",
              "  encoding: FacetedEncoding({\n",
              "    x: X({\n",
              "      shorthand: 'Country',\n",
              "      sort: EncodingSortField({\n",
              "        field: 'Average firearms per 100 people',\n",
              "        order: 'descending'\n",
              "      }),\n",
              "      title: 'Country'\n",
              "    }),\n",
              "    y: Y({\n",
              "      shorthand: 'Average firearms per 100 people',\n",
              "      title: 'Average firearms per 100 people'\n",
              "    })\n",
              "  }),\n",
              "  height: 400,\n",
              "  mark: 'bar',\n",
              "  title: 'Average firearms per 100 people for top 20 countries',\n",
              "  width: 650\n",
              "})"
            ],
            "text/html": [
              "<!DOCTYPE html>\n",
              "<html>\n",
              "<head>\n",
              "  <style>\n",
              "    .vega-actions a {\n",
              "        margin-right: 12px;\n",
              "        color: #757575;\n",
              "        font-weight: normal;\n",
              "        font-size: 13px;\n",
              "    }\n",
              "    .error {\n",
              "        color: red;\n",
              "    }\n",
              "  </style>\n",
              "  <script type=\"text/javascript\" src=\"https://cdn.jsdelivr.net/npm//vega@5\"></script>\n",
              "  <script type=\"text/javascript\" src=\"https://cdn.jsdelivr.net/npm//vega-lite@3.2.1\"></script>\n",
              "  <script type=\"text/javascript\" src=\"https://cdn.jsdelivr.net/npm//vega-embed@4\"></script>\n",
              "</head>\n",
              "<body>\n",
              "  <div id=\"altair-viz\"></div>\n",
              "  <script>\n",
              "      var spec = {\"config\": {\"view\": {\"width\": 400, \"height\": 300}, \"mark\": {\"tooltip\": null}, \"axis\": {\"grid\": false}}, \"data\": {\"name\": \"data-05b5a9d5eeb6da7f4e26e824251dbfba\"}, \"mark\": \"bar\", \"encoding\": {\"x\": {\"type\": \"nominal\", \"field\": \"Country\", \"sort\": {\"field\": \"Average firearms per 100 people\", \"order\": \"descending\"}, \"title\": \"Country\"}, \"y\": {\"type\": \"quantitative\", \"field\": \"Average firearms per 100 people\", \"title\": \"Average firearms per 100 people\"}}, \"height\": 400, \"title\": \"Average firearms per 100 people for top 20 countries\", \"width\": 650, \"$schema\": \"https://vega.github.io/schema/vega-lite/v3.2.1.json\", \"datasets\": {\"data-05b5a9d5eeb6da7f4e26e824251dbfba\": [{\"Country\": \"United States\", \"Average firearms per 100 people\": 88.8}, {\"Country\": \"Yemen\", \"Average firearms per 100 people\": 54.8}, {\"Country\": \"Switzerland\", \"Average firearms per 100 people\": 45.7}, {\"Country\": \"Finland\", \"Average firearms per 100 people\": 45.3}, {\"Country\": \"Serbia\", \"Average firearms per 100 people\": 37.8}, {\"Country\": \"Cyprus\", \"Average firearms per 100 people\": 36.4}, {\"Country\": \"Saudi Arabia\", \"Average firearms per 100 people\": 35.0}, {\"Country\": \"Iraq\", \"Average firearms per 100 people\": 34.2}, {\"Country\": \"Uruguay\", \"Average firearms per 100 people\": 31.8}, {\"Country\": \"Sweden\", \"Average firearms per 100 people\": 31.6}, {\"Country\": \"Norway\", \"Average firearms per 100 people\": 31.3}, {\"Country\": \"France\", \"Average firearms per 100 people\": 31.2}, {\"Country\": \"Canada\", \"Average firearms per 100 people\": 30.8}, {\"Country\": \"Austria\", \"Average firearms per 100 people\": 30.4}, {\"Country\": \"Iceland\", \"Average firearms per 100 people\": 30.3}, {\"Country\": \"Germany\", \"Average firearms per 100 people\": 30.3}, {\"Country\": \"Oman\", \"Average firearms per 100 people\": 25.4}, {\"Country\": \"Kuwait\", \"Average firearms per 100 people\": 24.8}, {\"Country\": \"Bahrain\", \"Average firearms per 100 people\": 24.8}, {\"Country\": \"Macedonia\", \"Average firearms per 100 people\": 24.1}]}};\n",
              "      var embedOpt = {\"mode\": \"vega-lite\"};\n",
              "\n",
              "      function showError(el, error){\n",
              "          el.innerHTML = ('<div class=\"error\" style=\"color:red;\">'\n",
              "                          + '<p>JavaScript Error: ' + error.message + '</p>'\n",
              "                          + \"<p>This usually means there's a typo in your chart specification. \"\n",
              "                          + \"See the javascript console for the full traceback.</p>\"\n",
              "                          + '</div>');\n",
              "          throw error;\n",
              "      }\n",
              "      const el = document.getElementById('altair-viz');\n",
              "      vegaEmbed(\"#altair-viz\", spec, embedOpt)\n",
              "        .catch(error => showError(el, error));\n",
              "\n",
              "  </script>\n",
              "</body>\n",
              "</html>"
            ]
          },
          "metadata": {
            "tags": []
          },
          "execution_count": 114
        }
      ]
    },
    {
      "cell_type": "markdown",
      "metadata": {
        "id": "nIcbdq2I9IGu",
        "colab_type": "text"
      },
      "source": [
        "From the above chart we can see that United states is the highest in terms of average firearms per 100 people."
      ]
    },
    {
      "cell_type": "markdown",
      "metadata": {
        "id": "DDLsK4-H84hF",
        "colab_type": "text"
      },
      "source": [
        "### Data dictionary of Dataset 2: Gun ownership by Country\n",
        "Column Name  | Description\n",
        "--- | ---\n",
        "Country | Country Name\n",
        "Percentage of Homicides by firearm | Percentage of Homicides by firearm\n",
        "Number of homicide by firearm | Number of homicides by firearm\n",
        "Homicide by firearm rate per 100,000 pop | Homicides by firearm rate per 100,000 population\n",
        "Average firearms per 100 people | Average firearms per 100 people\n",
        "Average total all civilian firearms | Average total of civilians who owned firearms"
      ]
    },
    {
      "cell_type": "markdown",
      "metadata": {
        "id": "VM63p-lD3xNx",
        "colab_type": "text"
      },
      "source": [
        "## Road map\n",
        "\n",
        "We want to explore the following trends/relationships and also replicate/improve the existing charts on the [Vox article](https://www.vox.com/policy-and-politics/2017/10/2/16399418/us-gun-violence-statistics-maps-charts)\n",
        "\n",
        "1. **Relationship between gun ownership and gun violence:** We would like to understand if there exists any relationship between gun ownership and gun violence incidents across US states, and also see if similar relationships can be found with the data available for countries. \n",
        "2. **Gun violence incident characteristics:** We would like to understand the trend of Mass shootings, Suicides and Officers involved shootings across US. \n",
        "3. **Understanding suspect profiles with respect to gun violence incidents:** We would like to explore gun violence incidents and their characterstics with respect to suspect age - teens (age 12- 17) and adults ( aged 18 years and olders)\n",
        "\n",
        "We are also interested in exploring gun ownership and gun violence incidents with respect to **gun laws** across states in US in later versions."
      ]
    },
    {
      "cell_type": "markdown",
      "metadata": {
        "id": "IdWhiouaSOkz",
        "colab_type": "text"
      },
      "source": [
        "# Team Project First Version \n",
        "In this version we start with exploring the relationships mentioned under Roadmap and create visualizations for interesting, non-trivial insights. <br>\n",
        "\n",
        "To create the visualizations, we exported cleaned datasets to csv files in our local machines. This was achieved by downloading and running this notebook on our individual systems. The csv files were then used as data sources to create visualizations on Tableau. \n"
      ]
    },
    {
      "cell_type": "markdown",
      "metadata": {
        "id": "xmdAszWLTLue",
        "colab_type": "text"
      },
      "source": [
        "## Insight 1: Relationship between Gun Ownership and Gun violence related deaths across states in US, 2017\n",
        "\n",
        "We want to understand if there is any relationship betwen gun ownership and number of gun deaths that occur in states across the US. Chart 5 on  [Vox website](https://www.vox.com/policy-and-politics/2017/10/2/16399418/us-gun-violence-statistics-maps-charts), originally created by Mother Jones, shows that there is a direct relationship between gun ownership and gun violence using data for 2013. \n",
        "<br>\n",
        "For our analysis, we are trying to recreate this chart using data from 2017.\n",
        "<br>\n",
        "\n",
        "In Tableau we loaded the cleaned csv file, and created a crosstab to aggregate number of people killed in gun violence incidents by state in 2017. We also added Total Guns and Population columns (*these columns already contain 2017 data*) to this table view and exported the data as a csv file. \n",
        "\n",
        "We then loaded this csv as a new data source in our Tableau file and created two new calculated fields for normalization:\n",
        "1. **Gun Deaths per 100,000 people**: (N Killed / Avg. Population (2017)) * 100,000\n",
        "2. **Guns per 100 people**: (Avg. Total guns / Avg. Population (2017)) * 100\n",
        "\n",
        "<br>\n",
        "The cleaned dataset looks as follows:"
      ]
    },
    {
      "cell_type": "code",
      "metadata": {
        "id": "fPeTCPE3QRoY",
        "colab_type": "code",
        "colab": {}
      },
      "source": [
        "# read state data for 2017\n",
        "state = pd.read_csv('https://raw.githubusercontent.com/strivedi2/Gun-Violence-in-United-States/master/State%20data.csv')"
      ],
      "execution_count": 0,
      "outputs": []
    },
    {
      "cell_type": "code",
      "metadata": {
        "id": "SkPYEPNCQ3Rg",
        "colab_type": "code",
        "outputId": "a336675a-a322-48d3-8c33-cd700f42f287",
        "colab": {
          "base_uri": "https://localhost:8080/",
          "height": 107
        }
      },
      "source": [
        "state.rename(columns={\"N Killed\":'Gun_Deaths',\n",
        "                     'Avg. Population (2017)': 'Population_2017',\n",
        "                     'Avg. Total guns':'TotalGuns',\n",
        "                     'Guns per 100 people': 'GunsPer100People'}, inplace=True)\n",
        "state.head(2)"
      ],
      "execution_count": 0,
      "outputs": [
        {
          "output_type": "execute_result",
          "data": {
            "text/html": [
              "<div>\n",
              "<style scoped>\n",
              "    .dataframe tbody tr th:only-of-type {\n",
              "        vertical-align: middle;\n",
              "    }\n",
              "\n",
              "    .dataframe tbody tr th {\n",
              "        vertical-align: top;\n",
              "    }\n",
              "\n",
              "    .dataframe thead th {\n",
              "        text-align: right;\n",
              "    }\n",
              "</style>\n",
              "<table border=\"1\" class=\"dataframe\">\n",
              "  <thead>\n",
              "    <tr style=\"text-align: right;\">\n",
              "      <th></th>\n",
              "      <th>State</th>\n",
              "      <th>Gun_Deaths</th>\n",
              "      <th>Population_2017</th>\n",
              "      <th>TotalGuns</th>\n",
              "      <th>GunDeathsPer100K</th>\n",
              "      <th>GunsPer100People</th>\n",
              "    </tr>\n",
              "  </thead>\n",
              "  <tbody>\n",
              "    <tr>\n",
              "      <th>0</th>\n",
              "      <td>Alabama</td>\n",
              "      <td>544</td>\n",
              "      <td>4,874,747</td>\n",
              "      <td>161,641</td>\n",
              "      <td>11.159554</td>\n",
              "      <td>3.315885</td>\n",
              "    </tr>\n",
              "    <tr>\n",
              "      <th>1</th>\n",
              "      <td>Alaska</td>\n",
              "      <td>69</td>\n",
              "      <td>739,795</td>\n",
              "      <td>15,824</td>\n",
              "      <td>9.326908</td>\n",
              "      <td>2.138971</td>\n",
              "    </tr>\n",
              "  </tbody>\n",
              "</table>\n",
              "</div>"
            ],
            "text/plain": [
              "     State Gun_Deaths Population_2017 TotalGuns  GunDeathsPer100K   \\\n",
              "0  Alabama  544        4,874,747       161,641   11.159554           \n",
              "1  Alaska   69         739,795         15,824    9.326908            \n",
              "\n",
              "   GunsPer100People  \n",
              "0  3.315885          \n",
              "1  2.138971          "
            ]
          },
          "metadata": {
            "tags": []
          },
          "execution_count": 116
        }
      ]
    },
    {
      "cell_type": "markdown",
      "metadata": {
        "id": "cYvHC-EySTAx",
        "colab_type": "text"
      },
      "source": [
        "The scatter plot between Gun Deaths per 100,000 people and Guns owned per 100 people initially does not reveal a significant trend. \n",
        "\n",
        "The chart for this trend can be seen [here](https://public.tableau.com/views/GunOwnershipDeaths_chart1/GunDeathsandGunOwnershipUS2017?:embed=y&:display_count=yes&publish=yes&:origin=viz_share_link):\n",
        "  \n",
        "\n"
      ]
    },
    {
      "cell_type": "code",
      "metadata": {
        "id": "Ae-BlzEQQZH0",
        "colab_type": "code",
        "outputId": "36af9c3a-38c3-4a0f-f116-2a8f8536574a",
        "colab": {
          "base_uri": "https://localhost:8080/",
          "height": 752
        }
      },
      "source": [
        "from IPython.display import Image\n",
        "from IPython.display import Image,display\n",
        "from IPython.core.display import display, HTML\n",
        "display(HTML('<img src=\"https://raw.githubusercontent.com/strivedi2/Gun-Violence-in-United-States/master/Gundeaths_gunownership.PNG\" style=\"width=100px;\"/>'))"
      ],
      "execution_count": 0,
      "outputs": [
        {
          "output_type": "display_data",
          "data": {
            "text/html": [
              "<img src=\"https://raw.githubusercontent.com/strivedi2/Gun-Violence-in-United-States/master/Gundeaths_gunownership.PNG\" style=\"width=100px;\"/>"
            ],
            "text/plain": [
              "<IPython.core.display.HTML object>"
            ]
          },
          "metadata": {
            "tags": []
          }
        }
      ]
    },
    {
      "cell_type": "markdown",
      "metadata": {
        "id": "rgt9uhRyRZYR",
        "colab_type": "text"
      },
      "source": [
        " In the chart, Wyoming appears to be an outlier with ~23 guns per 100 people and 1.5 deaths per 100,000 people. Due to this outlier, the trend represented in the Mother Jones chart cannot be seen.\n",
        "<br>  \n",
        "  \n",
        " Once the outlier is removed, we could see a **_significant trend between gun deaths and rate of gun ownership_**. Below is the link to the scatter plot  created after removing the outlier state of Wyoming. \n",
        " <insert Tableau public link> <br>\n",
        "In the chart one can see that with increase in gun ownership, number of deaths due to gun violence incidents increases. P-value of the trend line is 0.00 which indicates this is a significant trend.\n",
        " \n",
        " <br> \n",
        " For the statistically inclined audience, below is a description of the trend line from the  chart: \n",
        "  \n",
        "**P-value:** 0.0017479 <br> \n",
        "**Equation:**\n",
        "Gun Deaths per 100,000 people = 1.11325*Guns per 100 people + 2.88569\n"
      ]
    },
    {
      "cell_type": "markdown",
      "metadata": {
        "id": "SaImX2r9kiDi",
        "colab_type": "text"
      },
      "source": [
        "### Mass Shooting and Suicide related incidents with gun ownership\n",
        "\n",
        "Thus, we were able to recreate the same relationship as depicted in Chart 5. We then wanted to explore the same trend with Mass shooting incidents and suicides.\n",
        "\n",
        "To achieve this, we added \"Mass Shooting\" and \"Suicide\" columns to the original crosstab to group the number of incidents by state. We then exported the data and added it back as a new data source. We created the following normalized columns:\n",
        "\n",
        "1. Mass shootings per 100,000 people\n",
        "2. Suicides per 100,000 people\n",
        "\n",
        "We then created two scatter plots in the same chart using these columns and comparing them with Guns owned per 100 people.\n",
        "\n",
        "Here is a link to the chart:\n",
        "\n",
        "From these charts we observe that mass shootings show the same relationship as gun deaths - **_a significant increasing trend with increase in gun ownership_**. \n",
        "However, **_suicides do not follow the same trend_**. There is no significant relationship between the rate of gun ownership and the number of suicides committed through guns. \n",
        "\n",
        "We will now calculate number of deaths occuring due to mass shootings, suicides and accidental shootings across states and compare the data.\n",
        "\n"
      ]
    },
    {
      "cell_type": "code",
      "metadata": {
        "id": "NAUIhTXJBiB_",
        "colab_type": "code",
        "colab": {}
      },
      "source": [
        "guns_df.head(1)\n",
        "\n",
        "#rename state column to State to ease merging columns with state dataframe\n",
        "guns_df.rename(columns={'state':'State'}, inplace=True)"
      ],
      "execution_count": 0,
      "outputs": []
    },
    {
      "cell_type": "code",
      "metadata": {
        "id": "zncRseqgB1Jp",
        "colab_type": "code",
        "colab": {}
      },
      "source": [
        "# calculate deaths due to Mass Shootings, Suicide and Accidental Shootings in 2017 \n",
        "\n",
        "MS_deaths = guns_df.loc[(guns_df.Mass_Shooting == 1) & (guns_df.year == 2017)].groupby('State')['n_killed'].sum().reset_index().rename(columns={'n_killed':'MassShootingDeaths'})\n",
        "Suicide_deaths = guns_df.loc[(guns_df.Suicide == 1) & (guns_df.year == 2017)].groupby('State')['n_killed'].sum().reset_index().rename(columns={'n_killed':'SuicideDeaths'})\n",
        "Accidental_deaths = guns_df.loc[(guns_df.Accidental_Shootings == 1) & (guns_df.year == 2017)].groupby('State')['n_killed'].sum().reset_index().rename(columns={'n_killed':'AccidentalDeaths'})"
      ],
      "execution_count": 0,
      "outputs": []
    },
    {
      "cell_type": "code",
      "metadata": {
        "id": "BoQ5a0K4EpLx",
        "colab_type": "code",
        "colab": {}
      },
      "source": [
        "# add the above dataframes as new columns in 'state' dataframe \n",
        "\n",
        "state = state.merge(MS_deaths, how='left', on='State')\n",
        "state = state.merge(Suicide_deaths, how='left', on='State')\n",
        "state = state.merge(Accidental_deaths, how='left', on='State')"
      ],
      "execution_count": 0,
      "outputs": []
    },
    {
      "cell_type": "code",
      "metadata": {
        "id": "eFjmp-J8J4tt",
        "colab_type": "code",
        "outputId": "b6fe6dfa-0627-436a-ce68-c4a0f6cfc7c7",
        "colab": {
          "base_uri": "https://localhost:8080/",
          "height": 183
        }
      },
      "source": [
        "# fill null values with 0 for states with no deaths in any of the columns\n",
        "state.fillna(0,inplace=True)\n",
        "\n",
        "# perform check for null values\n",
        "state.isna().sum()"
      ],
      "execution_count": 0,
      "outputs": [
        {
          "output_type": "execute_result",
          "data": {
            "text/plain": [
              "State                 0\n",
              "Gun_Deaths            0\n",
              "Population_2017       0\n",
              "TotalGuns             0\n",
              "GunDeathsPer100K      0\n",
              "GunsPer100People      0\n",
              "MassShootingDeaths    0\n",
              "SuicideDeaths         0\n",
              "AccidentalDeaths      0\n",
              "dtype: int64"
            ]
          },
          "metadata": {
            "tags": []
          },
          "execution_count": 120
        }
      ]
    },
    {
      "cell_type": "markdown",
      "metadata": {
        "id": "MPDQosbGYEtx",
        "colab_type": "text"
      },
      "source": [
        "In the next step we create bins for the columns 'GunsPer100People' to help group states by rate of gun ownership."
      ]
    },
    {
      "cell_type": "code",
      "metadata": {
        "id": "3fG7_BreYDMS",
        "colab_type": "code",
        "outputId": "04b2105e-b98b-47fc-cb11-ab25f9e3a9b7",
        "colab": {
          "base_uri": "https://localhost:8080/",
          "height": 167
        }
      },
      "source": [
        "# create bins for rate of gun ownership\n",
        "state['Gunsowned_range'] = pd.cut(state['GunsPer100People'], bins=[0,1,1.5,2,3,5,7,23])\n",
        "\n",
        "state.groupby('Gunsowned_range')['State'].count()"
      ],
      "execution_count": 0,
      "outputs": [
        {
          "output_type": "execute_result",
          "data": {
            "text/plain": [
              "Gunsowned_range\n",
              "(0.0, 1.0]     10\n",
              "(1.0, 1.5]     12\n",
              "(1.5, 2.0]     11\n",
              "(2.0, 3.0]     12\n",
              "(3.0, 5.0]     4 \n",
              "(5.0, 7.0]     1 \n",
              "(7.0, 23.0]    1 \n",
              "Name: State, dtype: int64"
            ]
          },
          "metadata": {
            "tags": []
          },
          "execution_count": 121
        }
      ]
    },
    {
      "cell_type": "markdown",
      "metadata": {
        "id": "x8bN3vPSYv8R",
        "colab_type": "text"
      },
      "source": [
        "As seen from above distribution, 23 states have gun ownership rates in the range of 1-2. In order to prevent any bias from being introduced in our analysis due to a large number of observations in one group, we decided to split the bin into 1 - 1.5 and 1.5 - 2.\n",
        "\n",
        "We are interested to see if there is any change due to the slight increase in gun ownership."
      ]
    },
    {
      "cell_type": "markdown",
      "metadata": {
        "id": "qvT3FFy6hT0h",
        "colab_type": "text"
      },
      "source": [
        "We then extract this data into our local system and load it as a data source on Tableau. We create normalized fields for deaths due to mass shootings, accidental shootings and suicides per 100,000 people.\n",
        "\n",
        "We then create a chart in Tableau to identify if there is any change in the number of deaths with increase in gun ownership rate across states.\n",
        "\n",
        "Here is a link to the [chart:](https://public.tableau.com/views/GunViolence_2017/GunownershipandresultingdeathsUS2017?:embed=y&:display_count=yes&publish=yes&:origin=viz_share_link )\n",
        "\n"
      ]
    },
    {
      "cell_type": "code",
      "metadata": {
        "id": "XAZk6qa9RsbS",
        "colab_type": "code",
        "outputId": "089445cc-a4ef-4560-ef69-aea5f2b63341",
        "colab": {
          "base_uri": "https://localhost:8080/",
          "height": 835
        }
      },
      "source": [
        "from IPython.display import Image\n",
        "from IPython.display import Image,display\n",
        "from IPython.core.display import display, HTML\n",
        "display(HTML('<img src=\"https://raw.githubusercontent.com/strivedi2/Gun-Violence-in-United-States/master/gundeaths_massshootings.PNG\" style=\"width=100px;\"/>'))"
      ],
      "execution_count": 0,
      "outputs": [
        {
          "output_type": "display_data",
          "data": {
            "text/html": [
              "<img src=\"https://raw.githubusercontent.com/strivedi2/Gun-Violence-in-United-States/master/gundeaths_massshootings.PNG\" style=\"width=100px;\"/>"
            ],
            "text/plain": [
              "<IPython.core.display.HTML object>"
            ]
          },
          "metadata": {
            "tags": []
          }
        }
      ]
    },
    {
      "cell_type": "markdown",
      "metadata": {
        "id": "eYvh_eIiSyXM",
        "colab_type": "text"
      },
      "source": [
        "\n",
        "From the chart one can see that with increase in gun ownership, there is an increased rate in suicide and accidental deaths. \n",
        "The chart has been filtered to contain gun ownership between 0 - 3 per 100 people since those bins have an equal number of states. The remaining bins with upto 3 - 23 guns per 100 people have been filtered out due to lack of adequate data.\n",
        "\n",
        "Focussing our analysis on gun ownership between 0-3 guns per 100 people, we see that access and no access to a gun i.e. going from between 0 to 1 and t to 1.5 guns increases the likelihood of death by suicide by 170% and also increases chances of death by 1114%. So if you are a gun enthusiast, those are some interesting odds to consider before deciding to own a gun."
      ]
    },
    {
      "cell_type": "markdown",
      "metadata": {
        "id": "63rx88sS-BIU",
        "colab_type": "text"
      },
      "source": [
        "**Making of the chart in Tableau**<br>\n",
        "Some key steps involved while making the chart in Tableau include:\n",
        "1. Renaming the bin labels from [0.0 , 1.0] to 0 to 1. Here it is important to understand that ownerhsip rates of 1% are not considered in this bin and are part of the second bin.\n",
        "2. Adding annotations for gun ownership at 1% which show the most significant increase in suicide and accidental deaths.\n",
        "\n",
        "Here we understand that the 1 to 1.5 and 1.5 to 2 bins can be confusing for the audience and that is something we will consider while working on the second version of these charts. Right now since this is a common dataset, we have decided to stick to same categorization. \n",
        "\n",
        "But even to the normal eye, it is clearly visible that even a 0.5 increase in gun ownership increases likelihood of death by suicide.\n",
        "\n",
        "### Summary: Relationship between gun ownership, gun violence incidents and resulting deaths\n",
        "- To summarize the finding, we see that increase in gun ownership results in increase in deaths due to gun violence incidents and also increase in number of mass shootings.\n",
        "- While incidents of suicide do not increase with increasing gun ownership, but having access to a gun does increase likelihood of intentional (suicide) death by ~170% and non-intentional (accidental) death by 1000%.\n",
        "\n",
        "\n"
      ]
    },
    {
      "cell_type": "markdown",
      "metadata": {
        "id": "9rjheMnYOXVT",
        "colab_type": "text"
      },
      "source": [
        "## Insight 2: Relationship between State Gun Laws and Gun Incidents in US\n",
        "\n",
        "To take our analysis on the states a step further, we then tried to understand the role of policies on Gun related Incidents. For this we took State Firearm Law Database compiled by RAND Corporation as part of the Gun Policy in America initiative. RAND developed this longitudinal data set of state firearm laws that is free to the public, including other researchers, to support improved analysis and understanding of the effects of various laws. The Database contains information on state and District of Columbia firearm laws in the United States from 1979 to 2016. The database does not capture all firearm-related laws, only those of specific types. \n",
        "\n",
        "Here is a link to the [site](https://www.rand.org/pubs/tools/TL283.html )"
      ]
    },
    {
      "cell_type": "markdown",
      "metadata": {
        "id": "KdltD0SVOXC7",
        "colab_type": "text"
      },
      "source": [
        "The Dataset looks like this - "
      ]
    },
    {
      "cell_type": "code",
      "metadata": {
        "id": "XKLNUGWaqPqm",
        "colab_type": "code",
        "colab": {}
      },
      "source": [
        "# read RAND state Law data\n",
        "\n",
        "rand_state_df = pd.read_csv('https://raw.githubusercontent.com/Psharma2193/Individual-Project---First-Version/master/StateFirearmLaw.csv')"
      ],
      "execution_count": 0,
      "outputs": []
    },
    {
      "cell_type": "code",
      "metadata": {
        "id": "D-9e_5DJt9Ua",
        "colab_type": "code",
        "outputId": "49e46bcf-f590-4591-b2f6-7f740c660da4",
        "colab": {
          "base_uri": "https://localhost:8080/",
          "height": 297
        }
      },
      "source": [
        "rand_state_df.head(1)"
      ],
      "execution_count": 0,
      "outputs": [
        {
          "output_type": "execute_result",
          "data": {
            "text/html": [
              "<div>\n",
              "<style scoped>\n",
              "    .dataframe tbody tr th:only-of-type {\n",
              "        vertical-align: middle;\n",
              "    }\n",
              "\n",
              "    .dataframe tbody tr th {\n",
              "        vertical-align: top;\n",
              "    }\n",
              "\n",
              "    .dataframe thead th {\n",
              "        text-align: right;\n",
              "    }\n",
              "</style>\n",
              "<table border=\"1\" class=\"dataframe\">\n",
              "  <thead>\n",
              "    <tr style=\"text-align: right;\">\n",
              "      <th></th>\n",
              "      <th>Law ID</th>\n",
              "      <th>State</th>\n",
              "      <th>State Postal Abbreviation</th>\n",
              "      <th>Type of Law</th>\n",
              "      <th>Effect</th>\n",
              "      <th>Type of Change</th>\n",
              "      <th>Effective Date</th>\n",
              "      <th>Effective Date Note</th>\n",
              "      <th>Effective Date Month</th>\n",
              "      <th>Effective Date Day</th>\n",
              "      <th>Effective Date Year</th>\n",
              "      <th>Statutory Citation</th>\n",
              "      <th>Content</th>\n",
              "      <th>Controlling Law at Beginning of Period (1979)</th>\n",
              "      <th>Age for Minimum Age Laws</th>\n",
              "      <th>Length of Waiting Period (days, handguns)</th>\n",
              "      <th>Additional Context and Notes</th>\n",
              "      <th>Caveats and Ambiguities</th>\n",
              "      <th>Confirmation Code</th>\n",
              "    </tr>\n",
              "  </thead>\n",
              "  <tbody>\n",
              "    <tr>\n",
              "      <th>0</th>\n",
              "      <td>AL1001</td>\n",
              "      <td>Alabama</td>\n",
              "      <td>AL</td>\n",
              "      <td>Background Checks for private sales - handguns and long guns</td>\n",
              "      <td>NaN</td>\n",
              "      <td>NaN</td>\n",
              "      <td>NaN</td>\n",
              "      <td>NaN</td>\n",
              "      <td>NaN</td>\n",
              "      <td>NaN</td>\n",
              "      <td>NaN</td>\n",
              "      <td>NaN</td>\n",
              "      <td>No law requiring background checks for private sales of handguns or long guns</td>\n",
              "      <td>1.0</td>\n",
              "      <td>NaN</td>\n",
              "      <td>NaN</td>\n",
              "      <td>NaN</td>\n",
              "      <td>NaN</td>\n",
              "      <td>NaN</td>\n",
              "    </tr>\n",
              "  </tbody>\n",
              "</table>\n",
              "</div>"
            ],
            "text/plain": [
              "   Law ID    State State Postal Abbreviation  \\\n",
              "0  AL1001  Alabama  AL                         \n",
              "\n",
              "                                                    Type of Law Effect  \\\n",
              "0  Background Checks for private sales - handguns and long guns  NaN     \n",
              "\n",
              "  Type of Change Effective Date Effective Date Note  Effective Date Month  \\\n",
              "0  NaN            NaN            NaN                NaN                     \n",
              "\n",
              "   Effective Date Day  Effective Date Year Statutory Citation  \\\n",
              "0 NaN                 NaN                   NaN                 \n",
              "\n",
              "                                                                         Content  \\\n",
              "0  No law requiring background checks for private sales of handguns or long guns   \n",
              "\n",
              "   Controlling Law at Beginning of Period (1979) Age for Minimum Age Laws  \\\n",
              "0  1.0                                            NaN                       \n",
              "\n",
              "  Length of Waiting Period (days, handguns) Additional Context and Notes  \\\n",
              "0  NaN                                       NaN                           \n",
              "\n",
              "  Caveats and Ambiguities Confirmation Code  \n",
              "0  NaN                     NaN               "
            ]
          },
          "metadata": {
            "tags": []
          },
          "execution_count": 124
        }
      ]
    },
    {
      "cell_type": "markdown",
      "metadata": {
        "id": "DdPB2blNvu9_",
        "colab_type": "text"
      },
      "source": [
        "The dataset is rich in providing key insights into what type of law is implemented in each state, from when it has been effective etc. For our analysis our focus has been on innate Effect of the law i.e. whether it is Restrictive or Permissive in its nature.\n",
        "\n",
        "Eg - Dealer licensing of handguns is Restrictive in Alabama whereas carrying a concealed weapon (CCW) is Permissive."
      ]
    },
    {
      "cell_type": "code",
      "metadata": {
        "id": "bUFd-2-QuuiF",
        "colab_type": "code",
        "outputId": "2bab20e0-222e-48ab-a8c9-31812cbec045",
        "colab": {
          "base_uri": "https://localhost:8080/",
          "height": 33
        }
      },
      "source": [
        "rand_state_df['Effect'].unique()"
      ],
      "execution_count": 0,
      "outputs": [
        {
          "output_type": "execute_result",
          "data": {
            "text/plain": [
              "array([nan, 'Permissive', 'Restrictive'], dtype=object)"
            ]
          },
          "metadata": {
            "tags": []
          },
          "execution_count": 125
        }
      ]
    },
    {
      "cell_type": "markdown",
      "metadata": {
        "id": "APaHSwf9uqC7",
        "colab_type": "text"
      },
      "source": [
        "We extracted the Total number of Restrictive and Total number of Permissive for each state in a separate file to have aggregated values for these. "
      ]
    },
    {
      "cell_type": "code",
      "metadata": {
        "id": "qW2QzQVbxA6k",
        "colab_type": "code",
        "colab": {}
      },
      "source": [
        "# read state Gun Law data\n",
        "\n",
        "stringency_df = pd.read_csv('https://raw.githubusercontent.com/strivedi2/Gun-Violence-in-United-States/master/state_stringency.csv')"
      ],
      "execution_count": 0,
      "outputs": []
    },
    {
      "cell_type": "code",
      "metadata": {
        "id": "_w0LqSBWg2If",
        "colab_type": "code",
        "outputId": "d85df682-f011-42aa-8dec-00e521ddc541",
        "colab": {
          "base_uri": "https://localhost:8080/",
          "height": 197
        }
      },
      "source": [
        "stringency_df.head()"
      ],
      "execution_count": 0,
      "outputs": [
        {
          "output_type": "execute_result",
          "data": {
            "text/html": [
              "<div>\n",
              "<style scoped>\n",
              "    .dataframe tbody tr th:only-of-type {\n",
              "        vertical-align: middle;\n",
              "    }\n",
              "\n",
              "    .dataframe tbody tr th {\n",
              "        vertical-align: top;\n",
              "    }\n",
              "\n",
              "    .dataframe thead th {\n",
              "        text-align: right;\n",
              "    }\n",
              "</style>\n",
              "<table border=\"1\" class=\"dataframe\">\n",
              "  <thead>\n",
              "    <tr style=\"text-align: right;\">\n",
              "      <th></th>\n",
              "      <th>State</th>\n",
              "      <th>Permissive</th>\n",
              "      <th>Restrictive</th>\n",
              "    </tr>\n",
              "  </thead>\n",
              "  <tbody>\n",
              "    <tr>\n",
              "      <th>0</th>\n",
              "      <td>Alabama</td>\n",
              "      <td>5</td>\n",
              "      <td>5</td>\n",
              "    </tr>\n",
              "    <tr>\n",
              "      <th>1</th>\n",
              "      <td>Alaska</td>\n",
              "      <td>4</td>\n",
              "      <td>3</td>\n",
              "    </tr>\n",
              "    <tr>\n",
              "      <th>2</th>\n",
              "      <td>Arizona</td>\n",
              "      <td>4</td>\n",
              "      <td>5</td>\n",
              "    </tr>\n",
              "    <tr>\n",
              "      <th>3</th>\n",
              "      <td>Arkansas</td>\n",
              "      <td>2</td>\n",
              "      <td>3</td>\n",
              "    </tr>\n",
              "    <tr>\n",
              "      <th>4</th>\n",
              "      <td>California</td>\n",
              "      <td>2</td>\n",
              "      <td>27</td>\n",
              "    </tr>\n",
              "  </tbody>\n",
              "</table>\n",
              "</div>"
            ],
            "text/plain": [
              "        State  Permissive  Restrictive\n",
              "0  Alabama     5           5          \n",
              "1  Alaska      4           3          \n",
              "2  Arizona     4           5          \n",
              "3  Arkansas    2           3          \n",
              "4  California  2           27         "
            ]
          },
          "metadata": {
            "tags": []
          },
          "execution_count": 127
        }
      ]
    },
    {
      "cell_type": "markdown",
      "metadata": {
        "id": "VN9P1HOV7aR0",
        "colab_type": "text"
      },
      "source": [
        "This dataset was merged with the state dataset to analyze Gun incident in light of governing gun laws in each state."
      ]
    },
    {
      "cell_type": "code",
      "metadata": {
        "id": "k5sMwGHZujZQ",
        "colab_type": "code",
        "colab": {}
      },
      "source": [
        "#add the above dataframes as new columns in 'state' dataframe \n",
        "\n",
        "law_incident_df = state.merge(stringency_df, how='left', on='State')"
      ],
      "execution_count": 0,
      "outputs": []
    },
    {
      "cell_type": "code",
      "metadata": {
        "id": "bZ-E1ufr8IU4",
        "colab_type": "code",
        "outputId": "e76d525c-3ebf-4b52-f5f2-d4bbcae07f68",
        "colab": {
          "base_uri": "https://localhost:8080/",
          "height": 77
        }
      },
      "source": [
        "law_incident_df.head(1)"
      ],
      "execution_count": 0,
      "outputs": [
        {
          "output_type": "execute_result",
          "data": {
            "text/html": [
              "<div>\n",
              "<style scoped>\n",
              "    .dataframe tbody tr th:only-of-type {\n",
              "        vertical-align: middle;\n",
              "    }\n",
              "\n",
              "    .dataframe tbody tr th {\n",
              "        vertical-align: top;\n",
              "    }\n",
              "\n",
              "    .dataframe thead th {\n",
              "        text-align: right;\n",
              "    }\n",
              "</style>\n",
              "<table border=\"1\" class=\"dataframe\">\n",
              "  <thead>\n",
              "    <tr style=\"text-align: right;\">\n",
              "      <th></th>\n",
              "      <th>State</th>\n",
              "      <th>Gun_Deaths</th>\n",
              "      <th>Population_2017</th>\n",
              "      <th>TotalGuns</th>\n",
              "      <th>GunDeathsPer100K</th>\n",
              "      <th>GunsPer100People</th>\n",
              "      <th>MassShootingDeaths</th>\n",
              "      <th>SuicideDeaths</th>\n",
              "      <th>AccidentalDeaths</th>\n",
              "      <th>Gunsowned_range</th>\n",
              "      <th>Permissive</th>\n",
              "      <th>Restrictive</th>\n",
              "    </tr>\n",
              "  </thead>\n",
              "  <tbody>\n",
              "    <tr>\n",
              "      <th>0</th>\n",
              "      <td>Alabama</td>\n",
              "      <td>544</td>\n",
              "      <td>4,874,747</td>\n",
              "      <td>161,641</td>\n",
              "      <td>11.159554</td>\n",
              "      <td>3.315885</td>\n",
              "      <td>6.0</td>\n",
              "      <td>63.0</td>\n",
              "      <td>14</td>\n",
              "      <td>(3.0, 5.0]</td>\n",
              "      <td>5</td>\n",
              "      <td>5</td>\n",
              "    </tr>\n",
              "  </tbody>\n",
              "</table>\n",
              "</div>"
            ],
            "text/plain": [
              "     State Gun_Deaths Population_2017 TotalGuns  GunDeathsPer100K   \\\n",
              "0  Alabama  544        4,874,747       161,641   11.159554           \n",
              "\n",
              "   GunsPer100People  MassShootingDeaths  SuicideDeaths  AccidentalDeaths  \\\n",
              "0  3.315885          6.0                 63.0           14                 \n",
              "\n",
              "  Gunsowned_range  Permissive  Restrictive  \n",
              "0  (3.0, 5.0]      5           5            "
            ]
          },
          "metadata": {
            "tags": []
          },
          "execution_count": 129
        }
      ]
    },
    {
      "cell_type": "markdown",
      "metadata": {
        "id": "oztF98en-ef3",
        "colab_type": "text"
      },
      "source": [
        "As a priliminary analysis we roughly plotted the figures to get an idea of presence a trend or pattern if any.\n"
      ]
    },
    {
      "cell_type": "code",
      "metadata": {
        "id": "sejpQV4e_rYY",
        "colab_type": "code",
        "outputId": "dd50c21d-46e4-4a80-c104-507c35b6426a",
        "colab": {
          "base_uri": "https://localhost:8080/",
          "height": 829
        }
      },
      "source": [
        "from IPython.display import Image\n",
        "from IPython.display import Image,display\n",
        "from IPython.core.display import display, HTML\n",
        "display(HTML('<img src=\"https://raw.githubusercontent.com/strivedi2/Gun-Violence-in-United-States/master/Gun_Laws_Incidents_PriAnalysis.PNG\" style=\"width=100px;\"/>'))"
      ],
      "execution_count": 0,
      "outputs": [
        {
          "output_type": "display_data",
          "data": {
            "text/html": [
              "<img src=\"https://raw.githubusercontent.com/strivedi2/Gun-Violence-in-United-States/master/Gun_Laws_Incidents_PriAnalysis.PNG\" style=\"width=100px;\"/>"
            ],
            "text/plain": [
              "<IPython.core.display.HTML object>"
            ]
          },
          "metadata": {
            "tags": []
          }
        }
      ]
    },
    {
      "cell_type": "markdown",
      "metadata": {
        "id": "OM16ei0QAqnz",
        "colab_type": "text"
      },
      "source": [
        "From above graph we felt that instead of communicating two different parameters in form of Restrictive and Permissive, its more appropriate to have one derived field that holds the essence of both. Hence, we created a calculated field called Stringency Score to depict how stringent or strict the laws are in any given state. \n",
        "<br>\n",
        "<br>\n",
        "A positive Stringency Score infers that the state has more Restrictive laws in comparison to Permissive laws which implies that the State authorities hold a very strong opinion in controlling the Gun incidents through policy changes. On the other hand, a negative Stringency Score infers that state is lenient towards Guns incidents.\n"
      ]
    },
    {
      "cell_type": "code",
      "metadata": {
        "id": "BRmMJQ3o8LNs",
        "colab_type": "code",
        "colab": {}
      },
      "source": [
        "law_incident_df['Stringency_score'] = law_incident_df['Restrictive'] - law_incident_df['Permissive']"
      ],
      "execution_count": 0,
      "outputs": []
    },
    {
      "cell_type": "code",
      "metadata": {
        "id": "tDLrPBfN-Lcs",
        "colab_type": "code",
        "outputId": "891fd23a-08e8-4efa-8cb6-c00c90c37ccd",
        "colab": {
          "base_uri": "https://localhost:8080/",
          "height": 97
        }
      },
      "source": [
        "law_incident_df.head(1)"
      ],
      "execution_count": 0,
      "outputs": [
        {
          "output_type": "execute_result",
          "data": {
            "text/html": [
              "<div>\n",
              "<style scoped>\n",
              "    .dataframe tbody tr th:only-of-type {\n",
              "        vertical-align: middle;\n",
              "    }\n",
              "\n",
              "    .dataframe tbody tr th {\n",
              "        vertical-align: top;\n",
              "    }\n",
              "\n",
              "    .dataframe thead th {\n",
              "        text-align: right;\n",
              "    }\n",
              "</style>\n",
              "<table border=\"1\" class=\"dataframe\">\n",
              "  <thead>\n",
              "    <tr style=\"text-align: right;\">\n",
              "      <th></th>\n",
              "      <th>State</th>\n",
              "      <th>Gun_Deaths</th>\n",
              "      <th>Population_2017</th>\n",
              "      <th>TotalGuns</th>\n",
              "      <th>GunDeathsPer100K</th>\n",
              "      <th>GunsPer100People</th>\n",
              "      <th>MassShootingDeaths</th>\n",
              "      <th>SuicideDeaths</th>\n",
              "      <th>AccidentalDeaths</th>\n",
              "      <th>Gunsowned_range</th>\n",
              "      <th>Permissive</th>\n",
              "      <th>Restrictive</th>\n",
              "      <th>Stringency_score</th>\n",
              "    </tr>\n",
              "  </thead>\n",
              "  <tbody>\n",
              "    <tr>\n",
              "      <th>0</th>\n",
              "      <td>Alabama</td>\n",
              "      <td>544</td>\n",
              "      <td>4,874,747</td>\n",
              "      <td>161,641</td>\n",
              "      <td>11.159554</td>\n",
              "      <td>3.315885</td>\n",
              "      <td>6.0</td>\n",
              "      <td>63.0</td>\n",
              "      <td>14</td>\n",
              "      <td>(3.0, 5.0]</td>\n",
              "      <td>5</td>\n",
              "      <td>5</td>\n",
              "      <td>0</td>\n",
              "    </tr>\n",
              "  </tbody>\n",
              "</table>\n",
              "</div>"
            ],
            "text/plain": [
              "     State Gun_Deaths Population_2017 TotalGuns  GunDeathsPer100K   \\\n",
              "0  Alabama  544        4,874,747       161,641   11.159554           \n",
              "\n",
              "   GunsPer100People  MassShootingDeaths  SuicideDeaths  AccidentalDeaths  \\\n",
              "0  3.315885          6.0                 63.0           14                 \n",
              "\n",
              "  Gunsowned_range  Permissive  Restrictive  Stringency_score  \n",
              "0  (3.0, 5.0]      5           5            0                 "
            ]
          },
          "metadata": {
            "tags": []
          },
          "execution_count": 132
        }
      ]
    },
    {
      "cell_type": "markdown",
      "metadata": {
        "id": "xbcVzfMlHbO1",
        "colab_type": "text"
      },
      "source": [
        "This dataset was then used to create the Visualizations in Tableau for this analysis."
      ]
    },
    {
      "cell_type": "markdown",
      "metadata": {
        "id": "AacG9dWRIYWC",
        "colab_type": "text"
      },
      "source": [
        "### State's Gun Deaths & Stringency Score Analysis"
      ]
    },
    {
      "cell_type": "markdown",
      "metadata": {
        "id": "Ck4G6de9NFZ0",
        "colab_type": "text"
      },
      "source": [
        "**Preliminary Analysis**-  To identify if there is any underlying relationship between the Gun deaths and restrictiveness of the policies in state we started with a correlation plot. There was no apparent relationship visible from the chart. We could see the oulier in the data like California that has the highest number of restrictive laws  and District of Columbia that has the highest number of Gun deaths per 100K."
      ]
    },
    {
      "cell_type": "code",
      "metadata": {
        "id": "zgpsVxhnIvBC",
        "colab_type": "code",
        "outputId": "2f69e0ea-9a8b-44db-eac8-a8a389a7067c",
        "colab": {
          "base_uri": "https://localhost:8080/",
          "height": 714
        }
      },
      "source": [
        "from IPython.display import Image\n",
        "from IPython.display import Image,display\n",
        "from IPython.core.display import display, HTML\n",
        "display(HTML('<img src=\"https://raw.githubusercontent.com/strivedi2/Gun-Violence-in-United-States/master/GunDeaths_StringencyScore_PriAnalysis.PNG\" style=\"width=50px;\"/>'))"
      ],
      "execution_count": 0,
      "outputs": [
        {
          "output_type": "display_data",
          "data": {
            "text/html": [
              "<img src=\"https://raw.githubusercontent.com/strivedi2/Gun-Violence-in-United-States/master/GunDeaths_StringencyScore_PriAnalysis.PNG\" style=\"width=50px;\"/>"
            ],
            "text/plain": [
              "<IPython.core.display.HTML object>"
            ]
          },
          "metadata": {
            "tags": []
          }
        }
      ]
    },
    {
      "cell_type": "code",
      "metadata": {
        "id": "CT-LfM7vaDkw",
        "colab_type": "code",
        "outputId": "95f065b2-8897-43f3-d4e7-2d86e31a93c1",
        "colab": {
          "base_uri": "https://localhost:8080/",
          "height": 626
        }
      },
      "source": [
        "from IPython.display import Image\n",
        "from IPython.display import Image,display\n",
        "from IPython.core.display import display, HTML\n",
        "display(HTML('<img src=\"https://raw.githubusercontent.com/strivedi2/Gun-Violence-in-United-States/master/GunDeathsVsGunLaws_V1.PNG\" style=\"width=50px;\"/>'))"
      ],
      "execution_count": 0,
      "outputs": [
        {
          "output_type": "display_data",
          "data": {
            "text/html": [
              "<img src=\"https://raw.githubusercontent.com/strivedi2/Gun-Violence-in-United-States/master/GunDeathsVsGunLaws_V1.PNG\" style=\"width=50px;\"/>"
            ],
            "text/plain": [
              "<IPython.core.display.HTML object>"
            ]
          },
          "metadata": {
            "tags": []
          }
        }
      ]
    },
    {
      "cell_type": "markdown",
      "metadata": {
        "id": "30IcpT0GPrsB",
        "colab_type": "text"
      },
      "source": [
        "The view is sorted by Gun Death sum and filtered on Stringency Score. \n",
        "<br>\n",
        "**Key Insight** - Southern states along the Mississippi River like Louisiana, Mississippi, Alabama, Tennessee and Arkansas currently are in top 10 for firearm deaths. One legislative similarity that  these states share is that none of them require license, registration or permit to buy a gun, though there are dozens of other states with the same regulations. Even after staggering Gun deaths being reported in the states, their approach to Gun policies is very lenient. \n"
      ]
    },
    {
      "cell_type": "markdown",
      "metadata": {
        "id": "KH-h2TXWIYkh",
        "colab_type": "text"
      },
      "source": [
        "### State's Mass Shooting & Stringency Score Analysis"
      ]
    },
    {
      "cell_type": "markdown",
      "metadata": {
        "id": "lmKCs6H2NAZP",
        "colab_type": "text"
      },
      "source": [
        "**Preliminary Analysis**-  Similar to Gun deaths scenario, there was no apparent relationship visible from the correlation chart. We could see the outlier in the data like California that has the highest number of restrictive laws  and Texas that has the highest number of Mass shooting."
      ]
    },
    {
      "cell_type": "code",
      "metadata": {
        "id": "kwzfWDVNIv1w",
        "colab_type": "code",
        "outputId": "6929a15f-2b25-41b8-b7ee-4d25abe6e434",
        "colab": {
          "base_uri": "https://localhost:8080/",
          "height": 819
        }
      },
      "source": [
        "from IPython.display import Image\n",
        "from IPython.display import Image,display\n",
        "from IPython.core.display import display, HTML\n",
        "display(HTML('<img src=\"https://raw.githubusercontent.com/strivedi2/Gun-Violence-in-United-States/master/Shooting_StringencyScore_PriAnalysis.PNG\" style=\"width=100px;\"/>'))"
      ],
      "execution_count": 0,
      "outputs": [
        {
          "output_type": "display_data",
          "data": {
            "text/html": [
              "<img src=\"https://raw.githubusercontent.com/strivedi2/Gun-Violence-in-United-States/master/Shooting_StringencyScore_PriAnalysis.PNG\" style=\"width=100px;\"/>"
            ],
            "text/plain": [
              "<IPython.core.display.HTML object>"
            ]
          },
          "metadata": {
            "tags": []
          }
        }
      ]
    },
    {
      "cell_type": "code",
      "metadata": {
        "id": "P1jNQTqobkSl",
        "colab_type": "code",
        "outputId": "33f3cc95-196d-4ec6-f801-5bbb0b13a370",
        "colab": {
          "base_uri": "https://localhost:8080/",
          "height": 638
        }
      },
      "source": [
        "from IPython.display import Image\n",
        "from IPython.display import Image,display\n",
        "from IPython.core.display import display, HTML\n",
        "display(HTML('<img src=\"https://raw.githubusercontent.com/strivedi2/Gun-Violence-in-United-States/master/MassShootsVsGunLaws_V1.PNG\" style=\"width=100px;\"/>'))"
      ],
      "execution_count": 0,
      "outputs": [
        {
          "output_type": "display_data",
          "data": {
            "text/html": [
              "<img src=\"https://raw.githubusercontent.com/strivedi2/Gun-Violence-in-United-States/master/MassShootsVsGunLaws_V1.PNG\" style=\"width=100px;\"/>"
            ],
            "text/plain": [
              "<IPython.core.display.HTML object>"
            ]
          },
          "metadata": {
            "tags": []
          }
        }
      ]
    },
    {
      "cell_type": "markdown",
      "metadata": {
        "id": "-vEIGPWQbqEG",
        "colab_type": "text"
      },
      "source": [
        "The view is sorted on the basis of Mass Shooting Deaths sum and filtered on Stringency Score. \n",
        "<br>\n",
        "**Key Insight**- Looking at the top states with highest Mass shooting we can say that even with Restrictive gun policies as stringent as California's, the mass shooting have occurred in theses states . Thus it can't be said that more Restrictive policies can be the solution for dealing with Mass shootings."
      ]
    },
    {
      "cell_type": "markdown",
      "metadata": {
        "id": "XLUjzKVPKYri",
        "colab_type": "text"
      },
      "source": [
        "**The visualization can be viewed here**: [chart](https://public.tableau.com/profile/prachisharma#!/vizhome/StateGunLawsIncidentsAnalysis/AnalyzingGunLawsandGunIncidentsrelationship?publish=yes)\n"
      ]
    },
    {
      "cell_type": "markdown",
      "metadata": {
        "id": "JLEXGPuNDqan",
        "colab_type": "text"
      },
      "source": [
        "**Limitation in the analysis**-\n",
        "\n",
        "- We found that there are a lot of records that have Null value in Effects column. For some rows, a certain law we observed the Effect type was restrictive and at other places it was found to be Null. This may have affected the analysis. \n",
        "\n",
        "- It's hard to classify the seriousness of each law that is defined Restrictive or Permissive by a state authority. The Stringency score field only gives us insight into the weightage given to policies but it is subject to what state authorities deem as restrictive and permissive and this could be different for each state.\n",
        "\n",
        "\n",
        "**Summary: Relationship between Gun related Incidents and Gun Laws in states of US**\n",
        "\n",
        "The issue of gun violence is extremely complicated and varied across state laws and local culture. Many states support that strict firearm regulation is a necessary measure in preventing and reducing gun deaths; however, many other states do not take this stance. \n",
        "\n",
        "From above analysis we could see that states with strict gun policies were major victims of Mass shootings as well as states with lenient policies reported highest number of Gun deaths. This implies that restrictive laws are not necessarily impacting gun violence as many expect them to.\n",
        "\n",
        "\n",
        "Though facts may vary for gun violence, they don’t necessarily point toward a catch-all solution of controlling them through policies. Until the solution is found, we can only contribute to this cause by staying knowledgeable about the issues and by practicing responsible gun ownership."
      ]
    },
    {
      "cell_type": "markdown",
      "metadata": {
        "id": "YbnHJbcOs3fk",
        "colab_type": "text"
      },
      "source": [
        "##Insight 3: Relationship between population and gun ownership across US and other developed countries\n",
        "\n",
        "During our exploratory phase, we identified that compared to other developed countires, US was the highest in terms of average firearms per 100 people. \n",
        "\n",
        "**Preliminary Analysis** - To identify  whether highly populated developed country has higher rate of gun violence. \n",
        "\n",
        "We then identified a population and growth dataset for the year 2019 [here](http://worldpopulationreview.com/countries/developed-countries/). \n",
        "\n",
        "As we had gun ownership data for the year 2012, we used the growth rate mentioned in [this](http://worldpopulationreview.com/countries/developed-countries/) dataset to calculate the population for the year 2012. The assumption made was that the growth rate was constant for the last 10 years. This calculation was performed in the local excel file. [Here](https://github.com/strivedi2/Gun-Violence-in-United-States/blob/master/population.csv) is the csv file with calculated population of the year 2012 which will be further used for our analysis."
      ]
    },
    {
      "cell_type": "code",
      "metadata": {
        "id": "Ph2exhqZs_6O",
        "colab_type": "code",
        "colab": {}
      },
      "source": [
        "# Reading the csv file\n",
        "pop = pd.read_csv('https://raw.githubusercontent.com/strivedi2/Gun-Violence-in-United-States/master/population.csv')"
      ],
      "execution_count": 0,
      "outputs": []
    },
    {
      "cell_type": "code",
      "metadata": {
        "id": "I-9NLTfDvy7V",
        "colab_type": "code",
        "outputId": "a2b7d918-55aa-425f-eb89-a71e978aabb0",
        "colab": {
          "base_uri": "https://localhost:8080/",
          "height": 137
        }
      },
      "source": [
        "pop.head(3)"
      ],
      "execution_count": 0,
      "outputs": [
        {
          "output_type": "execute_result",
          "data": {
            "text/html": [
              "<div>\n",
              "<style scoped>\n",
              "    .dataframe tbody tr th:only-of-type {\n",
              "        vertical-align: middle;\n",
              "    }\n",
              "\n",
              "    .dataframe tbody tr th {\n",
              "        vertical-align: top;\n",
              "    }\n",
              "\n",
              "    .dataframe thead th {\n",
              "        text-align: right;\n",
              "    }\n",
              "</style>\n",
              "<table border=\"1\" class=\"dataframe\">\n",
              "  <thead>\n",
              "    <tr style=\"text-align: right;\">\n",
              "      <th></th>\n",
              "      <th>cca2</th>\n",
              "      <th>name</th>\n",
              "      <th>area</th>\n",
              "      <th>pop2019</th>\n",
              "      <th>GrowthRate</th>\n",
              "      <th>pop2012</th>\n",
              "    </tr>\n",
              "  </thead>\n",
              "  <tbody>\n",
              "    <tr>\n",
              "      <th>0</th>\n",
              "      <td>IS</td>\n",
              "      <td>Iceland</td>\n",
              "      <td>103000</td>\n",
              "      <td>340.566</td>\n",
              "      <td>1.008248</td>\n",
              "      <td>321.536136</td>\n",
              "    </tr>\n",
              "    <tr>\n",
              "      <th>1</th>\n",
              "      <td>LU</td>\n",
              "      <td>Luxembourg</td>\n",
              "      <td>2586</td>\n",
              "      <td>596.992</td>\n",
              "      <td>1.011301</td>\n",
              "      <td>551.831596</td>\n",
              "    </tr>\n",
              "    <tr>\n",
              "      <th>2</th>\n",
              "      <td>CY</td>\n",
              "      <td>Cyprus</td>\n",
              "      <td>9251</td>\n",
              "      <td>1198.427</td>\n",
              "      <td>1.007856</td>\n",
              "      <td>1134.542567</td>\n",
              "    </tr>\n",
              "  </tbody>\n",
              "</table>\n",
              "</div>"
            ],
            "text/plain": [
              "  cca2        name    area   pop2019  GrowthRate      pop2012\n",
              "0  IS   Iceland     103000  340.566   1.008248    321.536136 \n",
              "1  LU   Luxembourg  2586    596.992   1.011301    551.831596 \n",
              "2  CY   Cyprus      9251    1198.427  1.007856    1134.542567"
            ]
          },
          "metadata": {
            "tags": []
          },
          "execution_count": 138
        }
      ]
    },
    {
      "cell_type": "code",
      "metadata": {
        "id": "ykjRbMLPv5J5",
        "colab_type": "code",
        "outputId": "cbd96b55-9d21-4573-d2f7-e1e08da19991",
        "colab": {
          "base_uri": "https://localhost:8080/",
          "height": 133
        }
      },
      "source": [
        "# Checking for any na values\n",
        "pop.isna().sum()"
      ],
      "execution_count": 0,
      "outputs": [
        {
          "output_type": "execute_result",
          "data": {
            "text/plain": [
              "cca2          0\n",
              "name          0\n",
              "area          0\n",
              "pop2019       0\n",
              "GrowthRate    0\n",
              "pop2012       0\n",
              "dtype: int64"
            ]
          },
          "metadata": {
            "tags": []
          },
          "execution_count": 139
        }
      ]
    },
    {
      "cell_type": "code",
      "metadata": {
        "id": "liy6VthnGVTs",
        "colab_type": "code",
        "colab": {}
      },
      "source": [
        "pop.rename(columns={'name':'Country'},inplace=True)"
      ],
      "execution_count": 0,
      "outputs": []
    },
    {
      "cell_type": "code",
      "metadata": {
        "id": "K-7ubkU_Gu9B",
        "colab_type": "code",
        "colab": {}
      },
      "source": [
        "# Removing columns that will not be used for any analysis\n",
        "pop.drop(columns = ['cca2', 'area','pop2019'], inplace = True)"
      ],
      "execution_count": 0,
      "outputs": []
    },
    {
      "cell_type": "code",
      "metadata": {
        "id": "F8nzang2GU_F",
        "colab_type": "code",
        "colab": {}
      },
      "source": [
        "# Merging the existing dataset with population dataset\n",
        "gun_ownership_pop = gun_ownership.merge(pop, how = \"inner\", on=\"Country\")"
      ],
      "execution_count": 0,
      "outputs": []
    },
    {
      "cell_type": "code",
      "metadata": {
        "id": "yVJ-uECDwQ4o",
        "colab_type": "code",
        "outputId": "91e0ef67-0c5c-4ff9-dd46-e47ad0df430a",
        "colab": {
          "base_uri": "https://localhost:8080/",
          "height": 124
        }
      },
      "source": [
        "gun_ownership_pop.head(2)"
      ],
      "execution_count": 0,
      "outputs": [
        {
          "output_type": "execute_result",
          "data": {
            "text/html": [
              "<div>\n",
              "<style scoped>\n",
              "    .dataframe tbody tr th:only-of-type {\n",
              "        vertical-align: middle;\n",
              "    }\n",
              "\n",
              "    .dataframe tbody tr th {\n",
              "        vertical-align: top;\n",
              "    }\n",
              "\n",
              "    .dataframe thead th {\n",
              "        text-align: right;\n",
              "    }\n",
              "</style>\n",
              "<table border=\"1\" class=\"dataframe\">\n",
              "  <thead>\n",
              "    <tr style=\"text-align: right;\">\n",
              "      <th></th>\n",
              "      <th>Country</th>\n",
              "      <th>Percentage of Homicides by firearm</th>\n",
              "      <th>Number of homicide by firearm</th>\n",
              "      <th>Homicide by firearm rate per 100,000 pop</th>\n",
              "      <th>Average firearms per 100 people</th>\n",
              "      <th>Average total all civilian firearms</th>\n",
              "      <th>GrowthRate</th>\n",
              "      <th>pop2012</th>\n",
              "    </tr>\n",
              "  </thead>\n",
              "  <tbody>\n",
              "    <tr>\n",
              "      <th>0</th>\n",
              "      <td>Australia</td>\n",
              "      <td>11.5</td>\n",
              "      <td>30.0</td>\n",
              "      <td>0.14</td>\n",
              "      <td>15.0</td>\n",
              "      <td>3050000.0</td>\n",
              "      <td>1.012772</td>\n",
              "      <td>22955.962580</td>\n",
              "    </tr>\n",
              "    <tr>\n",
              "      <th>1</th>\n",
              "      <td>Austria</td>\n",
              "      <td>29.5</td>\n",
              "      <td>18.0</td>\n",
              "      <td>0.22</td>\n",
              "      <td>30.4</td>\n",
              "      <td>2500000.0</td>\n",
              "      <td>1.001643</td>\n",
              "      <td>8666.028082</td>\n",
              "    </tr>\n",
              "  </tbody>\n",
              "</table>\n",
              "</div>"
            ],
            "text/plain": [
              "     Country  Percentage of Homicides by firearm  \\\n",
              "0  Australia  11.5                                 \n",
              "1  Austria    29.5                                 \n",
              "\n",
              "   Number of homicide by firearm  Homicide by firearm rate per 100,000 pop  \\\n",
              "0  30.0                           0.14                                       \n",
              "1  18.0                           0.22                                       \n",
              "\n",
              "   Average firearms per 100 people  Average total all civilian firearms  \\\n",
              "0  15.0                             3050000.0                             \n",
              "1  30.4                             2500000.0                             \n",
              "\n",
              "   GrowthRate       pop2012  \n",
              "0  1.012772    22955.962580  \n",
              "1  1.001643    8666.028082   "
            ]
          },
          "metadata": {
            "tags": []
          },
          "execution_count": 143
        }
      ]
    },
    {
      "cell_type": "code",
      "metadata": {
        "id": "IbX94ehkxtsc",
        "colab_type": "code",
        "colab": {}
      },
      "source": [
        "# To create a local copy of the merged file\n",
        "# gun_ownership_pop.to_csv(\"gun_ownership_pop.csv\")"
      ],
      "execution_count": 0,
      "outputs": []
    },
    {
      "cell_type": "markdown",
      "metadata": {
        "id": "urIELYBpw0L3",
        "colab_type": "text"
      },
      "source": [
        "The merged file was then copied on the local machine for developing visualizations in Tableau. The same has been uploaded [here](https://github.com/strivedi2/Gun-Violence-in-United-States/blob/master/gun_ownership_pop.csv)"
      ]
    },
    {
      "cell_type": "code",
      "metadata": {
        "id": "3WsWoNaG0p0A",
        "colab_type": "code",
        "outputId": "57acbda2-8214-4eae-cab2-d012f2fea2a4",
        "colab": {
          "base_uri": "https://localhost:8080/",
          "height": 789
        }
      },
      "source": [
        "from IPython.display import Image\n",
        "from IPython.display import Image,display\n",
        "from IPython.core.display import display, HTML\n",
        "display(HTML('<img src=\"https://raw.githubusercontent.com/strivedi2/Gun-Violence-in-United-States/master/vox.JPG\" style=\"width=100px;\"/>'))"
      ],
      "execution_count": 0,
      "outputs": [
        {
          "output_type": "display_data",
          "data": {
            "text/html": [
              "<img src=\"https://raw.githubusercontent.com/strivedi2/Gun-Violence-in-United-States/master/vox.JPG\" style=\"width=100px;\"/>"
            ],
            "text/plain": [
              "<IPython.core.display.HTML object>"
            ]
          },
          "metadata": {
            "tags": []
          }
        }
      ]
    },
    {
      "cell_type": "markdown",
      "metadata": {
        "id": "xsFJNG1o0rYh",
        "colab_type": "text"
      },
      "source": [
        "As per chart 6 in [vox](https://www.vox.com/policy-and-politics/2017/10/2/16399418/us-gun-violence-statistics-maps-charts) article, we know that Developed countries with more guns also have more gun deaths. \n",
        "\n",
        "The similar trend was seen for countries in our merged dataset as shown in the chart above.\n",
        "\n"
      ]
    },
    {
      "cell_type": "code",
      "metadata": {
        "id": "vnsFrWL1z-Ph",
        "colab_type": "code",
        "outputId": "ae0c6515-f77a-4c29-f88b-5f839bad8738",
        "colab": {
          "base_uri": "https://localhost:8080/",
          "height": 802
        }
      },
      "source": [
        "from IPython.display import Image\n",
        "from IPython.display import Image,display\n",
        "from IPython.core.display import display, HTML\n",
        "display(HTML('<img src=\"https://raw.githubusercontent.com/strivedi2/Gun-Violence-in-United-States/master/go1.JPG\" style=\"width=100px;\"/>'))"
      ],
      "execution_count": 0,
      "outputs": [
        {
          "output_type": "display_data",
          "data": {
            "text/html": [
              "<img src=\"https://raw.githubusercontent.com/strivedi2/Gun-Violence-in-United-States/master/go1.JPG\" style=\"width=100px;\"/>"
            ],
            "text/plain": [
              "<IPython.core.display.HTML object>"
            ]
          },
          "metadata": {
            "tags": []
          }
        }
      ]
    },
    {
      "cell_type": "code",
      "metadata": {
        "id": "Ec-XP1N6z9wQ",
        "colab_type": "code",
        "outputId": "4521ec23-1510-4f67-efff-d8d009a6faf9",
        "colab": {
          "base_uri": "https://localhost:8080/",
          "height": 789
        }
      },
      "source": [
        "from IPython.display import Image\n",
        "from IPython.display import Image,display\n",
        "from IPython.core.display import display, HTML\n",
        "display(HTML('<img src=\"https://raw.githubusercontent.com/strivedi2/Gun-Violence-in-United-States/master/po1.JPG\" style=\"width=100px;\"/>'))"
      ],
      "execution_count": 0,
      "outputs": [
        {
          "output_type": "display_data",
          "data": {
            "text/html": [
              "<img src=\"https://raw.githubusercontent.com/strivedi2/Gun-Violence-in-United-States/master/po1.JPG\" style=\"width=100px;\"/>"
            ],
            "text/plain": [
              "<IPython.core.display.HTML object>"
            ]
          },
          "metadata": {
            "tags": []
          }
        }
      ]
    },
    {
      "cell_type": "markdown",
      "metadata": {
        "id": "vlBKttcr0BLp",
        "colab_type": "text"
      },
      "source": [
        "We can see from the above 2 charts that US is ranked 1 for both gun violence and population compared to all other developed countries. Quick table calculation (Percent of Total was also performed in order to make normalized comparisons)."
      ]
    },
    {
      "cell_type": "markdown",
      "metadata": {
        "id": "8OsAiUY_ycf8",
        "colab_type": "text"
      },
      "source": [
        "We then created a set in Tableau consisting of all other developed countries except US and in order to compare US gun violence and population with other developed countries."
      ]
    },
    {
      "cell_type": "code",
      "metadata": {
        "id": "GpgMtab6wmaa",
        "colab_type": "code",
        "outputId": "e5ee4ddc-8d97-458d-d331-5503f6606488",
        "colab": {
          "base_uri": "https://localhost:8080/",
          "height": 801
        }
      },
      "source": [
        "from IPython.display import Image\n",
        "from IPython.display import Image,display\n",
        "from IPython.core.display import display, HTML\n",
        "display(HTML('<img src=\"https://raw.githubusercontent.com/strivedi2/Gun-Violence-in-United-States/master/comparison.JPG\" style=\"width=100px;\"/>'))"
      ],
      "execution_count": 0,
      "outputs": [
        {
          "output_type": "display_data",
          "data": {
            "text/html": [
              "<img src=\"https://raw.githubusercontent.com/strivedi2/Gun-Violence-in-United-States/master/comparison.JPG\" style=\"width=100px;\"/>"
            ],
            "text/plain": [
              "<IPython.core.display.HTML object>"
            ]
          },
          "metadata": {
            "tags": []
          }
        }
      ]
    },
    {
      "cell_type": "markdown",
      "metadata": {
        "id": "RXlCXp5N2EUg",
        "colab_type": "text"
      },
      "source": [
        "**Key Insight**- High population may not mean higher rate of gun violence incidents.\n",
        "\n",
        "**Summary: Relationship between population and gun ownership in US and other developed countries**\n",
        "\n",
        "We see that developed countries that are highly populated do not have higher rate of gun violence. (28% aprrox. cumulative) <br>\n",
        "Even though, United States' population is 33% (approx.) compared to the cumulative population of other developed countries, its gun ownership rate is significantly higher, leading to high gun violence incidents.\n",
        "\n"
      ]
    },
    {
      "cell_type": "markdown",
      "metadata": {
        "id": "TxKOb0pV4hCq",
        "colab_type": "text"
      },
      "source": [
        "The above visualizations can be found on Tableau public [link](https://public.tableau.com/profile/bharati.malik#!/vizhome/gun_ownership_pop/Story1?publish=yes)."
      ]
    },
    {
      "cell_type": "markdown",
      "metadata": {
        "id": "dkHEJD_7fvUx",
        "colab_type": "text"
      },
      "source": [
        "##**Insight 4: Trend analysis of gun violence incidents, suicides, mass shootings and accidental shootings (2013 - 2018)**"
      ]
    },
    {
      "cell_type": "markdown",
      "metadata": {
        "id": "L-yJnkCegtPh",
        "colab_type": "text"
      },
      "source": [
        "In this analysis, we want to explore whether there is any trend by months & weekdays in following areas:\n",
        "\n",
        "1. Number of incidents \n",
        "2. Number of Suicides\n",
        "3. Number of Mass Shootings\n",
        "4. Number of Accidental Shootings\n",
        "\n",
        "Also, we want to find any relation between any of the above metioned trend"
      ]
    },
    {
      "cell_type": "markdown",
      "metadata": {
        "id": "5CxNGe-ss9C5",
        "colab_type": "text"
      },
      "source": [
        "**1. Most Dangerous Months & Days of gun violencde incidents**"
      ]
    },
    {
      "cell_type": "code",
      "metadata": {
        "id": "BA9KN5Gp51mx",
        "colab_type": "code",
        "outputId": "d9a01a88-bcc1-4654-92d6-9a5ac2adcf82",
        "colab": {
          "base_uri": "https://localhost:8080/",
          "height": 813
        }
      },
      "source": [
        "from IPython.display import Image\n",
        "from IPython.display import Image,display\n",
        "from IPython.core.display import display, HTML\n",
        "display(HTML('<img src=\"https://raw.githubusercontent.com/strivedi2/Gun-Violence-in-United-States/master/Most_Dangerous_Months_days.PNG\"/>'))"
      ],
      "execution_count": 0,
      "outputs": [
        {
          "output_type": "display_data",
          "data": {
            "text/html": [
              "<img src=\"https://raw.githubusercontent.com/strivedi2/Gun-Violence-in-United-States/master/Most_Dangerous_Months_days.PNG\"/>"
            ],
            "text/plain": [
              "<IPython.core.display.HTML object>"
            ]
          },
          "metadata": {
            "tags": []
          }
        }
      ]
    },
    {
      "cell_type": "markdown",
      "metadata": {
        "id": "uSPGiDBUlPrz",
        "colab_type": "text"
      },
      "source": [
        "Above graph is the heat map created to show the trend of gun violence incidents by month & days in the US from 2013 to 2018.\n",
        "\n",
        "**Tableau link for the chart:**[ here](https://public.tableau.com/profile/vikita2152#!/vizhome/MostMassShootingsMonthsDays/MostDangerousDays)\n",
        "\n",
        "**Insight:** From the analysis, it seems start of the year (winter season) is the most dangerous in terms of gun violence incidents. In terms of day for other months,  Saturdays & Sundays are the days when most of the gun violence incidents are commited. \n",
        "\n",
        "\n",
        "**Making of the chart  in Tableau**\n",
        "\n",
        "\n",
        "1.   The Date field is used as column and further used only Month from the Date field\n",
        "2.   The Date field is used as row and further used only Weekday from the Date field\n",
        "3.   The sum of number of gun violence incidents has been used in the mark card as a color to show the intensity of number of gun violence incidents \n",
        "4.  The dark red color indicates highest number of gun violence incidents and the light red color indicates less number of gun violence incidents.\n",
        "5.  Moreover, the heat map also consists of the number representing the exact number of gun violence incident by month and days\n",
        "6.  The legends shows the intensity of the  number of gun violence incidents by color and number range as well (low to high)\n",
        "\n",
        "\n",
        "\n"
      ]
    },
    {
      "cell_type": "markdown",
      "metadata": {
        "id": "Z8434sOk6njl",
        "colab_type": "text"
      },
      "source": [
        "**2. Most Suicidal Months & Days using guns**"
      ]
    },
    {
      "cell_type": "code",
      "metadata": {
        "id": "ZpSOwFKQslHF",
        "colab_type": "code",
        "outputId": "d3c7e6f7-28c4-4502-f139-e8a5b03d2224",
        "colab": {
          "base_uri": "https://localhost:8080/",
          "height": 803
        }
      },
      "source": [
        "from IPython.display import Image\n",
        "from IPython.display import Image,display\n",
        "from IPython.core.display import display, HTML\n",
        "display(HTML('<img src=\"https://raw.githubusercontent.com/strivedi2/Gun-Violence-in-United-States/master/Most_suicidal_months_days.PNG\"/>'))"
      ],
      "execution_count": 0,
      "outputs": [
        {
          "output_type": "display_data",
          "data": {
            "text/html": [
              "<img src=\"https://raw.githubusercontent.com/strivedi2/Gun-Violence-in-United-States/master/Most_suicidal_months_days.PNG\"/>"
            ],
            "text/plain": [
              "<IPython.core.display.HTML object>"
            ]
          },
          "metadata": {
            "tags": []
          }
        }
      ]
    },
    {
      "cell_type": "markdown",
      "metadata": {
        "id": "lb5fl3LD7cKt",
        "colab_type": "text"
      },
      "source": [
        "Above graph is the heat map created to show the trend of suicides using guns by month & days in the US from 2013 to 2018.\n",
        "\n",
        "**Tableau link for the chart:** [here](https://public.tableau.com/profile/vikita2152#!/vizhome/MostMassShootingsMonthsDays/MostSuicidalMonthsDays)\n",
        "\n",
        "\n",
        "**Insight** Generally, we belive that the start of the year is fresh and people start it with great enthusiasm. However, this is not the case here. Surprisingly, from the analysis, people of the US commit more suicides using guns at the start of the year (Jan - March). For suicides, people do not often commit it over weekends but during weekdays\n",
        "\n",
        "\n",
        "**Making of the chart in Tableau**\n",
        "\n",
        "\n",
        "\n",
        "1.   The Date field is used as column and further used only Month from the Date field\n",
        "2.   The Date field is used as row and further used only Weekday from the Date field\n",
        "3.   The sum of number of sicides has been used in the mark card as a color to show the intensity of number of suicides using guns \n",
        "4.  The dark red color indicates highest number of suicides using guns and the light red color indicates less number ofsuicides using guns\n",
        "5.  Moreover, the heat map also consists of the labels representing the exact number of suicides using guns by months and days\n",
        "6.  The legends shows the intensity of the  number of suicides using guns by color and number range as well (low to high)\n"
      ]
    },
    {
      "cell_type": "markdown",
      "metadata": {
        "id": "ZBIvsMfi8aCe",
        "colab_type": "text"
      },
      "source": [
        "**3. Most  Mass Shootings Months & Days**"
      ]
    },
    {
      "cell_type": "code",
      "metadata": {
        "id": "XnfzmWN19MhD",
        "colab_type": "code",
        "outputId": "f2b923d8-0ad5-48ef-faba-3e3baa9c0e04",
        "colab": {
          "base_uri": "https://localhost:8080/",
          "height": 800
        }
      },
      "source": [
        "from IPython.display import Image\n",
        "from IPython.display import Image,display\n",
        "from IPython.core.display import display, HTML\n",
        "display(HTML('<img src=\"https://raw.githubusercontent.com/strivedi2/Gun-Violence-in-United-States/master/Most_massshootings_months_days.PNG\"/>'))"
      ],
      "execution_count": 0,
      "outputs": [
        {
          "output_type": "display_data",
          "data": {
            "text/html": [
              "<img src=\"https://raw.githubusercontent.com/strivedi2/Gun-Violence-in-United-States/master/Most_massshootings_months_days.PNG\"/>"
            ],
            "text/plain": [
              "<IPython.core.display.HTML object>"
            ]
          },
          "metadata": {
            "tags": []
          }
        }
      ]
    },
    {
      "cell_type": "markdown",
      "metadata": {
        "id": "Ve1eneMo8i1l",
        "colab_type": "text"
      },
      "source": [
        "Above graph is the heat map created to show the trend of mass shootings using by month & days in the US from 2013 to 2018.\n",
        "\n",
        "**Tableau link for the chart:**[here](https://public.tableau.com/profile/vikita2152#!/vizhome/MostMassShootingsMonthsDays/MostMassShootingsMonthsDays)\n",
        "\n",
        "\n",
        "**Insight**  Interestingly, the mass shootings does not occur during the start of the year (winter season). It occurs during the months of summer (June,July & August). This may be due to more people going for vacations at different places around the US and this can instigate more mass shootings in the month of summer. Also, maximum shootings occured during weekends similar to the gun violence inicidents in the US.\n",
        "\n",
        "\n",
        "**Making of the chart in Tableau**\n",
        "\n",
        "\n",
        "\n",
        "1.   The Date field is used as column and further used only Month from the Date field\n",
        "2.   The Date field is used as row and further used only Weekday from the Date field\n",
        "3.   The sum of number of mass shootings has been used in the mark card as a color to show the intensity of number of mas shootings \n",
        "4. The dark red color indicates highest number of mass shootings and the light red color indicates less number of mass shootings\n",
        "5. Moreover, the heat map also consists of the labels representing the exact number of mass shootings by months and days\n",
        "6. The legends shows the intensity of the number of mass shootings using guns by color and number range as well (low to high)\n"
      ]
    },
    {
      "cell_type": "markdown",
      "metadata": {
        "id": "IDddIS09D685",
        "colab_type": "text"
      },
      "source": [
        "**4.Most Accidental Shootings Months & Days**"
      ]
    },
    {
      "cell_type": "code",
      "metadata": {
        "id": "qlYiyFS-Esd8",
        "colab_type": "code",
        "outputId": "47db46f7-866f-4600-ef9a-76df9c473be4",
        "colab": {
          "base_uri": "https://localhost:8080/",
          "height": 799
        }
      },
      "source": [
        "from IPython.display import Image\n",
        "from IPython.display import Image,display\n",
        "from IPython.core.display import display, HTML\n",
        "display(HTML('<img src=\"https://raw.githubusercontent.com/strivedi2/Gun-Violence-in-United-States/master/Most_accidenta_shootings_months_days.PNG\"/>'))"
      ],
      "execution_count": 0,
      "outputs": [
        {
          "output_type": "display_data",
          "data": {
            "text/html": [
              "<img src=\"https://raw.githubusercontent.com/strivedi2/Gun-Violence-in-United-States/master/Most_accidenta_shootings_months_days.PNG\"/>"
            ],
            "text/plain": [
              "<IPython.core.display.HTML object>"
            ]
          },
          "metadata": {
            "tags": []
          }
        }
      ]
    },
    {
      "cell_type": "markdown",
      "metadata": {
        "id": "PGDWBna7GAx-",
        "colab_type": "text"
      },
      "source": [
        "Above graph is the heat map created to show the trend of accidental shootings using by month & days in the US from 2013 to 2018.\n",
        "\n",
        "**Insight**  Generally, accidental shooting trend  would be scattered as it is accidental. However, interestingly, the accidental shootings also occurs maximum during the weekends and in the winter season (Jan - March) with November Sundays as an outlier. \n",
        "\n",
        "**Tableau link for the chart:**[here](https://public.tableau.com/profile/vikita2152#!/vizhome/MostMassShootingsMonthsDays/MostAccidentalShootingsMonthsDays)\n",
        "\n",
        "**Making of the chart in Tableau**\n",
        "\n",
        "\n",
        "\n",
        "1.   The Date field is used as column and further used only Month from the Date field\n",
        "2.   The Date field is used as row and further used only Weekday from the Date field\n",
        "3.   The sum of number of accidental shootings has been used in the mark card as a color to show the intensity of number of accidental shootings\n",
        "4.  The dark red color indicates highest number of accidental shootings and the light red color indicates less number of accidental shootings\n",
        "5. Moreover, the heat map also consists of the labels representing the exact number of accidental shootings by months and days\n",
        "6. The legends shows the intensity of the number of accidental shootings using guns by color and number range as well (low to high)\n"
      ]
    },
    {
      "cell_type": "markdown",
      "metadata": {
        "id": "ckaFd10hIg6d",
        "colab_type": "text"
      },
      "source": [
        "**Summary of the trend anaysis:**\n",
        "\n",
        "With this trend analysis. we found below insights:\n",
        "1. The gun violence incidents are higher in the winter season (Jan - March) and during weekends in general\n",
        "2. The suicides with guns incidents are also higher in the winter seasom (Jan - March). However, they are committed more during the weekdays and not weekends unlike gun violence incidents. \n",
        "3. The mass shootings does not occur more during winter season but they occurs during summer and in general during weekends\n",
        "4. The accidental shootings where one can not expect any trend as such interestingly occurs during winter season similar to the gun violence with November Sundays as an outlier\n",
        "\n",
        "\n"
      ]
    }
  ]
}